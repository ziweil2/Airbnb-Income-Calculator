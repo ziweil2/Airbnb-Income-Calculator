{
 "cells": [
  {
   "cell_type": "markdown",
   "metadata": {},
   "source": [
    "# Overview\n",
    "\n",
    "Now that we have done EDA and gotten a better sense of the data, it's time to fit the model. Again, our goal is to estimate the annual income that an owner can expect from his listing (in New York). Here is a brief description of the datasets we have:\n",
    "\n",
    "1. The listings dataset contains information pertaining to a listing, such as average nightly price, location, and number of bedrooms. \n",
    "2. The reviews dataset contains the text data for each review written, as well as relevant info pertaining to the review( ex. the date it was written on)\n",
    "3. The calendar dataset contains information on availability and price for the next 365 days.\n",
    "\n",
    "Here are some of the high-level findings from the EDA\n",
    "1. "
   ]
  },
  {
   "cell_type": "markdown",
   "metadata": {},
   "source": [
    "# How We Will Model Annual Income\n",
    "\n",
    "The calendar dataset has information on availability for the next 365 days, so based on this information we know how many days in the next year a given listing will be available. Here is how we plan to predict annual income:\n",
    "\n",
    "1. Using the listings dataset and the reviews dataset, create a model for the average nightly price of a listing.\n",
    "2. Using the calendar dataset, find out how many days in the upcoming year the listing will be available for someone to rent.\n",
    "3. Model occupancy rate by using the \"San Francisco Model\" used by the San Francisco Planning Department (described in more detail later).\n",
    "4. Multiply the average price predicted in step 1 by the number of days available (found in step 2) by the occupacy rate (found in step 3) to obtain an estimate for the annual income.\n",
    "\n",
    "\n",
    "First, we will clean the two datasets with significant missing values (listings and calendar). Then, we will do feature engineering on the reviews dataset, coming up with new features based on the review text as well as generating sentiment scores for each review. After that, we will combine the cleaned reviews and listings modify the features (create dummy variables, remove redundant features, etc) so that it's ready for model fitting. Lastly, we will fit the model for average price and use that to estimate annual income (as described above)."
   ]
  },
  {
   "cell_type": "code",
   "execution_count": 1,
   "metadata": {},
   "outputs": [
    {
     "name": "stderr",
     "output_type": "stream",
     "text": [
      "/opt/anaconda3/lib/python3.7/site-packages/IPython/core/interactiveshell.py:3058: DtypeWarning: Columns (61,62,94,95) have mixed types. Specify dtype option on import or set low_memory=False.\n",
      "  interactivity=interactivity, compiler=compiler, result=result)\n"
     ]
    }
   ],
   "source": [
    "import numpy as np\n",
    "import pandas as pd\n",
    "import re\n",
    "from sklearn.impute import SimpleImputer\n",
    "import IPython\n",
    "import numpy as np\n",
    "import scipy as sp\n",
    "import pandas as pd\n",
    "import matplotlib\n",
    "import sklearn\n",
    "import matplotlib.pyplot as plt\n",
    "import seaborn as sns\n",
    "import re\n",
    "import string\n",
    "from wordcloud import WordCloud, STOPWORDS\n",
    "from re import sub\n",
    "import scipy.stats as stats\n",
    "from sklearn import preprocessing\n",
    "from statsmodels.stats.outliers_influence import variance_inflation_factor\n",
    "from vaderSentiment.vaderSentiment import SentimentIntensityAnalyzer\n",
    "import category_encoders as ce\n",
    "from sklearn.model_selection import train_test_split\n",
    "from sklearn.model_selection import RandomizedSearchCV\n",
    "from sklearn.model_selection import GridSearchCV\n",
    "\n",
    "import statsmodels.api as sm\n",
    "from sklearn.linear_model import LinearRegression\n",
    "from sklearn.linear_model import Lasso\n",
    "from sklearn.ensemble import RandomForestRegressor\n",
    "from sklearn.ensemble import GradientBoostingRegressor\n",
    "\n",
    "\n",
    "## load in datasets\n",
    "data_calendar = pd.read_csv('./Data/calendar.csv')\n",
    "listings_full = pd.read_csv('./Data/listings_full.csv')\n",
    "reviews_full = pd.read_csv('./Data/reviews_full.csv')"
   ]
  },
  {
   "cell_type": "markdown",
   "metadata": {},
   "source": [
    "# Data Cleaning"
   ]
  },
  {
   "cell_type": "markdown",
   "metadata": {},
   "source": [
    "## Calendar\n",
    "\n",
    "For calendar, we will aggregate the dataset by listing_id. There are some dates with missing price information, but since we only want the availability information from this dataset (we have information on price in the listings dataset), there's no need to drop rows with missing values since there are no missing values for availability. \n",
    "The most important column in the aggregated dataset is \"annual_availability\", which is the number of days available in the next 365 days. We will use this information to estimate annual income."
   ]
  },
  {
   "cell_type": "code",
   "execution_count": 2,
   "metadata": {
    "scrolled": true
   },
   "outputs": [
    {
     "data": {
      "text/plain": [
       "listing_id          0\n",
       "date                0\n",
       "available           0\n",
       "price             364\n",
       "adjusted_price    364\n",
       "minimum_nights     14\n",
       "maximum_nights     14\n",
       "dtype: int64"
      ]
     },
     "execution_count": 2,
     "metadata": {},
     "output_type": "execute_result"
    }
   ],
   "source": [
    "data_calendar.isnull().sum()"
   ]
  },
  {
   "cell_type": "code",
   "execution_count": 3,
   "metadata": {},
   "outputs": [
    {
     "data": {
      "text/html": [
       "<div>\n",
       "<style scoped>\n",
       "    .dataframe tbody tr th:only-of-type {\n",
       "        vertical-align: middle;\n",
       "    }\n",
       "\n",
       "    .dataframe tbody tr th {\n",
       "        vertical-align: top;\n",
       "    }\n",
       "\n",
       "    .dataframe thead th {\n",
       "        text-align: right;\n",
       "    }\n",
       "</style>\n",
       "<table border=\"1\" class=\"dataframe\">\n",
       "  <thead>\n",
       "    <tr style=\"text-align: right;\">\n",
       "      <th></th>\n",
       "      <th>listing_id</th>\n",
       "      <th>annual_availability</th>\n",
       "      <th>minimum_nights</th>\n",
       "      <th>maximum_nights</th>\n",
       "    </tr>\n",
       "  </thead>\n",
       "  <tbody>\n",
       "    <tr>\n",
       "      <td>0</td>\n",
       "      <td>2595</td>\n",
       "      <td>365</td>\n",
       "      <td>7.000000</td>\n",
       "      <td>1125.0</td>\n",
       "    </tr>\n",
       "    <tr>\n",
       "      <td>1</td>\n",
       "      <td>3831</td>\n",
       "      <td>137</td>\n",
       "      <td>1.000000</td>\n",
       "      <td>730.0</td>\n",
       "    </tr>\n",
       "    <tr>\n",
       "      <td>2</td>\n",
       "      <td>5099</td>\n",
       "      <td>0</td>\n",
       "      <td>3.000000</td>\n",
       "      <td>21.0</td>\n",
       "    </tr>\n",
       "    <tr>\n",
       "      <td>3</td>\n",
       "      <td>5121</td>\n",
       "      <td>365</td>\n",
       "      <td>29.000000</td>\n",
       "      <td>730.0</td>\n",
       "    </tr>\n",
       "    <tr>\n",
       "      <td>4</td>\n",
       "      <td>5178</td>\n",
       "      <td>216</td>\n",
       "      <td>1.868493</td>\n",
       "      <td>14.0</td>\n",
       "    </tr>\n",
       "  </tbody>\n",
       "</table>\n",
       "</div>"
      ],
      "text/plain": [
       "   listing_id  annual_availability  minimum_nights  maximum_nights\n",
       "0        2595                  365        7.000000          1125.0\n",
       "1        3831                  137        1.000000           730.0\n",
       "2        5099                    0        3.000000            21.0\n",
       "3        5121                  365       29.000000           730.0\n",
       "4        5178                  216        1.868493            14.0"
      ]
     },
     "execution_count": 3,
     "metadata": {},
     "output_type": "execute_result"
    }
   ],
   "source": [
    "# =============================================================================\n",
    "# aggregate the calendar dataset\n",
    "# =============================================================================\n",
    "\n",
    "calendar_summary = (\n",
    "        data_calendar\n",
    "        .groupby('listing_id')\n",
    "        .agg({\n",
    "            'available': lambda x: np.sum(x == 't'),\n",
    "            'minimum_nights': np.mean,\n",
    "            'maximum_nights': np.mean,\n",
    "        }))\n",
    "\n",
    "calendar_summary = calendar_summary.reset_index()\n",
    "calendar_summary.rename(columns = {'available':'annual_availability'}, inplace=True)\n",
    "calendar_summary.head()"
   ]
  },
  {
   "cell_type": "markdown",
   "metadata": {},
   "source": [
    "## Listings\n",
    "\n",
    "Here is what we did to clean the listings dataset:\n",
    "\n",
    "1. Drop columns that have more than 60% missing values.\n",
    "2. For quantitative columns, impute missing values with the column mean. \n",
    "3. For categorical columns, create a new class called \"Unknown\" for the entries with missing values. This is because we believe a missing value in itself might contain some information and thus should be incorporated as a class of that variable.\n",
    "4. For text data, create binary columns indicating whether or not a listing has valid text entries in those columns, for we believe the absence of text can carry some information worth modeling.\n",
    "5. Use problem-specific knowledge to modify features. For example, if a listing is for a private room, then the number of bedrooms should be changed to 1. Other examples include modifying a text column containing all the amenities to a column of just the number of amenities."
   ]
  },
  {
   "cell_type": "code",
   "execution_count": 4,
   "metadata": {
    "scrolled": true
   },
   "outputs": [],
   "source": [
    "# =============================================================================\n",
    "# Cleaning the listings dataset\n",
    "# =============================================================================\n",
    "\n",
    "## drop the columns with over 60% NA\n",
    "percent_NA = np.sum(listings_full.isnull()) * 100 / len(listings_full)\n",
    "col_many_na = percent_NA[percent_NA > 60].index\n",
    "listings_full.drop(col_many_na, axis = 1, inplace = True)\n",
    "\n",
    "## delete these columns, which contains irrelevant information such as url's and metadata about scraping\n",
    "## city, state, market doesn't matter since all of our listings are in New York\n",
    "## for most listings, experiences_offered is \"none\", which is the same as NA\n",
    "col_to_del = ['listing_url', 'scrape_id', 'last_scraped', 'experiences_offered',\n",
    "              'picture_url', 'host_url', 'country_code', 'country', 'calendar_last_scraped',\n",
    "              'city', 'state', 'market']\n",
    "listing1 = listings_full.drop(col_to_del, axis = 1)\n",
    "\n",
    "\n",
    "percent_NA = np.sum(listing1.isnull()) * 100 / len(listing1)\n",
    "col_w_na = percent_NA[percent_NA > 0].index\n",
    "\n",
    "\n",
    "## convert numeric variables from strings to floats\n",
    "def to_num(x):\n",
    "    x = re.sub(r',', '', x)\n",
    "    return float(x[1:])\n",
    "\n",
    "listing1['price'] = listing1['price'].apply(to_num)\n",
    "valid_ind_security = ~listing1['security_deposit'].isnull()\n",
    "listing1.loc[valid_ind_security, 'security_deposit'] = (\n",
    "        listing1.loc[valid_ind_security, 'security_deposit'].apply(to_num))\n",
    "valid_ind_clean = ~listing1['cleaning_fee'].isnull()\n",
    "listing1.loc[valid_ind_clean, 'cleaning_fee'] = (\n",
    "        listing1.loc[valid_ind_clean, 'cleaning_fee'].apply(to_num))\n",
    "listing1['extra_people'] = listing1['extra_people'].apply(to_num)\n",
    "\n",
    "listing1['cleaning_fee'] = listing1['cleaning_fee'].astype(float)\n",
    "listing1['security_deposit'] = listing1['security_deposit'].astype(float)\n",
    "\n",
    "\n",
    "def str_to_pct(x):\n",
    "    x = re.sub(r'%', '', x)\n",
    "    return float(x) / 100\n",
    "valid_ind_host= ~listing1['host_response_rate'].isnull()\n",
    "\n",
    "listing1.loc[valid_ind_host, 'host_response_rate'] = (\n",
    "        listing1.loc[valid_ind_host, 'host_response_rate'].apply(str_to_pct))\n",
    "listing1['host_response_rate'] = listing1['host_response_rate'].astype(float)\n",
    "\n",
    "\n",
    "## impute quantitative columns with missing values by the column mean\n",
    "num_col_w_na = [\n",
    "        'host_response_rate', 'host_listings_count', 'host_total_listings_count',\n",
    "        'bathrooms', 'bedrooms', 'beds', 'security_deposit',\n",
    "        'cleaning_fee', 'review_scores_rating',\n",
    "       'review_scores_accuracy', 'review_scores_cleanliness',\n",
    "       'review_scores_checkin', 'review_scores_communication',\n",
    "       'review_scores_location', 'review_scores_value', 'reviews_per_month']\n",
    "\n",
    "na_imputer = SimpleImputer(strategy = 'mean')\n",
    "na_imputer.fit(listing1[num_col_w_na])\n",
    "listing1[num_col_w_na] = na_imputer.transform(listing1[num_col_w_na])\n",
    "\n",
    "\n",
    "## replace NA's in categorical columns with a label called \"Unknown\"\n",
    "qualtv_col = col_w_na[~col_w_na.isin(num_col_w_na)]\n",
    "for col_name in qualtv_col:\n",
    "    na_row_ind = listing1[col_name].isnull()\n",
    "    listing1.loc[na_row_ind, col_name] = 'Unknown'\n",
    "\n",
    "## for text columns with NA's, create another binary column indicating whether or not there was content \n",
    "col_to_binary = ['name', 'summary', 'space', 'description', 'neighborhood_overview',\n",
    "       'notes', 'transit', 'access', 'interaction', 'house_rules', 'host_name',\n",
    "       'host_location', 'host_about', 'host_thumbnail_url',\n",
    "       'host_picture_url', 'host_verifications', 'zipcode', 'first_review', \n",
    "       'last_review']\n",
    "for col in col_to_binary:\n",
    "    binary_col_name = 'has_' + col\n",
    "    listing1[binary_col_name] = ((listing1[col] != 'Unknown') & (listing1[col] != 'None')).astype(int)\n",
    "\n",
    "\n",
    "## change number of bedrooms to 1 if listing is not entire home/apartment\n",
    "listing1['bedrooms_new'] = listing1['bedrooms']\n",
    "listing1.loc[listing1['room_type'] != 'Entire home/apt', 'bedrooms_new'] = 1\n",
    "\n",
    "## create column for number of years for which the host has been a host\n",
    "listing1['host_years'] = listing1['host_since'].apply(\n",
    "        lambda x: 2019 - int(x[0:4]) if x != 'Unknown' else np.nan)\n",
    "na_imputer1 = SimpleImputer(strategy = 'mean')\n",
    "na_imputer1.fit(listing1[['host_years']])\n",
    "listing1['host_years'] = na_imputer1.transform(listing1[['host_years']])\n",
    "\n",
    "## create columns for number of amenities and number of host verifications\n",
    "listing1['num_amenities'] = listing1['amenities'].apply(\n",
    "        lambda x: len(re.sub(r'[{}]', '', x).split(\",\")) if x != '{}' else 0)\n",
    "listing1['num_host_verifications'] = listing1['host_verifications'].apply(\n",
    "        lambda x: len(re.sub(r'[\\[\\]]', '', x).split(\",\")) \n",
    "        if (x != '[]' and x != 'None') else 0)\n",
    "    \n",
    "## compute character counts of some text columns\n",
    "col_text = ['name', 'summary', 'space', 'description', 'neighborhood_overview',\n",
    "       'notes', 'transit', 'access', 'interaction', 'house_rules',\n",
    "       'host_about', 'host_verifications']\n",
    "for col in col_text:\n",
    "    col_text_length = col + '_length'\n",
    "    listing1[col_text_length] = listing1[col].apply(\n",
    "            lambda x: len(x) if x != 'Unknown' else 0)\n"
   ]
  },
  {
   "cell_type": "code",
   "execution_count": 5,
   "metadata": {},
   "outputs": [
    {
     "data": {
      "text/html": [
       "<div>\n",
       "<style scoped>\n",
       "    .dataframe tbody tr th:only-of-type {\n",
       "        vertical-align: middle;\n",
       "    }\n",
       "\n",
       "    .dataframe tbody tr th {\n",
       "        vertical-align: top;\n",
       "    }\n",
       "\n",
       "    .dataframe thead th {\n",
       "        text-align: right;\n",
       "    }\n",
       "</style>\n",
       "<table border=\"1\" class=\"dataframe\">\n",
       "  <thead>\n",
       "    <tr style=\"text-align: right;\">\n",
       "      <th></th>\n",
       "      <th>id</th>\n",
       "      <th>name</th>\n",
       "      <th>summary</th>\n",
       "      <th>space</th>\n",
       "      <th>description</th>\n",
       "      <th>neighborhood_overview</th>\n",
       "      <th>notes</th>\n",
       "      <th>transit</th>\n",
       "      <th>access</th>\n",
       "      <th>interaction</th>\n",
       "      <th>...</th>\n",
       "      <th>space_length</th>\n",
       "      <th>description_length</th>\n",
       "      <th>neighborhood_overview_length</th>\n",
       "      <th>notes_length</th>\n",
       "      <th>transit_length</th>\n",
       "      <th>access_length</th>\n",
       "      <th>interaction_length</th>\n",
       "      <th>house_rules_length</th>\n",
       "      <th>host_about_length</th>\n",
       "      <th>host_verifications_length</th>\n",
       "    </tr>\n",
       "  </thead>\n",
       "  <tbody>\n",
       "    <tr>\n",
       "      <td>0</td>\n",
       "      <td>2595</td>\n",
       "      <td>Skylit Midtown Castle</td>\n",
       "      <td>Beautiful, spacious skylit studio in the heart...</td>\n",
       "      <td>- Spacious (500+ft²), immaculate and nicely fu...</td>\n",
       "      <td>Beautiful, spacious skylit studio in the heart...</td>\n",
       "      <td>Centrally located in the heart of Manhattan ju...</td>\n",
       "      <td>Unknown</td>\n",
       "      <td>Apartment is located on 37th Street between 5t...</td>\n",
       "      <td>Guests have full access to the kitchen, bathro...</td>\n",
       "      <td>I am a Sound Therapy Practitioner and Kundalin...</td>\n",
       "      <td>...</td>\n",
       "      <td>1000</td>\n",
       "      <td>1000</td>\n",
       "      <td>217</td>\n",
       "      <td>0</td>\n",
       "      <td>502</td>\n",
       "      <td>103</td>\n",
       "      <td>762</td>\n",
       "      <td>107</td>\n",
       "      <td>427</td>\n",
       "      <td>121</td>\n",
       "    </tr>\n",
       "    <tr>\n",
       "      <td>1</td>\n",
       "      <td>3831</td>\n",
       "      <td>Cozy Entire Floor of Brownstone</td>\n",
       "      <td>Urban retreat: enjoy 500 s.f. floor in 1899 br...</td>\n",
       "      <td>Greetings!      We own a double-duplex brownst...</td>\n",
       "      <td>Urban retreat: enjoy 500 s.f. floor in 1899 br...</td>\n",
       "      <td>Just the right mix of urban center and local n...</td>\n",
       "      <td>Unknown</td>\n",
       "      <td>B52 bus for a 10-minute ride to downtown Brook...</td>\n",
       "      <td>You will have the private, exclusive use of an...</td>\n",
       "      <td>We'll be around, but since you have the top fl...</td>\n",
       "      <td>...</td>\n",
       "      <td>1000</td>\n",
       "      <td>1000</td>\n",
       "      <td>108</td>\n",
       "      <td>0</td>\n",
       "      <td>1000</td>\n",
       "      <td>596</td>\n",
       "      <td>217</td>\n",
       "      <td>83</td>\n",
       "      <td>46</td>\n",
       "      <td>36</td>\n",
       "    </tr>\n",
       "    <tr>\n",
       "      <td>2</td>\n",
       "      <td>5099</td>\n",
       "      <td>Large Cozy 1 BR Apartment In Midtown East</td>\n",
       "      <td>My large 1 bedroom apartment has a true New Yo...</td>\n",
       "      <td>I have a large 1 bedroom apartment centrally l...</td>\n",
       "      <td>My large 1 bedroom apartment has a true New Yo...</td>\n",
       "      <td>My neighborhood in Midtown East is called Murr...</td>\n",
       "      <td>Read My Full Listing For All Information. New ...</td>\n",
       "      <td>From the apartment is a 10 minute walk to Gran...</td>\n",
       "      <td>I will meet you upon arrival.</td>\n",
       "      <td>I usually check in with guests via text or ema...</td>\n",
       "      <td>...</td>\n",
       "      <td>1000</td>\n",
       "      <td>1000</td>\n",
       "      <td>896</td>\n",
       "      <td>274</td>\n",
       "      <td>1000</td>\n",
       "      <td>29</td>\n",
       "      <td>140</td>\n",
       "      <td>149</td>\n",
       "      <td>77</td>\n",
       "      <td>55</td>\n",
       "    </tr>\n",
       "    <tr>\n",
       "      <td>3</td>\n",
       "      <td>5121</td>\n",
       "      <td>BlissArtsSpace!</td>\n",
       "      <td>Unknown</td>\n",
       "      <td>HELLO EVERYONE AND THANKS FOR VISITING BLISS A...</td>\n",
       "      <td>HELLO EVERYONE AND THANKS FOR VISITING BLISS A...</td>\n",
       "      <td>Unknown</td>\n",
       "      <td>Unknown</td>\n",
       "      <td>Unknown</td>\n",
       "      <td>Unknown</td>\n",
       "      <td>Unknown</td>\n",
       "      <td>...</td>\n",
       "      <td>1000</td>\n",
       "      <td>1000</td>\n",
       "      <td>0</td>\n",
       "      <td>0</td>\n",
       "      <td>0</td>\n",
       "      <td>0</td>\n",
       "      <td>0</td>\n",
       "      <td>0</td>\n",
       "      <td>373</td>\n",
       "      <td>112</td>\n",
       "    </tr>\n",
       "    <tr>\n",
       "      <td>4</td>\n",
       "      <td>5178</td>\n",
       "      <td>Large Furnished Room Near B'way</td>\n",
       "      <td>Please don’t expect the luxury here just a bas...</td>\n",
       "      <td>You will use one large, furnished, private roo...</td>\n",
       "      <td>Please don’t expect the luxury here just a bas...</td>\n",
       "      <td>Theater district, many restaurants around here.</td>\n",
       "      <td>Reservation should be made at least a few days...</td>\n",
       "      <td>Unknown</td>\n",
       "      <td>Bathroom is shared with the host but the kitch...</td>\n",
       "      <td>Unknown</td>\n",
       "      <td>...</td>\n",
       "      <td>1000</td>\n",
       "      <td>1000</td>\n",
       "      <td>47</td>\n",
       "      <td>229</td>\n",
       "      <td>0</td>\n",
       "      <td>74</td>\n",
       "      <td>0</td>\n",
       "      <td>114</td>\n",
       "      <td>106</td>\n",
       "      <td>41</td>\n",
       "    </tr>\n",
       "  </tbody>\n",
       "</table>\n",
       "<p>5 rows × 121 columns</p>\n",
       "</div>"
      ],
      "text/plain": [
       "     id                                       name  \\\n",
       "0  2595                      Skylit Midtown Castle   \n",
       "1  3831            Cozy Entire Floor of Brownstone   \n",
       "2  5099  Large Cozy 1 BR Apartment In Midtown East   \n",
       "3  5121                            BlissArtsSpace!   \n",
       "4  5178           Large Furnished Room Near B'way    \n",
       "\n",
       "                                             summary  \\\n",
       "0  Beautiful, spacious skylit studio in the heart...   \n",
       "1  Urban retreat: enjoy 500 s.f. floor in 1899 br...   \n",
       "2  My large 1 bedroom apartment has a true New Yo...   \n",
       "3                                            Unknown   \n",
       "4  Please don’t expect the luxury here just a bas...   \n",
       "\n",
       "                                               space  \\\n",
       "0  - Spacious (500+ft²), immaculate and nicely fu...   \n",
       "1  Greetings!      We own a double-duplex brownst...   \n",
       "2  I have a large 1 bedroom apartment centrally l...   \n",
       "3  HELLO EVERYONE AND THANKS FOR VISITING BLISS A...   \n",
       "4  You will use one large, furnished, private roo...   \n",
       "\n",
       "                                         description  \\\n",
       "0  Beautiful, spacious skylit studio in the heart...   \n",
       "1  Urban retreat: enjoy 500 s.f. floor in 1899 br...   \n",
       "2  My large 1 bedroom apartment has a true New Yo...   \n",
       "3  HELLO EVERYONE AND THANKS FOR VISITING BLISS A...   \n",
       "4  Please don’t expect the luxury here just a bas...   \n",
       "\n",
       "                               neighborhood_overview  \\\n",
       "0  Centrally located in the heart of Manhattan ju...   \n",
       "1  Just the right mix of urban center and local n...   \n",
       "2  My neighborhood in Midtown East is called Murr...   \n",
       "3                                            Unknown   \n",
       "4    Theater district, many restaurants around here.   \n",
       "\n",
       "                                               notes  \\\n",
       "0                                            Unknown   \n",
       "1                                            Unknown   \n",
       "2  Read My Full Listing For All Information. New ...   \n",
       "3                                            Unknown   \n",
       "4  Reservation should be made at least a few days...   \n",
       "\n",
       "                                             transit  \\\n",
       "0  Apartment is located on 37th Street between 5t...   \n",
       "1  B52 bus for a 10-minute ride to downtown Brook...   \n",
       "2  From the apartment is a 10 minute walk to Gran...   \n",
       "3                                            Unknown   \n",
       "4                                            Unknown   \n",
       "\n",
       "                                              access  \\\n",
       "0  Guests have full access to the kitchen, bathro...   \n",
       "1  You will have the private, exclusive use of an...   \n",
       "2                      I will meet you upon arrival.   \n",
       "3                                            Unknown   \n",
       "4  Bathroom is shared with the host but the kitch...   \n",
       "\n",
       "                                         interaction  ... space_length  \\\n",
       "0  I am a Sound Therapy Practitioner and Kundalin...  ...         1000   \n",
       "1  We'll be around, but since you have the top fl...  ...         1000   \n",
       "2  I usually check in with guests via text or ema...  ...         1000   \n",
       "3                                            Unknown  ...         1000   \n",
       "4                                            Unknown  ...         1000   \n",
       "\n",
       "   description_length neighborhood_overview_length notes_length  \\\n",
       "0                1000                          217            0   \n",
       "1                1000                          108            0   \n",
       "2                1000                          896          274   \n",
       "3                1000                            0            0   \n",
       "4                1000                           47          229   \n",
       "\n",
       "  transit_length access_length interaction_length  house_rules_length  \\\n",
       "0            502           103                762                 107   \n",
       "1           1000           596                217                  83   \n",
       "2           1000            29                140                 149   \n",
       "3              0             0                  0                   0   \n",
       "4              0            74                  0                 114   \n",
       "\n",
       "  host_about_length host_verifications_length  \n",
       "0               427                       121  \n",
       "1                46                        36  \n",
       "2                77                        55  \n",
       "3               373                       112  \n",
       "4               106                        41  \n",
       "\n",
       "[5 rows x 121 columns]"
      ]
     },
     "execution_count": 5,
     "metadata": {},
     "output_type": "execute_result"
    }
   ],
   "source": [
    "clean_listings = listing1.copy()\n",
    "clean_listings.head()"
   ]
  },
  {
   "cell_type": "markdown",
   "metadata": {},
   "source": [
    "## Reviews\n",
    "\n",
    "Sam will describe what we did to clean reviews"
   ]
  },
  {
   "cell_type": "code",
   "execution_count": 6,
   "metadata": {},
   "outputs": [
    {
     "data": {
      "text/html": [
       "<div>\n",
       "<style scoped>\n",
       "    .dataframe tbody tr th:only-of-type {\n",
       "        vertical-align: middle;\n",
       "    }\n",
       "\n",
       "    .dataframe tbody tr th {\n",
       "        vertical-align: top;\n",
       "    }\n",
       "\n",
       "    .dataframe thead th {\n",
       "        text-align: right;\n",
       "    }\n",
       "</style>\n",
       "<table border=\"1\" class=\"dataframe\">\n",
       "  <thead>\n",
       "    <tr style=\"text-align: right;\">\n",
       "      <th></th>\n",
       "      <th>listing_id</th>\n",
       "      <th>id</th>\n",
       "      <th>date</th>\n",
       "      <th>reviewer_id</th>\n",
       "      <th>reviewer_name</th>\n",
       "      <th>comments</th>\n",
       "    </tr>\n",
       "  </thead>\n",
       "  <tbody>\n",
       "    <tr>\n",
       "      <td>0</td>\n",
       "      <td>2595</td>\n",
       "      <td>19176</td>\n",
       "      <td>2009-12-05</td>\n",
       "      <td>53267</td>\n",
       "      <td>Cate</td>\n",
       "      <td>great experience</td>\n",
       "    </tr>\n",
       "    <tr>\n",
       "      <td>1</td>\n",
       "      <td>2595</td>\n",
       "      <td>19760</td>\n",
       "      <td>2009-12-10</td>\n",
       "      <td>38960</td>\n",
       "      <td>Anita</td>\n",
       "      <td>i ve stayed with my friend at the midtown cast...</td>\n",
       "    </tr>\n",
       "    <tr>\n",
       "      <td>2</td>\n",
       "      <td>2595</td>\n",
       "      <td>34320</td>\n",
       "      <td>2010-04-09</td>\n",
       "      <td>71130</td>\n",
       "      <td>Kai-Uwe</td>\n",
       "      <td>we ve been staying here for about   nights  en...</td>\n",
       "    </tr>\n",
       "    <tr>\n",
       "      <td>3</td>\n",
       "      <td>2595</td>\n",
       "      <td>46312</td>\n",
       "      <td>2010-05-25</td>\n",
       "      <td>117113</td>\n",
       "      <td>Alicia</td>\n",
       "      <td>we had a wonderful stay at jennifer s charming...</td>\n",
       "    </tr>\n",
       "    <tr>\n",
       "      <td>4</td>\n",
       "      <td>2595</td>\n",
       "      <td>1238204</td>\n",
       "      <td>2012-05-07</td>\n",
       "      <td>1783688</td>\n",
       "      <td>Sergey</td>\n",
       "      <td>hi to everyone   would say our greatest compli...</td>\n",
       "    </tr>\n",
       "  </tbody>\n",
       "</table>\n",
       "</div>"
      ],
      "text/plain": [
       "   listing_id       id        date  reviewer_id reviewer_name  \\\n",
       "0        2595    19176  2009-12-05        53267          Cate   \n",
       "1        2595    19760  2009-12-10        38960         Anita   \n",
       "2        2595    34320  2010-04-09        71130       Kai-Uwe   \n",
       "3        2595    46312  2010-05-25       117113        Alicia   \n",
       "4        2595  1238204  2012-05-07      1783688        Sergey   \n",
       "\n",
       "                                            comments  \n",
       "0                                  great experience   \n",
       "1  i ve stayed with my friend at the midtown cast...  \n",
       "2  we ve been staying here for about   nights  en...  \n",
       "3  we had a wonderful stay at jennifer s charming...  \n",
       "4  hi to everyone   would say our greatest compli...  "
      ]
     },
     "execution_count": 6,
     "metadata": {},
     "output_type": "execute_result"
    }
   ],
   "source": [
    "## drop observations in the datset with no reviews\n",
    "reviews_brief_cleaned = reviews_full.dropna(subset=[\"comments\"]).reset_index(drop=True)\n",
    "\n",
    "def clean(s):\n",
    "    s = sub(r\"[,!?.\\/)('‘’“”+-:;–—\\r\\n\\t\\xa0]\", \" \", s)\n",
    "    return (s.lower())\n",
    "\n",
    "reviews_brief_cleaned.comments = [clean(row) for row in reviews_brief_cleaned.comments]\n",
    "\n",
    "## return English comments only\n",
    "def isEnglish(s):\n",
    "    try:\n",
    "        s.encode(encoding='utf-8').decode('ascii')\n",
    "    except UnicodeDecodeError:\n",
    "        return False\n",
    "    else:\n",
    "        return True\n",
    "    \n",
    "is_eng = reviews_brief_cleaned.comments.apply(isEnglish)\n",
    "reviews_full = reviews_brief_cleaned[is_eng].reset_index(drop = True)\n",
    "reviews_full.head()"
   ]
  },
  {
   "cell_type": "markdown",
   "metadata": {},
   "source": [
    "# Feature Engineering"
   ]
  },
  {
   "cell_type": "markdown",
   "metadata": {},
   "source": [
    "At the previous data cleaning stage, we generate or modify the following features:\n",
    "1. The number of bedrooms is set to 1 if the room type is private or shared.\n",
    "2. The starting date of being a host, a date variable, is converted to the length of being a host. This feature might reflect the experience and sustainability of a listing owner, a potentially revelant factor to the listing price.\n",
    "3. \"Amenities\" and \"host_verifications\" column, both text columns, are engineered into quantitative columns, namely, the number of amenities at the listing and the number of different verification means passed by the host.\n",
    "4. We compute the character counts of several text columns as a proxy to how detailed the descriptions are\n",
    "\n",
    "\n",
    "* Sentiment scores - SAM"
   ]
  },
  {
   "cell_type": "code",
   "execution_count": 7,
   "metadata": {},
   "outputs": [],
   "source": [
    "## drop observations in the datset with no reviews\n",
    "reviews_full = reviews_full.dropna(subset=[\"comments\"]).copy()"
   ]
  },
  {
   "cell_type": "code",
   "execution_count": 8,
   "metadata": {},
   "outputs": [],
   "source": [
    "## count the length of a review in terms of number of words\n",
    "def count_words(string):\n",
    "    return len(string.split())\n",
    "\n",
    "reviews_full[\"nwords\"] = reviews_full[\"comments\"].apply(count_words)"
   ]
  },
  {
   "cell_type": "code",
   "execution_count": 9,
   "metadata": {},
   "outputs": [],
   "source": [
    "## returns the proportion of punctuation marks in the comment\n",
    "def prop_punc(input_str):\n",
    "    return len(re.findall(f\"[{string.punctuation}]\", input_str))/len(input_str)\n",
    "\n",
    "reviews_full[\"punc_prop\"] = reviews_full[\"comments\"].apply(prop_punc)"
   ]
  },
  {
   "cell_type": "code",
   "execution_count": 10,
   "metadata": {},
   "outputs": [],
   "source": [
    "## returns whether or not there were more than 2 consecutive exclamation marks in the comment\n",
    "def excl(input_str):\n",
    "    return int(len(re.findall(\"!!(.*)\", input_str))>0)\n",
    "\n",
    "reviews_full[\">2_exclamation\"] = reviews_full[\"comments\"].apply(excl)"
   ]
  },
  {
   "cell_type": "code",
   "execution_count": 11,
   "metadata": {
    "scrolled": false
   },
   "outputs": [],
   "source": [
    "## returns the proportion of capitalized letters in the comment\n",
    "\n",
    "upper = re.compile('[A-Z]')\n",
    "\n",
    "def prop_cap(input_str):\n",
    "    return len(upper.findall(input_str))/len(input_str)\n",
    "\n",
    "reviews_full[\"prop_cap\"] = reviews_full[\"comments\"].apply(prop_cap)"
   ]
  },
  {
   "cell_type": "markdown",
   "metadata": {},
   "source": [
    "#### Sentiment Scores\n",
    "For now, I will generate a column of all 1's. Replace with Sam's code when done"
   ]
  },
  {
   "cell_type": "code",
   "execution_count": 12,
   "metadata": {},
   "outputs": [],
   "source": [
    "# Pull sentiment scores \n",
    "analyzer = SentimentIntensityAnalyzer()\n",
    "reviews_full[\"sentiments\"] = reviews_full.comments.apply(lambda x: analyzer.polarity_scores(x)['compound'])"
   ]
  },
  {
   "cell_type": "code",
   "execution_count": 13,
   "metadata": {},
   "outputs": [
    {
     "data": {
      "text/html": [
       "<div>\n",
       "<style scoped>\n",
       "    .dataframe tbody tr th:only-of-type {\n",
       "        vertical-align: middle;\n",
       "    }\n",
       "\n",
       "    .dataframe tbody tr th {\n",
       "        vertical-align: top;\n",
       "    }\n",
       "\n",
       "    .dataframe thead th {\n",
       "        text-align: right;\n",
       "    }\n",
       "</style>\n",
       "<table border=\"1\" class=\"dataframe\">\n",
       "  <thead>\n",
       "    <tr style=\"text-align: right;\">\n",
       "      <th></th>\n",
       "      <th>listing_id</th>\n",
       "      <th>id</th>\n",
       "      <th>date</th>\n",
       "      <th>reviewer_id</th>\n",
       "      <th>reviewer_name</th>\n",
       "      <th>comments</th>\n",
       "      <th>nwords</th>\n",
       "      <th>punc_prop</th>\n",
       "      <th>&gt;2_exclamation</th>\n",
       "      <th>prop_cap</th>\n",
       "      <th>sentiments</th>\n",
       "    </tr>\n",
       "  </thead>\n",
       "  <tbody>\n",
       "    <tr>\n",
       "      <td>0</td>\n",
       "      <td>2595</td>\n",
       "      <td>19176</td>\n",
       "      <td>2009-12-05</td>\n",
       "      <td>53267</td>\n",
       "      <td>Cate</td>\n",
       "      <td>great experience</td>\n",
       "      <td>2</td>\n",
       "      <td>0.0</td>\n",
       "      <td>0</td>\n",
       "      <td>0.0</td>\n",
       "      <td>0.6249</td>\n",
       "    </tr>\n",
       "    <tr>\n",
       "      <td>1</td>\n",
       "      <td>2595</td>\n",
       "      <td>19760</td>\n",
       "      <td>2009-12-10</td>\n",
       "      <td>38960</td>\n",
       "      <td>Anita</td>\n",
       "      <td>i ve stayed with my friend at the midtown cast...</td>\n",
       "      <td>92</td>\n",
       "      <td>0.0</td>\n",
       "      <td>0</td>\n",
       "      <td>0.0</td>\n",
       "      <td>0.9274</td>\n",
       "    </tr>\n",
       "    <tr>\n",
       "      <td>2</td>\n",
       "      <td>2595</td>\n",
       "      <td>34320</td>\n",
       "      <td>2010-04-09</td>\n",
       "      <td>71130</td>\n",
       "      <td>Kai-Uwe</td>\n",
       "      <td>we ve been staying here for about   nights  en...</td>\n",
       "      <td>64</td>\n",
       "      <td>0.0</td>\n",
       "      <td>0</td>\n",
       "      <td>0.0</td>\n",
       "      <td>0.9136</td>\n",
       "    </tr>\n",
       "    <tr>\n",
       "      <td>3</td>\n",
       "      <td>2595</td>\n",
       "      <td>46312</td>\n",
       "      <td>2010-05-25</td>\n",
       "      <td>117113</td>\n",
       "      <td>Alicia</td>\n",
       "      <td>we had a wonderful stay at jennifer s charming...</td>\n",
       "      <td>25</td>\n",
       "      <td>0.0</td>\n",
       "      <td>0</td>\n",
       "      <td>0.0</td>\n",
       "      <td>0.9409</td>\n",
       "    </tr>\n",
       "    <tr>\n",
       "      <td>4</td>\n",
       "      <td>2595</td>\n",
       "      <td>1238204</td>\n",
       "      <td>2012-05-07</td>\n",
       "      <td>1783688</td>\n",
       "      <td>Sergey</td>\n",
       "      <td>hi to everyone   would say our greatest compli...</td>\n",
       "      <td>97</td>\n",
       "      <td>0.0</td>\n",
       "      <td>0</td>\n",
       "      <td>0.0</td>\n",
       "      <td>0.9863</td>\n",
       "    </tr>\n",
       "  </tbody>\n",
       "</table>\n",
       "</div>"
      ],
      "text/plain": [
       "   listing_id       id        date  reviewer_id reviewer_name  \\\n",
       "0        2595    19176  2009-12-05        53267          Cate   \n",
       "1        2595    19760  2009-12-10        38960         Anita   \n",
       "2        2595    34320  2010-04-09        71130       Kai-Uwe   \n",
       "3        2595    46312  2010-05-25       117113        Alicia   \n",
       "4        2595  1238204  2012-05-07      1783688        Sergey   \n",
       "\n",
       "                                            comments  nwords  punc_prop  \\\n",
       "0                                  great experience        2        0.0   \n",
       "1  i ve stayed with my friend at the midtown cast...      92        0.0   \n",
       "2  we ve been staying here for about   nights  en...      64        0.0   \n",
       "3  we had a wonderful stay at jennifer s charming...      25        0.0   \n",
       "4  hi to everyone   would say our greatest compli...      97        0.0   \n",
       "\n",
       "   >2_exclamation  prop_cap  sentiments  \n",
       "0               0       0.0      0.6249  \n",
       "1               0       0.0      0.9274  \n",
       "2               0       0.0      0.9136  \n",
       "3               0       0.0      0.9409  \n",
       "4               0       0.0      0.9863  "
      ]
     },
     "execution_count": 13,
     "metadata": {},
     "output_type": "execute_result"
    }
   ],
   "source": [
    "reviews_full.head()"
   ]
  },
  {
   "cell_type": "code",
   "execution_count": 14,
   "metadata": {},
   "outputs": [
    {
     "data": {
      "text/html": [
       "<div>\n",
       "<style scoped>\n",
       "    .dataframe tbody tr th:only-of-type {\n",
       "        vertical-align: middle;\n",
       "    }\n",
       "\n",
       "    .dataframe tbody tr th {\n",
       "        vertical-align: top;\n",
       "    }\n",
       "\n",
       "    .dataframe thead th {\n",
       "        text-align: right;\n",
       "    }\n",
       "</style>\n",
       "<table border=\"1\" class=\"dataframe\">\n",
       "  <thead>\n",
       "    <tr style=\"text-align: right;\">\n",
       "      <th></th>\n",
       "      <th>id</th>\n",
       "      <th>name</th>\n",
       "      <th>summary</th>\n",
       "      <th>space</th>\n",
       "      <th>description</th>\n",
       "      <th>neighborhood_overview</th>\n",
       "      <th>notes</th>\n",
       "      <th>transit</th>\n",
       "      <th>access</th>\n",
       "      <th>interaction</th>\n",
       "      <th>...</th>\n",
       "      <th>access_length</th>\n",
       "      <th>interaction_length</th>\n",
       "      <th>house_rules_length</th>\n",
       "      <th>host_about_length</th>\n",
       "      <th>host_verifications_length</th>\n",
       "      <th>nwords</th>\n",
       "      <th>punc_prop</th>\n",
       "      <th>&gt;2_exclamation</th>\n",
       "      <th>prop_cap</th>\n",
       "      <th>sentiments</th>\n",
       "    </tr>\n",
       "  </thead>\n",
       "  <tbody>\n",
       "    <tr>\n",
       "      <td>0</td>\n",
       "      <td>2595</td>\n",
       "      <td>Skylit Midtown Castle</td>\n",
       "      <td>Beautiful, spacious skylit studio in the heart...</td>\n",
       "      <td>- Spacious (500+ft²), immaculate and nicely fu...</td>\n",
       "      <td>Beautiful, spacious skylit studio in the heart...</td>\n",
       "      <td>Centrally located in the heart of Manhattan ju...</td>\n",
       "      <td>Unknown</td>\n",
       "      <td>Apartment is located on 37th Street between 5t...</td>\n",
       "      <td>Guests have full access to the kitchen, bathro...</td>\n",
       "      <td>I am a Sound Therapy Practitioner and Kundalin...</td>\n",
       "      <td>...</td>\n",
       "      <td>103</td>\n",
       "      <td>762</td>\n",
       "      <td>107</td>\n",
       "      <td>427</td>\n",
       "      <td>121</td>\n",
       "      <td>59.333333</td>\n",
       "      <td>0.000312</td>\n",
       "      <td>0</td>\n",
       "      <td>0.0</td>\n",
       "      <td>0.797502</td>\n",
       "    </tr>\n",
       "    <tr>\n",
       "      <td>1</td>\n",
       "      <td>3831</td>\n",
       "      <td>Cozy Entire Floor of Brownstone</td>\n",
       "      <td>Urban retreat: enjoy 500 s.f. floor in 1899 br...</td>\n",
       "      <td>Greetings!      We own a double-duplex brownst...</td>\n",
       "      <td>Urban retreat: enjoy 500 s.f. floor in 1899 br...</td>\n",
       "      <td>Just the right mix of urban center and local n...</td>\n",
       "      <td>Unknown</td>\n",
       "      <td>B52 bus for a 10-minute ride to downtown Brook...</td>\n",
       "      <td>You will have the private, exclusive use of an...</td>\n",
       "      <td>We'll be around, but since you have the top fl...</td>\n",
       "      <td>...</td>\n",
       "      <td>596</td>\n",
       "      <td>217</td>\n",
       "      <td>83</td>\n",
       "      <td>46</td>\n",
       "      <td>36</td>\n",
       "      <td>46.769231</td>\n",
       "      <td>0.000152</td>\n",
       "      <td>0</td>\n",
       "      <td>0.0</td>\n",
       "      <td>0.816304</td>\n",
       "    </tr>\n",
       "    <tr>\n",
       "      <td>2</td>\n",
       "      <td>5099</td>\n",
       "      <td>Large Cozy 1 BR Apartment In Midtown East</td>\n",
       "      <td>My large 1 bedroom apartment has a true New Yo...</td>\n",
       "      <td>I have a large 1 bedroom apartment centrally l...</td>\n",
       "      <td>My large 1 bedroom apartment has a true New Yo...</td>\n",
       "      <td>My neighborhood in Midtown East is called Murr...</td>\n",
       "      <td>Read My Full Listing For All Information. New ...</td>\n",
       "      <td>From the apartment is a 10 minute walk to Gran...</td>\n",
       "      <td>I will meet you upon arrival.</td>\n",
       "      <td>I usually check in with guests via text or ema...</td>\n",
       "      <td>...</td>\n",
       "      <td>29</td>\n",
       "      <td>140</td>\n",
       "      <td>149</td>\n",
       "      <td>77</td>\n",
       "      <td>55</td>\n",
       "      <td>71.142857</td>\n",
       "      <td>0.000508</td>\n",
       "      <td>0</td>\n",
       "      <td>0.0</td>\n",
       "      <td>0.780059</td>\n",
       "    </tr>\n",
       "    <tr>\n",
       "      <td>3</td>\n",
       "      <td>5121</td>\n",
       "      <td>BlissArtsSpace!</td>\n",
       "      <td>Unknown</td>\n",
       "      <td>HELLO EVERYONE AND THANKS FOR VISITING BLISS A...</td>\n",
       "      <td>HELLO EVERYONE AND THANKS FOR VISITING BLISS A...</td>\n",
       "      <td>Unknown</td>\n",
       "      <td>Unknown</td>\n",
       "      <td>Unknown</td>\n",
       "      <td>Unknown</td>\n",
       "      <td>Unknown</td>\n",
       "      <td>...</td>\n",
       "      <td>0</td>\n",
       "      <td>0</td>\n",
       "      <td>0</td>\n",
       "      <td>373</td>\n",
       "      <td>112</td>\n",
       "      <td>54.354167</td>\n",
       "      <td>0.000212</td>\n",
       "      <td>0</td>\n",
       "      <td>0.0</td>\n",
       "      <td>0.861077</td>\n",
       "    </tr>\n",
       "    <tr>\n",
       "      <td>4</td>\n",
       "      <td>5178</td>\n",
       "      <td>Large Furnished Room Near B'way</td>\n",
       "      <td>Please don’t expect the luxury here just a bas...</td>\n",
       "      <td>You will use one large, furnished, private roo...</td>\n",
       "      <td>Please don’t expect the luxury here just a bas...</td>\n",
       "      <td>Theater district, many restaurants around here.</td>\n",
       "      <td>Reservation should be made at least a few days...</td>\n",
       "      <td>Unknown</td>\n",
       "      <td>Bathroom is shared with the host but the kitch...</td>\n",
       "      <td>Unknown</td>\n",
       "      <td>...</td>\n",
       "      <td>74</td>\n",
       "      <td>0</td>\n",
       "      <td>114</td>\n",
       "      <td>106</td>\n",
       "      <td>41</td>\n",
       "      <td>63.256000</td>\n",
       "      <td>0.000227</td>\n",
       "      <td>0</td>\n",
       "      <td>0.0</td>\n",
       "      <td>0.734395</td>\n",
       "    </tr>\n",
       "  </tbody>\n",
       "</table>\n",
       "<p>5 rows × 126 columns</p>\n",
       "</div>"
      ],
      "text/plain": [
       "     id                                       name  \\\n",
       "0  2595                      Skylit Midtown Castle   \n",
       "1  3831            Cozy Entire Floor of Brownstone   \n",
       "2  5099  Large Cozy 1 BR Apartment In Midtown East   \n",
       "3  5121                            BlissArtsSpace!   \n",
       "4  5178           Large Furnished Room Near B'way    \n",
       "\n",
       "                                             summary  \\\n",
       "0  Beautiful, spacious skylit studio in the heart...   \n",
       "1  Urban retreat: enjoy 500 s.f. floor in 1899 br...   \n",
       "2  My large 1 bedroom apartment has a true New Yo...   \n",
       "3                                            Unknown   \n",
       "4  Please don’t expect the luxury here just a bas...   \n",
       "\n",
       "                                               space  \\\n",
       "0  - Spacious (500+ft²), immaculate and nicely fu...   \n",
       "1  Greetings!      We own a double-duplex brownst...   \n",
       "2  I have a large 1 bedroom apartment centrally l...   \n",
       "3  HELLO EVERYONE AND THANKS FOR VISITING BLISS A...   \n",
       "4  You will use one large, furnished, private roo...   \n",
       "\n",
       "                                         description  \\\n",
       "0  Beautiful, spacious skylit studio in the heart...   \n",
       "1  Urban retreat: enjoy 500 s.f. floor in 1899 br...   \n",
       "2  My large 1 bedroom apartment has a true New Yo...   \n",
       "3  HELLO EVERYONE AND THANKS FOR VISITING BLISS A...   \n",
       "4  Please don’t expect the luxury here just a bas...   \n",
       "\n",
       "                               neighborhood_overview  \\\n",
       "0  Centrally located in the heart of Manhattan ju...   \n",
       "1  Just the right mix of urban center and local n...   \n",
       "2  My neighborhood in Midtown East is called Murr...   \n",
       "3                                            Unknown   \n",
       "4    Theater district, many restaurants around here.   \n",
       "\n",
       "                                               notes  \\\n",
       "0                                            Unknown   \n",
       "1                                            Unknown   \n",
       "2  Read My Full Listing For All Information. New ...   \n",
       "3                                            Unknown   \n",
       "4  Reservation should be made at least a few days...   \n",
       "\n",
       "                                             transit  \\\n",
       "0  Apartment is located on 37th Street between 5t...   \n",
       "1  B52 bus for a 10-minute ride to downtown Brook...   \n",
       "2  From the apartment is a 10 minute walk to Gran...   \n",
       "3                                            Unknown   \n",
       "4                                            Unknown   \n",
       "\n",
       "                                              access  \\\n",
       "0  Guests have full access to the kitchen, bathro...   \n",
       "1  You will have the private, exclusive use of an...   \n",
       "2                      I will meet you upon arrival.   \n",
       "3                                            Unknown   \n",
       "4  Bathroom is shared with the host but the kitch...   \n",
       "\n",
       "                                         interaction  ... access_length  \\\n",
       "0  I am a Sound Therapy Practitioner and Kundalin...  ...           103   \n",
       "1  We'll be around, but since you have the top fl...  ...           596   \n",
       "2  I usually check in with guests via text or ema...  ...            29   \n",
       "3                                            Unknown  ...             0   \n",
       "4                                            Unknown  ...            74   \n",
       "\n",
       "   interaction_length house_rules_length host_about_length  \\\n",
       "0                 762                107               427   \n",
       "1                 217                 83                46   \n",
       "2                 140                149                77   \n",
       "3                   0                  0               373   \n",
       "4                   0                114               106   \n",
       "\n",
       "  host_verifications_length     nwords punc_prop  >2_exclamation prop_cap  \\\n",
       "0                       121  59.333333  0.000312               0      0.0   \n",
       "1                        36  46.769231  0.000152               0      0.0   \n",
       "2                        55  71.142857  0.000508               0      0.0   \n",
       "3                       112  54.354167  0.000212               0      0.0   \n",
       "4                        41  63.256000  0.000227               0      0.0   \n",
       "\n",
       "  sentiments  \n",
       "0   0.797502  \n",
       "1   0.816304  \n",
       "2   0.780059  \n",
       "3   0.861077  \n",
       "4   0.734395  \n",
       "\n",
       "[5 rows x 126 columns]"
      ]
     },
     "execution_count": 14,
     "metadata": {},
     "output_type": "execute_result"
    }
   ],
   "source": [
    "## get a data frame containing mean feature values for each listing\n",
    "reviews_summary = (\n",
    "        reviews_full\n",
    "        .groupby('listing_id')\n",
    "        .agg({\n",
    "            'nwords': np.mean,\n",
    "            'punc_prop': np.mean,\n",
    "            '>2_exclamation': np.mean,\n",
    "            'prop_cap': np.mean,\n",
    "            'sentiments': np.mean\n",
    "        }))\n",
    "\n",
    "## combine the reviews and listings datasets\n",
    "data = pd.merge(clean_listings, reviews_summary, 'inner', left_on = 'id', right_on = 'listing_id')\n",
    "data.head()"
   ]
  },
  {
   "cell_type": "markdown",
   "metadata": {},
   "source": [
    "# Feature Modification\n",
    "\n",
    "Now that we have a dataset with all the features from the listings, reviews, and calendar dataset, along with some features that we created, let's prepare our dataset for model fitting. Here is what we will do:\n",
    "\n",
    "1. Remove features that don't intuitively impact price or occupancy (ex. listing id, host_name).\n",
    "2. Remove redundant features: for example, \"street\", \"neighbourhood\", \"neighborhood_cleansed\" all have values like \"Brooklyn\", so I will only keep \"neighborhood_cleansed\" and delete the other two features\n",
    "3. Encode binary categorical features as 0 or 1\n",
    "4. Create dummy variables for categorical features with multiple classes. For categorical features with high cardinality, we will use likelihood encoding, which essentially encodes each class of a categorical feature with the mean target value within that class, given some regularization. This will allow us to create labels that are directly correlated with the target while avoiding creating too many dummy variables and making our dataset too sparse."
   ]
  },
  {
   "cell_type": "code",
   "execution_count": 16,
   "metadata": {},
   "outputs": [],
   "source": [
    "## Convert host_response_rate to quantititave\n",
    "data['host_response_rate'] = data[\"host_response_rate\"].astype(float)\n",
    "\n",
    "## Convert host_acceptance_rate to quantititave\n",
    "accept_rate = data['host_acceptance_rate'].copy()\n",
    "accept_rate[accept_rate == \"Unknown\"] = '-100'\n",
    "accept_rate = accept_rate.apply(str_to_pct)\n",
    "accept_rate[accept_rate == -1] = accept_rate[accept_rate != -1].mean() # replace all \"unknown\" with the average\n",
    "data['host_acceptance_rate'] = accept_rate"
   ]
  },
  {
   "cell_type": "code",
   "execution_count": 17,
   "metadata": {},
   "outputs": [],
   "source": [
    "## drop all irrelevant/redundant/text features\n",
    "data = data.iloc[:, 15:]\n",
    "\n",
    "data.drop(['host_thumbnail_url', 'host_about', 'host_neighbourhood', 'host_picture_url', 'host_verifications', 'street', 'neighbourhood',\n",
    "          'zipcode', 'smart_location', 'amenities', 'calendar_updated', 'has_availability', 'availability_30',\n",
    "          'availability_60', 'availability_90', 'first_review', 'last_review', ], axis=1, inplace=True)"
   ]
  },
  {
   "cell_type": "code",
   "execution_count": 18,
   "metadata": {},
   "outputs": [],
   "source": [
    "## convert all binary categorical features to 0 or 1\n",
    "\n",
    "data[\"host_is_superhost\"] = np.where(data[\"host_is_superhost\"] == \"t\", 1, 0)\n",
    "data[\"host_has_profile_pic\"] = np.where(data[\"host_has_profile_pic\"] == \"t\", 1, 0)\n",
    "data[\"host_identity_verified\"] = np.where(data[\"host_identity_verified\"] == \"t\", 1, 0)\n",
    "data[\"is_location_exact\"] = np.where(data[\"is_location_exact\"] == \"t\", 1, 0)\n",
    "data[\"requires_license\"] = np.where(data[\"requires_license\"] == \"t\", 1, 0)\n",
    "data[\"instant_bookable\"] = np.where(data[\"instant_bookable\"] == \"t\", 1, 0)\n",
    "data[\"is_business_travel_ready\"] = np.where(data[\"is_business_travel_ready\"] == \"t\", 1, 0)\n",
    "data[\"require_guest_profile_picture\"] = np.where(data[\"require_guest_profile_picture\"] == \"t\", 1, 0)\n",
    "data[\"require_guest_phone_verification\"] = np.where(data[\"require_guest_phone_verification\"] == \"t\", 1, 0)"
   ]
  },
  {
   "cell_type": "code",
   "execution_count": 19,
   "metadata": {},
   "outputs": [],
   "source": [
    "## split dataset into quantitative variables (binary, nonbinary) and categorical variables\n",
    "\n",
    "categorical_vars = data.loc[:, data.dtypes == object]\n",
    "float_vars = data.loc[:, data.dtypes == 'float64']\n",
    "int_vars = data.loc[:, data.dtypes == 'int64']\n",
    "quantitative_vars = pd.concat([float_vars, int_vars], axis=1)\n",
    "\n",
    "## extract the response variables for price and occupancy\n",
    "price = quantitative_vars[\"price\"].copy()\n",
    "quantitative_vars.drop(['price'], axis = 1, inplace = True)\n",
    "\n",
    "## split quantitative variables into binary and nonbinary\n",
    "binary = ['host_is_superhost', 'host_has_profile_pic', 'host_identity_verified', 'is_location_exact', \n",
    "          'requires_license', 'instant_bookable', 'is_business_travel_ready', 'require_guest_profile_picture',\n",
    "          'require_guest_phone_verification', 'has_summary', 'has_space', 'has_description',\n",
    "          'has_neighborhood_overview', 'has_notes', 'has_transit', 'has_access', 'has_interaction', \n",
    "          'has_house_rules', 'has_host_name', 'has_host_location', 'has_host_about', 'has_host_thumbnail_url',\n",
    "          'has_host_picture_url', 'has_host_verifications', 'has_zipcode', 'has_first_review', 'has_last_review']\n",
    "\n",
    "nonbinary_quant = [x for x in quantitative_vars.columns if x not in binary]\n",
    "\n",
    "binary_vars = quantitative_vars.loc[:, binary]\n",
    "nonbinary_quant_vars = quantitative_vars.loc[:, nonbinary_quant]\n",
    "\n",
    "## normalize quantative features\n",
    "nonbinary_vars_normalized = nonbinary_quant_vars.apply(lambda x: preprocessing.scale(x), axis = 0)"
   ]
  },
  {
   "cell_type": "code",
   "execution_count": 20,
   "metadata": {},
   "outputs": [],
   "source": [
    "## use likelihood encoding for neighbourhood_cleansed, which has 219 unique values\n",
    "ce_target = ce.TargetEncoder(cols = ['neighbourhood_cleansed'])\n",
    "ce_target.fit(categorical_vars, price)\n",
    "categorical_vars = ce_target.transform(categorical_vars, price)"
   ]
  },
  {
   "cell_type": "code",
   "execution_count": 21,
   "metadata": {},
   "outputs": [],
   "source": [
    "## create dummy variables for categorical features\n",
    "def dummy_df(df, feature_names):\n",
    "    dummydf = pd.DataFrame()\n",
    "    for name in feature_names:\n",
    "        tmp = pd.get_dummies(df.loc[:,name], prefix= name, prefix_sep='_')\n",
    "        dummydf = pd.concat([dummydf, tmp], axis = 1)\n",
    "    return dummydf\n",
    "\n",
    "## we won't create dummy variables for neighbourhood, since there are 219 unique values\n",
    "## the neighbourhood_group variable also captures location information, with only 5 unique values\n",
    "categorical_features = [x for x in categorical_vars.columns]\n",
    "dummy_vars = dummy_df(categorical_vars, categorical_features)\n",
    "model_data = pd.concat([nonbinary_vars_normalized, binary_vars, dummy_vars], axis = 1)"
   ]
  },
  {
   "cell_type": "code",
   "execution_count": 22,
   "metadata": {},
   "outputs": [
    {
     "data": {
      "text/html": [
       "<div>\n",
       "<style scoped>\n",
       "    .dataframe tbody tr th:only-of-type {\n",
       "        vertical-align: middle;\n",
       "    }\n",
       "\n",
       "    .dataframe tbody tr th {\n",
       "        vertical-align: top;\n",
       "    }\n",
       "\n",
       "    .dataframe thead th {\n",
       "        text-align: right;\n",
       "    }\n",
       "</style>\n",
       "<table border=\"1\" class=\"dataframe\">\n",
       "  <thead>\n",
       "    <tr style=\"text-align: right;\">\n",
       "      <th></th>\n",
       "      <th>host_response_rate</th>\n",
       "      <th>host_acceptance_rate</th>\n",
       "      <th>host_listings_count</th>\n",
       "      <th>host_total_listings_count</th>\n",
       "      <th>latitude</th>\n",
       "      <th>longitude</th>\n",
       "      <th>bathrooms</th>\n",
       "      <th>bedrooms</th>\n",
       "      <th>beds</th>\n",
       "      <th>security_deposit</th>\n",
       "      <th>...</th>\n",
       "      <th>bed_type_Couch</th>\n",
       "      <th>bed_type_Futon</th>\n",
       "      <th>bed_type_Pull-out Sofa</th>\n",
       "      <th>bed_type_Real Bed</th>\n",
       "      <th>cancellation_policy_flexible</th>\n",
       "      <th>cancellation_policy_moderate</th>\n",
       "      <th>cancellation_policy_strict</th>\n",
       "      <th>cancellation_policy_strict_14_with_grace_period</th>\n",
       "      <th>cancellation_policy_super_strict_30</th>\n",
       "      <th>cancellation_policy_super_strict_60</th>\n",
       "    </tr>\n",
       "  </thead>\n",
       "  <tbody>\n",
       "    <tr>\n",
       "      <td>0</td>\n",
       "      <td>-3.366526</td>\n",
       "      <td>-2.153667</td>\n",
       "      <td>-0.038457</td>\n",
       "      <td>-0.038457</td>\n",
       "      <td>0.457204</td>\n",
       "      <td>-0.709171</td>\n",
       "      <td>-0.335683</td>\n",
       "      <td>-1.575896</td>\n",
       "      <td>-0.487569</td>\n",
       "      <td>0.237199</td>\n",
       "      <td>...</td>\n",
       "      <td>0</td>\n",
       "      <td>0</td>\n",
       "      <td>0</td>\n",
       "      <td>1</td>\n",
       "      <td>0</td>\n",
       "      <td>0</td>\n",
       "      <td>0</td>\n",
       "      <td>1</td>\n",
       "      <td>0</td>\n",
       "      <td>0</td>\n",
       "    </tr>\n",
       "    <tr>\n",
       "      <td>1</td>\n",
       "      <td>0.448289</td>\n",
       "      <td>0.584626</td>\n",
       "      <td>-0.109572</td>\n",
       "      <td>-0.109572</td>\n",
       "      <td>-0.773778</td>\n",
       "      <td>-0.211917</td>\n",
       "      <td>-0.335683</td>\n",
       "      <td>-0.242672</td>\n",
       "      <td>2.108846</td>\n",
       "      <td>0.615132</td>\n",
       "      <td>...</td>\n",
       "      <td>0</td>\n",
       "      <td>0</td>\n",
       "      <td>0</td>\n",
       "      <td>1</td>\n",
       "      <td>0</td>\n",
       "      <td>1</td>\n",
       "      <td>0</td>\n",
       "      <td>0</td>\n",
       "      <td>0</td>\n",
       "      <td>0</td>\n",
       "    </tr>\n",
       "    <tr>\n",
       "      <td>2</td>\n",
       "      <td>-0.042811</td>\n",
       "      <td>-0.595673</td>\n",
       "      <td>-0.109572</td>\n",
       "      <td>-0.109572</td>\n",
       "      <td>0.350248</td>\n",
       "      <td>-0.527542</td>\n",
       "      <td>-0.335683</td>\n",
       "      <td>-0.242672</td>\n",
       "      <td>-0.487569</td>\n",
       "      <td>0.111221</td>\n",
       "      <td>...</td>\n",
       "      <td>0</td>\n",
       "      <td>0</td>\n",
       "      <td>0</td>\n",
       "      <td>1</td>\n",
       "      <td>0</td>\n",
       "      <td>1</td>\n",
       "      <td>0</td>\n",
       "      <td>0</td>\n",
       "      <td>0</td>\n",
       "      <td>0</td>\n",
       "    </tr>\n",
       "    <tr>\n",
       "      <td>3</td>\n",
       "      <td>-0.042811</td>\n",
       "      <td>-0.784521</td>\n",
       "      <td>-0.109572</td>\n",
       "      <td>-0.109572</td>\n",
       "      <td>-0.742500</td>\n",
       "      <td>-0.133218</td>\n",
       "      <td>0.022871</td>\n",
       "      <td>-0.242672</td>\n",
       "      <td>-0.487569</td>\n",
       "      <td>0.489154</td>\n",
       "      <td>...</td>\n",
       "      <td>0</td>\n",
       "      <td>1</td>\n",
       "      <td>0</td>\n",
       "      <td>0</td>\n",
       "      <td>0</td>\n",
       "      <td>0</td>\n",
       "      <td>0</td>\n",
       "      <td>1</td>\n",
       "      <td>0</td>\n",
       "      <td>0</td>\n",
       "    </tr>\n",
       "    <tr>\n",
       "      <td>4</td>\n",
       "      <td>-0.314674</td>\n",
       "      <td>0.773474</td>\n",
       "      <td>-0.109572</td>\n",
       "      <td>-0.109572</td>\n",
       "      <td>0.659791</td>\n",
       "      <td>-0.733195</td>\n",
       "      <td>-0.335683</td>\n",
       "      <td>-0.242672</td>\n",
       "      <td>-0.487569</td>\n",
       "      <td>0.034949</td>\n",
       "      <td>...</td>\n",
       "      <td>0</td>\n",
       "      <td>0</td>\n",
       "      <td>0</td>\n",
       "      <td>1</td>\n",
       "      <td>0</td>\n",
       "      <td>0</td>\n",
       "      <td>0</td>\n",
       "      <td>1</td>\n",
       "      <td>0</td>\n",
       "      <td>0</td>\n",
       "    </tr>\n",
       "  </tbody>\n",
       "</table>\n",
       "<p>5 rows × 362 columns</p>\n",
       "</div>"
      ],
      "text/plain": [
       "   host_response_rate  host_acceptance_rate  host_listings_count  \\\n",
       "0           -3.366526             -2.153667            -0.038457   \n",
       "1            0.448289              0.584626            -0.109572   \n",
       "2           -0.042811             -0.595673            -0.109572   \n",
       "3           -0.042811             -0.784521            -0.109572   \n",
       "4           -0.314674              0.773474            -0.109572   \n",
       "\n",
       "   host_total_listings_count  latitude  longitude  bathrooms  bedrooms  \\\n",
       "0                  -0.038457  0.457204  -0.709171  -0.335683 -1.575896   \n",
       "1                  -0.109572 -0.773778  -0.211917  -0.335683 -0.242672   \n",
       "2                  -0.109572  0.350248  -0.527542  -0.335683 -0.242672   \n",
       "3                  -0.109572 -0.742500  -0.133218   0.022871 -0.242672   \n",
       "4                  -0.109572  0.659791  -0.733195  -0.335683 -0.242672   \n",
       "\n",
       "       beds  security_deposit  ...  bed_type_Couch  bed_type_Futon  \\\n",
       "0 -0.487569          0.237199  ...               0               0   \n",
       "1  2.108846          0.615132  ...               0               0   \n",
       "2 -0.487569          0.111221  ...               0               0   \n",
       "3 -0.487569          0.489154  ...               0               1   \n",
       "4 -0.487569          0.034949  ...               0               0   \n",
       "\n",
       "   bed_type_Pull-out Sofa  bed_type_Real Bed  cancellation_policy_flexible  \\\n",
       "0                       0                  1                             0   \n",
       "1                       0                  1                             0   \n",
       "2                       0                  1                             0   \n",
       "3                       0                  0                             0   \n",
       "4                       0                  1                             0   \n",
       "\n",
       "   cancellation_policy_moderate  cancellation_policy_strict  \\\n",
       "0                             0                           0   \n",
       "1                             1                           0   \n",
       "2                             1                           0   \n",
       "3                             0                           0   \n",
       "4                             0                           0   \n",
       "\n",
       "   cancellation_policy_strict_14_with_grace_period  \\\n",
       "0                                                1   \n",
       "1                                                0   \n",
       "2                                                0   \n",
       "3                                                1   \n",
       "4                                                1   \n",
       "\n",
       "   cancellation_policy_super_strict_30  cancellation_policy_super_strict_60  \n",
       "0                                    0                                    0  \n",
       "1                                    0                                    0  \n",
       "2                                    0                                    0  \n",
       "3                                    0                                    0  \n",
       "4                                    0                                    0  \n",
       "\n",
       "[5 rows x 362 columns]"
      ]
     },
     "execution_count": 22,
     "metadata": {},
     "output_type": "execute_result"
    }
   ],
   "source": [
    "model_data.head()"
   ]
  },
  {
   "cell_type": "markdown",
   "metadata": {},
   "source": [
    "# Model Fitting"
   ]
  },
  {
   "cell_type": "markdown",
   "metadata": {},
   "source": [
    "## Who Will Our Model Work For?\n",
    "\n",
    "In order to make an accurate model, we will remove the outliers for our target variable, price. Since a vast majority of the listings in the dataset are under 400 dollars, we will remove all observations over 400 dollars. This means that our model will not work well for predicting price for very expensive listings, which we will accept because these listings account for 3% of our data. Furthermore, our final goal is to predict annual income, and we imagine occupancy becomes very unstable and hard to model for a listing that's particularly expensive. \n"
   ]
  },
  {
   "cell_type": "code",
   "execution_count": 23,
   "metadata": {
    "scrolled": false
   },
   "outputs": [
    {
     "data": {
      "text/plain": [
       "Text(0.5, 1.0, 'Distribution of Prices Under $1000 in Dataset')"
      ]
     },
     "execution_count": 23,
     "metadata": {},
     "output_type": "execute_result"
    },
    {
     "data": {
      "image/png": "[encoded data removed]",
      "text/plain": [
       "<Figure size 936x216 with 2 Axes>"
      ]
     },
     "metadata": {
      "needs_background": "light"
     },
     "output_type": "display_data"
    }
   ],
   "source": [
    "fig, axs = plt.subplots(1, 2, figsize=(13, 3))\n",
    "axs[0].hist(price)\n",
    "axs[0].set_title(\"Distribution of Prices in Dataset\")\n",
    "axs[1].hist(price[price<1000])\n",
    "axs[1].set_title(\"Distribution of Prices Under $1000 in Dataset\")"
   ]
  },
  {
   "cell_type": "code",
   "execution_count": 24,
   "metadata": {
    "scrolled": true
   },
   "outputs": [
    {
     "name": "stdout",
     "output_type": "stream",
     "text": [
      "The proportion of listings over $400: 0.029189296431317114\n"
     ]
    }
   ],
   "source": [
    "print(\"The proportion of listings over $400:\", sum(price > 400)/len(price))"
   ]
  },
  {
   "cell_type": "code",
   "execution_count": 25,
   "metadata": {},
   "outputs": [],
   "source": [
    "Y = price[price<400]\n",
    "X = model_data.loc[price<400,:]"
   ]
  },
  {
   "cell_type": "code",
   "execution_count": 26,
   "metadata": {},
   "outputs": [],
   "source": [
    "X_train, X_test, Y_train, Y_test = train_test_split(X, Y, test_size=0.2, random_state=100)\n",
    "#dummies_train, dummies_test, price_train, price_test = train_test_split(model_data_encoded, price, test_size=0.2, random_state=10)\n",
    "\n",
    "## a function to compute the rmse\n",
    "def compute_rmse(predictions, yvalues):\n",
    "    return np.sqrt(sum((np.array(predictions)-np.array(yvalues))**2)/len(yvalues))"
   ]
  },
  {
   "cell_type": "markdown",
   "metadata": {},
   "source": [
    "## Linear Regression"
   ]
  },
  {
   "cell_type": "code",
   "execution_count": 27,
   "metadata": {},
   "outputs": [
    {
     "data": {
      "text/plain": [
       "43.33225928057462"
      ]
     },
     "execution_count": 27,
     "metadata": {},
     "output_type": "execute_result"
    }
   ],
   "source": [
    "mod = sm.OLS(Y_train, X_train)\n",
    "fitted_model = mod.fit()\n",
    "\n",
    "test_pred = fitted_model.predict(X_test)\n",
    "compute_rmse(test_pred, Y_test)"
   ]
  },
  {
   "cell_type": "markdown",
   "metadata": {},
   "source": [
    "#### Assumptions\n",
    "Here are the assumptions that we will check:\n",
    "\n",
    "1. The relationship between the covariates and the response variable can be modelled linearly.\n",
    "2. The expectation of errors is 0\n",
    "3. the errors have equal variance (homoskedastic)"
   ]
  },
  {
   "cell_type": "code",
   "execution_count": 32,
   "metadata": {
    "scrolled": true
   },
   "outputs": [
    {
     "data": {
      "text/plain": [
       "[Text(0, 0.5, 'Residuals'), Text(0.5, 0, 'Predicted')]"
      ]
     },
     "execution_count": 32,
     "metadata": {},
     "output_type": "execute_result"
    },
    {
     "data": {
      "image/png": "[encoded data removed]",
      "text/plain": [
       "<Figure size 936x216 with 2 Axes>"
      ]
     },
     "metadata": {
      "needs_background": "light"
     },
     "output_type": "display_data"
    }
   ],
   "source": [
    "## check for linearity \n",
    "fitted_vals = fitted_model.predict()\n",
    "resids = fitted_model.resid\n",
    "\n",
    "fig, ax = plt.subplots(1,2, figsize=(13, 3))\n",
    "    \n",
    "sns.regplot(x=fitted_vals, y=Y_train, lowess=True, ax=ax[0], line_kws={'color': 'red'})\n",
    "ax[0].set_title('Observed vs. Predicted Values', fontsize=16)\n",
    "ax[0].set(xlabel='Predicted', ylabel='Observed')\n",
    "\n",
    "sns.regplot(x=fitted_vals, y=resids, lowess=True, ax=ax[1], line_kws={'color': 'red'})\n",
    "ax[1].set_title('Residuals vs. Predicted Values', fontsize=16)\n",
    "ax[1].set(xlabel='Predicted', ylabel='Residuals')"
   ]
  },
  {
   "cell_type": "markdown",
   "metadata": {},
   "source": [
    "Ideally, the points are symmetrically distributed around the line in both plots, which appear to be true."
   ]
  },
  {
   "cell_type": "code",
   "execution_count": 30,
   "metadata": {},
   "outputs": [
    {
     "data": {
      "text/plain": [
       "8.733052178008002e-14"
      ]
     },
     "execution_count": 30,
     "metadata": {},
     "output_type": "execute_result"
    }
   ],
   "source": [
    "## confirm the expectation of errors (residuals) is 0\n",
    "fitted_model.resid.mean()"
   ]
  },
  {
   "cell_type": "code",
   "execution_count": 37,
   "metadata": {
    "scrolled": false
   },
   "outputs": [
    {
     "ename": "AttributeError",
     "evalue": "module 'statsmodels.api' has no attribute 'het_breuschpagan'",
     "output_type": "error",
     "traceback": [
      "\u001b[0;31m---------------------------------------------------------------------------\u001b[0m",
      "\u001b[0;31mAttributeError\u001b[0m                            Traceback (most recent call last)",
      "\u001b[0;32m<ipython-input-37-8f2336dd1804>\u001b[0m in \u001b[0;36m<module>\u001b[0;34m\u001b[0m\n\u001b[1;32m     19\u001b[0m \u001b[0;31m# a p-value below a certain level (like 0.05) indicates we should\u001b[0m\u001b[0;34m\u001b[0m\u001b[0;34m\u001b[0m\u001b[0;34m\u001b[0m\u001b[0m\n\u001b[1;32m     20\u001b[0m \u001b[0;31m# reject the null in favor of heteroscedasticity.\u001b[0m\u001b[0;34m\u001b[0m\u001b[0;34m\u001b[0m\u001b[0;34m\u001b[0m\u001b[0m\n\u001b[0;32m---> 21\u001b[0;31m bp_test = pd.DataFrame(sm.het_breuschpagan(resids, mod.model.exog), \n\u001b[0m\u001b[1;32m     22\u001b[0m                            \u001b[0mcolumns\u001b[0m\u001b[0;34m=\u001b[0m\u001b[0;34m[\u001b[0m\u001b[0;34m'value'\u001b[0m\u001b[0;34m]\u001b[0m\u001b[0;34m,\u001b[0m\u001b[0;34m\u001b[0m\u001b[0;34m\u001b[0m\u001b[0m\n\u001b[1;32m     23\u001b[0m                            index=['Lagrange multiplier statistic', 'p-value', 'f-value', 'f p-value'])\n",
      "\u001b[0;31mAttributeError\u001b[0m: module 'statsmodels.api' has no attribute 'het_breuschpagan'"
     ]
    },
    {
     "data": {
      "image/png": "[encoded data removed]",
      "text/plain": [
       "<Figure size 936x216 with 2 Axes>"
      ]
     },
     "metadata": {
      "needs_background": "light"
     },
     "output_type": "display_data"
    }
   ],
   "source": [
    "## check for homoscedasticity\n",
    "resids_standardized = fitted_model.get_influence().resid_studentized_internal\n",
    "\n",
    "fig, ax = plt.subplots(1,2, figsize=(13, 3))\n",
    "\n",
    "sns.regplot(x=fitted_vals, y=resids, lowess=True, ax=ax[0], line_kws={'color': 'red'})\n",
    "ax[0].set_title('Residuals vs Fitted', fontsize=16)\n",
    "ax[0].set(xlabel='Fitted Values', ylabel='Residuals')\n",
    "\n",
    "sns.regplot(x=fitted_vals, y=np.sqrt(np.abs(resids_standardized)), lowess=True, ax=ax[1], line_kws={'color': 'red'})\n",
    "ax[1].set_title('Scale-Location', fontsize=16)\n",
    "ax[1].set(xlabel='Fitted Values', ylabel='sqrt(abs(Residuals))')\n",
    "# The desired outcome should be that the placement of the points \n",
    "# should be random and no pattern (increase/decrease in values of residuals) should be visible."
   ]
  },
  {
   "cell_type": "markdown",
   "metadata": {},
   "source": [
    "Here, the points are roughly evenly distributed about the line in both plots, so we assume that the errors are homoskedastic."
   ]
  },
  {
   "cell_type": "markdown",
   "metadata": {},
   "source": [
    "## Lasso Regression"
   ]
  },
  {
   "cell_type": "code",
   "execution_count": 40,
   "metadata": {},
   "outputs": [],
   "source": [
    "lasso = Lasso(max_iter=1e4)\n",
    "parameters = {'alpha': np.arange(.05, 1, .05)}"
   ]
  },
  {
   "cell_type": "code",
   "execution_count": 394,
   "metadata": {
    "scrolled": true
   },
   "outputs": [
    {
     "name": "stdout",
     "output_type": "stream",
     "text": [
      "{'alpha': 0.05}\n",
      "-82423.50192259565\n"
     ]
    }
   ],
   "source": [
    "np.random.seed(seed=1000)\n",
    "lasso_gridcv = GridSearchCV(lasso, parameters, scoring = 'neg_mean_squared_error', cv = 5)\n",
    "lasso_gridcv.fit(dummies_train, price_train)\n",
    "print(lasso_gridcv.best_params_)\n",
    "print(lasso_gridcv.best_score_)"
   ]
  },
  {
   "cell_type": "code",
   "execution_count": 41,
   "metadata": {},
   "outputs": [
    {
     "data": {
      "text/plain": [
       "Lasso(alpha=0.05, copy_X=True, fit_intercept=True, max_iter=100000.0,\n",
       "      normalize=False, positive=False, precompute=False, random_state=None,\n",
       "      selection='cyclic', tol=0.0001, warm_start=False)"
      ]
     },
     "execution_count": 41,
     "metadata": {},
     "output_type": "execute_result"
    }
   ],
   "source": [
    "## fit the model now with the optimal tuning parameter\n",
    "lassoreg = Lasso(alpha=.05, max_iter=1e5)\n",
    "lassoreg.fit(X_train, Y_train)"
   ]
  },
  {
   "cell_type": "code",
   "execution_count": 42,
   "metadata": {},
   "outputs": [
    {
     "data": {
      "text/plain": [
       "43.91979518448925"
      ]
     },
     "execution_count": 42,
     "metadata": {},
     "output_type": "execute_result"
    }
   ],
   "source": [
    "lasso_preds = lassoreg.predict(X_test)\n",
    "compute_rmse(lasso_preds, Y_test)"
   ]
  },
  {
   "cell_type": "markdown",
   "metadata": {},
   "source": [
    "#### Assumptions\n",
    "Since Lasso regression is in the family of linear models, it has the same assumptions as OLS (listed above). "
   ]
  },
  {
   "cell_type": "code",
   "execution_count": 45,
   "metadata": {},
   "outputs": [
    {
     "data": {
      "text/plain": [
       "[Text(0, 0.5, 'Residuals'), Text(0.5, 0, 'Predicted')]"
      ]
     },
     "execution_count": 45,
     "metadata": {},
     "output_type": "execute_result"
    },
    {
     "data": {
      "image/png": "[encoded data removed]",
      "text/plain": [
       "<Figure size 432x288 with 2 Axes>"
      ]
     },
     "metadata": {
      "needs_background": "light"
     },
     "output_type": "display_data"
    }
   ],
   "source": [
    "## check linearity \n",
    "fitted_vals = lassoreg.predict(X_train)\n",
    "resids = Y_train - fitted_vals\n",
    "\n",
    "fig, ax = plt.subplots(1,2, figsize=(13, 3))\n",
    "    \n",
    "sns.regplot(x=fitted_vals, y=Y_train, lowess=True, ax=ax[0], line_kws={'color': 'red'})\n",
    "ax[0].set_title('Observed vs. Predicted Values', fontsize=16)\n",
    "ax[0].set(xlabel='Predicted', ylabel='Observed')\n",
    "\n",
    "sns.regplot(x=fitted_vals, y=resids, lowess=True, ax=ax[1], line_kws={'color': 'red'})\n",
    "ax[1].set_title('Residuals vs. Predicted Values', fontsize=16)\n",
    "ax[1].set(xlabel='Predicted', ylabel='Residuals')"
   ]
  },
  {
   "cell_type": "markdown",
   "metadata": {},
   "source": [
    "Ideally, the points are symmetrically distributed around the line in both plots, which appear to be true."
   ]
  },
  {
   "cell_type": "code",
   "execution_count": 46,
   "metadata": {},
   "outputs": [
    {
     "data": {
      "text/plain": [
       "9.36442301514321e-15"
      ]
     },
     "execution_count": 46,
     "metadata": {},
     "output_type": "execute_result"
    }
   ],
   "source": [
    "## check the expectation of errors (residuals) is 0\n",
    "np.mean(resids)"
   ]
  },
  {
   "cell_type": "code",
   "execution_count": 56,
   "metadata": {},
   "outputs": [
    {
     "data": {
      "text/plain": [
       "Text(0, 0.5, 'Residuals')"
      ]
     },
     "execution_count": 56,
     "metadata": {},
     "output_type": "execute_result"
    },
    {
     "data": {
      "image/png": "[encoded data removed]",
      "text/plain": [
       "<Figure size 432x288 with 1 Axes>"
      ]
     },
     "metadata": {
      "needs_background": "light"
     },
     "output_type": "display_data"
    }
   ],
   "source": [
    "## check for homoscedasticity\n",
    "## to do this, we look at a plot of residuals (or standardized residuals) vs. predicted (fitted) values.\n",
    "\n",
    "sns.regplot(x=fitted_vals, y=resids, lowess=True, line_kws={'color': 'red'})\n",
    "plt.title('Residuals vs Fitted')\n",
    "plt.xlabel('Fitted Values')\n",
    "plt.ylabel('Residuals')"
   ]
  },
  {
   "cell_type": "markdown",
   "metadata": {},
   "source": [
    "Ideally, the points should be randomly spread out and there shouldn't be any visible pattern, both of which appear to be true."
   ]
  },
  {
   "cell_type": "markdown",
   "metadata": {},
   "source": [
    "## Random Forest\n",
    "\n",
    "For the random forest model, I will optimize for the hypermarater \"n_estimators\", which is the number of trees in the forest. I will use the default values for other hyperparameters such as max_depth and min_samples_leaf as running a grid search across the parameter space for 3 hyperparameters is computationally expensive. "
   ]
  },
  {
   "cell_type": "code",
   "execution_count": 397,
   "metadata": {},
   "outputs": [
    {
     "name": "stdout",
     "output_type": "stream",
     "text": [
      "{'n_estimators': 300}\n"
     ]
    }
   ],
   "source": [
    "## initialize the model and parameter space\n",
    "\n",
    "rf_model = RandomForestRegressor(random_state = 5, max_features = 'sqrt')\n",
    "parameters = {'n_estimators': np.arange(30, 301, 30)}\n",
    "\n",
    "np.random.seed(seed=1000)\n",
    "rf_gridcv = GridSearchCV(estimator = rf_model, param_grid = parameters, cv = 5)\n",
    "rf_gridcv.fit(X_train, Y_train)\n",
    "print(rf_gridcv.best_params_)\n"
   ]
  },
  {
   "cell_type": "code",
   "execution_count": 390,
   "metadata": {
    "scrolled": true
   },
   "outputs": [
    {
     "data": {
      "text/plain": [
       "40.72617598198234"
      ]
     },
     "execution_count": 390,
     "metadata": {},
     "output_type": "execute_result"
    }
   ],
   "source": [
    "mod = RandomForestRegressor(n_estimators = 300)\n",
    "mod.fit(X_train, Y_train)\n",
    "rf_preds = mod.predict(X_test)\n",
    "compute_rmse(rf_preds, Y_test)"
   ]
  },
  {
   "cell_type": "markdown",
   "metadata": {},
   "source": [
    "## GBM\n",
    "\n",
    "For the gradient boosting machine, I will optimize for 2 hyperparameters: learning rate and number of trees. Here, I will use a random search across the parameter space as gradient boosting is computationally expensive across such a large grid of hyperparameters."
   ]
  },
  {
   "cell_type": "code",
   "execution_count": null,
   "metadata": {},
   "outputs": [],
   "source": [
    "## create the random grid\n",
    "rates = [.01, .1, .25, .5, .75, 1]\n",
    "ntrees = [x for x in np.arange(100, 501, 100)]\n",
    "\n",
    "gb_model = GradientBoostingRegressor(random_state = 5)\n",
    "parameters = {'learning_rate': rates,\n",
    "              'n_estimators': ntrees}\n",
    "\n",
    "\n",
    "gbm_gridcv = GridSearchCV(estimator = gb_model, param_grid = parameters, cv = 5)\n",
    "\n",
    "gbm_gridcv.fit(X_train, Y_train)\n",
    "\n",
    "gbm_gridcv.best_params_"
   ]
  },
  {
   "cell_type": "code",
   "execution_count": 392,
   "metadata": {},
   "outputs": [
    {
     "data": {
      "text/plain": [
       "39.750103270932165"
      ]
     },
     "execution_count": 392,
     "metadata": {},
     "output_type": "execute_result"
    }
   ],
   "source": [
    "gb_model = GradientBoostingRegressor(learning_rate = .1, n_estimators = 500)\n",
    "gb_model.fit(X_train, Y_train)\n",
    "gbm_preds = gb_model.predict(X_test)\n",
    "compute_rmse(gbm_preds, Y_test)"
   ]
  },
  {
   "cell_type": "markdown",
   "metadata": {},
   "source": [
    "## Summary\n",
    "\n",
    "Overall, the best performing model for price is the GBM with a learning rate of .1 and 500 trees, which yielded a test RMSE of 39. Therefore, we will proceed using this model to predict price."
   ]
  },
  {
   "cell_type": "markdown",
   "metadata": {},
   "source": [
    "# Predicting Income\n",
    "\n",
    "Now that we have a good model for predicting average nightly price, we just need the number of days that the listing will be occupied to get an estimate of the annual income. Here is how we will model annual income:\n",
    "\n",
    "$${income} =  {price}_{nightly} \\times {days}_{Available}\\times {Occupancy Rate}$$"
   ]
  },
  {
   "cell_type": "markdown",
   "metadata": {},
   "source": [
    "### Availability\n",
    "\n",
    "To get the number of days that a listing is available for rent, we will use the calendar dataset from earlier, where we computed annual availability."
   ]
  },
  {
   "cell_type": "code",
   "execution_count": 396,
   "metadata": {},
   "outputs": [],
   "source": [
    "availability = calendar_summary['annual_availability']"
   ]
  },
  {
   "cell_type": "markdown",
   "metadata": {},
   "source": [
    "### Occupancy Rate\n",
    "\n",
    "To model occupancy, we will use the \"San Francisco Model\" as described by the San Francisco Planning Department in [The Executive Summary of Amendments Relating to Short-Term Rentals](https://commissions.sfplanning.org/cpcpackets/2014-001033PCA.pdf). One way that occupancy over a period of time was estimated in the report was by finding the number of reviews over a period of time, multiplying by the average length of stay, and then dividing by the percent of guests that leave reviews (i.e. review rate, which is estimated). For example, if a listing got 20 reviews/year on average, and the average length of stay was 3 days, and we estimate that 50\\% of guests who stay in a listing leave reviews, then we have:\n",
    "$$occupancy = min(20 \\times 3 \\div .5, 365)$$\n",
    "\n",
    "Airbnb stated in 2012 that only 72% of guests leave reviews, but we feel this is an overly enthusiastic estimate with little evidence to support the claim. According to [InsideAirbnb.com](http://insideairbnb.com/about.html), \"using a review rate of 30.5% is more fact based\", so we will return a conservative estimate of annual income by assuming onlt 30.5% of guests leave reviews. To get the occupancy rate over a year, we will divide the days of occupancy by 365.\n",
    "$${Occupancy Rate} = \\frac{min(\\overline{reviews}_{annual} \\times \\overline{length}_{stay} \\div .305, 365)}{365}$$"
   ]
  },
  {
   "cell_type": "code",
   "execution_count": null,
   "metadata": {},
   "outputs": [],
   "source": []
  }
 ],
 "metadata": {
  "kernelspec": {
   "display_name": "Python 3",
   "language": "python",
   "name": "python3"
  },
  "language_info": {
   "codemirror_mode": {
    "name": "ipython",
    "version": 3
   },
   "file_extension": ".py",
   "mimetype": "text/x-python",
   "name": "python",
   "nbconvert_exporter": "python",
   "pygments_lexer": "ipython3",
   "version": "3.7.4"
  }
 },
 "nbformat": 4,
 "nbformat_minor": 2
}
