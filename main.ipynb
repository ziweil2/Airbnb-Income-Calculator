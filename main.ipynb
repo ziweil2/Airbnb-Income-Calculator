{
 "cells": [
  {
   "cell_type": "markdown",
   "metadata": {},
   "source": [
    "# Loading the Datasets and Initial Commentary\n"
   ]
  },
  {
   "cell_type": "code",
   "execution_count": 1,
   "metadata": {
    "scrolled": true
   },
   "outputs": [],
   "source": [
    "import IPython\n",
    "import numpy as np\n",
    "import scipy as sp\n",
    "import pandas as pd\n",
    "import matplotlib\n",
    "import sklearn\n",
    "import matplotlib.pyplot as plt\n",
    "import seaborn as sns\n",
    "import re\n",
    "import string\n",
    "from wordcloud import WordCloud, STOPWORDS\n",
    "from re import sub"
   ]
  },
  {
   "cell_type": "markdown",
   "metadata": {},
   "source": [
    "There are a total of 7 datasets, one of which is a geojson file for the neighborhoods in New York. We will exclude it from the initial EDA since that dataset contains the geographical location of the neighborhoods, which is less interesting than the neighborhoods that the listings are in (we can get this data from the listings dataset). Therefore, we will load the remaining 6 datasets."
   ]
  },
  {
   "cell_type": "code",
   "execution_count": 2,
   "metadata": {
    "scrolled": true
   },
   "outputs": [
    {
     "name": "stderr",
     "output_type": "stream",
     "text": [
      "/opt/anaconda3/lib/python3.7/site-packages/IPython/core/interactiveshell.py:3058: DtypeWarning: Columns (61,62,94,95) have mixed types. Specify dtype option on import or set low_memory=False.\n",
      "  interactivity=interactivity, compiler=compiler, result=result)\n"
     ]
    }
   ],
   "source": [
    "listings = pd.read_csv('./Data/listings.csv') \n",
    "reviews = pd.read_csv('./Data/reviews.csv')\n",
    "reviews_full = pd.read_csv('./Data/reviews_full.csv')\n",
    "listings_full = pd.read_csv('./Data/listings_full.csv')\n",
    "neighborhood = pd.read_csv('./Data/neighbourhoods.csv')\n",
    "calendar = pd.read_csv('./Data/calendar.csv')"
   ]
  },
  {
   "cell_type": "code",
   "execution_count": 8,
   "metadata": {},
   "outputs": [
    {
     "data": {
      "text/plain": [
       "(230, 2)"
      ]
     },
     "execution_count": 8,
     "metadata": {},
     "output_type": "execute_result"
    }
   ],
   "source": [
    "neighborhood.shape"
   ]
  },
  {
   "cell_type": "code",
   "execution_count": 4,
   "metadata": {},
   "outputs": [],
   "source": [
    "data = listings_full.copy()\n",
    "float_vars = data.loc[:, data.dtypes == 'float64']\n",
    "int_vars = data.loc[:, data.dtypes == 'int64']\n",
    "quantitative_vars = pd.concat([float_vars, int_vars], axis=1)\n",
    "categorical_vars = data.loc[:, data.dtypes == object]"
   ]
  },
  {
   "cell_type": "code",
   "execution_count": 6,
   "metadata": {},
   "outputs": [
    {
     "name": "stdout",
     "output_type": "stream",
     "text": [
      "(51097, 42)\n",
      "(51097, 64)\n"
     ]
    }
   ],
   "source": [
    "print(quantitative_vars.shape)\n",
    "print(categorical_vars.shape)"
   ]
  },
  {
   "cell_type": "markdown",
   "metadata": {},
   "source": [
    "## Listings Datasets"
   ]
  },
  {
   "cell_type": "code",
   "execution_count": 9,
   "metadata": {
    "scrolled": true
   },
   "outputs": [
    {
     "name": "stdout",
     "output_type": "stream",
     "text": [
      "(50599, 16)\n"
     ]
    },
    {
     "data": {
      "text/html": [
       "<div>\n",
       "<style scoped>\n",
       "    .dataframe tbody tr th:only-of-type {\n",
       "        vertical-align: middle;\n",
       "    }\n",
       "\n",
       "    .dataframe tbody tr th {\n",
       "        vertical-align: top;\n",
       "    }\n",
       "\n",
       "    .dataframe thead th {\n",
       "        text-align: right;\n",
       "    }\n",
       "</style>\n",
       "<table border=\"1\" class=\"dataframe\">\n",
       "  <thead>\n",
       "    <tr style=\"text-align: right;\">\n",
       "      <th></th>\n",
       "      <th>id</th>\n",
       "      <th>name</th>\n",
       "      <th>host_id</th>\n",
       "      <th>host_name</th>\n",
       "      <th>neighbourhood_group</th>\n",
       "      <th>neighbourhood</th>\n",
       "      <th>latitude</th>\n",
       "      <th>longitude</th>\n",
       "      <th>room_type</th>\n",
       "      <th>price</th>\n",
       "      <th>minimum_nights</th>\n",
       "      <th>number_of_reviews</th>\n",
       "      <th>last_review</th>\n",
       "      <th>reviews_per_month</th>\n",
       "      <th>calculated_host_listings_count</th>\n",
       "      <th>availability_365</th>\n",
       "    </tr>\n",
       "  </thead>\n",
       "  <tbody>\n",
       "    <tr>\n",
       "      <td>0</td>\n",
       "      <td>2595</td>\n",
       "      <td>Skylit Midtown Castle</td>\n",
       "      <td>2845</td>\n",
       "      <td>Jennifer</td>\n",
       "      <td>Manhattan</td>\n",
       "      <td>Midtown</td>\n",
       "      <td>40.75362</td>\n",
       "      <td>-73.98377</td>\n",
       "      <td>Entire home/apt</td>\n",
       "      <td>225</td>\n",
       "      <td>10</td>\n",
       "      <td>48</td>\n",
       "      <td>2019-11-04</td>\n",
       "      <td>0.39</td>\n",
       "      <td>1</td>\n",
       "      <td>1</td>\n",
       "    </tr>\n",
       "    <tr>\n",
       "      <td>1</td>\n",
       "      <td>3831</td>\n",
       "      <td>Cozy Entire Floor of Brownstone</td>\n",
       "      <td>4869</td>\n",
       "      <td>LisaRoxanne</td>\n",
       "      <td>Brooklyn</td>\n",
       "      <td>Clinton Hill</td>\n",
       "      <td>40.68514</td>\n",
       "      <td>-73.95976</td>\n",
       "      <td>Entire home/apt</td>\n",
       "      <td>89</td>\n",
       "      <td>1</td>\n",
       "      <td>295</td>\n",
       "      <td>2019-11-22</td>\n",
       "      <td>4.67</td>\n",
       "      <td>1</td>\n",
       "      <td>1</td>\n",
       "    </tr>\n",
       "    <tr>\n",
       "      <td>2</td>\n",
       "      <td>5099</td>\n",
       "      <td>Large Cozy 1 BR Apartment In Midtown East</td>\n",
       "      <td>7322</td>\n",
       "      <td>Chris</td>\n",
       "      <td>Manhattan</td>\n",
       "      <td>Murray Hill</td>\n",
       "      <td>40.74767</td>\n",
       "      <td>-73.97500</td>\n",
       "      <td>Entire home/apt</td>\n",
       "      <td>200</td>\n",
       "      <td>3</td>\n",
       "      <td>78</td>\n",
       "      <td>2019-10-13</td>\n",
       "      <td>0.60</td>\n",
       "      <td>1</td>\n",
       "      <td>19</td>\n",
       "    </tr>\n",
       "    <tr>\n",
       "      <td>3</td>\n",
       "      <td>5121</td>\n",
       "      <td>BlissArtsSpace!</td>\n",
       "      <td>7356</td>\n",
       "      <td>Garon</td>\n",
       "      <td>Brooklyn</td>\n",
       "      <td>Bedford-Stuyvesant</td>\n",
       "      <td>40.68688</td>\n",
       "      <td>-73.95596</td>\n",
       "      <td>Private room</td>\n",
       "      <td>60</td>\n",
       "      <td>29</td>\n",
       "      <td>49</td>\n",
       "      <td>2017-10-05</td>\n",
       "      <td>0.38</td>\n",
       "      <td>1</td>\n",
       "      <td>365</td>\n",
       "    </tr>\n",
       "    <tr>\n",
       "      <td>4</td>\n",
       "      <td>5178</td>\n",
       "      <td>Large Furnished Room Near B'way</td>\n",
       "      <td>8967</td>\n",
       "      <td>Shunichi</td>\n",
       "      <td>Manhattan</td>\n",
       "      <td>Hell's Kitchen</td>\n",
       "      <td>40.76489</td>\n",
       "      <td>-73.98493</td>\n",
       "      <td>Private room</td>\n",
       "      <td>79</td>\n",
       "      <td>2</td>\n",
       "      <td>454</td>\n",
       "      <td>2019-11-21</td>\n",
       "      <td>3.52</td>\n",
       "      <td>1</td>\n",
       "      <td>242</td>\n",
       "    </tr>\n",
       "  </tbody>\n",
       "</table>\n",
       "</div>"
      ],
      "text/plain": [
       "     id                                       name  host_id    host_name  \\\n",
       "0  2595                      Skylit Midtown Castle     2845     Jennifer   \n",
       "1  3831            Cozy Entire Floor of Brownstone     4869  LisaRoxanne   \n",
       "2  5099  Large Cozy 1 BR Apartment In Midtown East     7322        Chris   \n",
       "3  5121                            BlissArtsSpace!     7356        Garon   \n",
       "4  5178           Large Furnished Room Near B'way      8967     Shunichi   \n",
       "\n",
       "  neighbourhood_group       neighbourhood  latitude  longitude  \\\n",
       "0           Manhattan             Midtown  40.75362  -73.98377   \n",
       "1            Brooklyn        Clinton Hill  40.68514  -73.95976   \n",
       "2           Manhattan         Murray Hill  40.74767  -73.97500   \n",
       "3            Brooklyn  Bedford-Stuyvesant  40.68688  -73.95596   \n",
       "4           Manhattan      Hell's Kitchen  40.76489  -73.98493   \n",
       "\n",
       "         room_type  price  minimum_nights  number_of_reviews last_review  \\\n",
       "0  Entire home/apt    225              10                 48  2019-11-04   \n",
       "1  Entire home/apt     89               1                295  2019-11-22   \n",
       "2  Entire home/apt    200               3                 78  2019-10-13   \n",
       "3     Private room     60              29                 49  2017-10-05   \n",
       "4     Private room     79               2                454  2019-11-21   \n",
       "\n",
       "   reviews_per_month  calculated_host_listings_count  availability_365  \n",
       "0               0.39                               1                 1  \n",
       "1               4.67                               1                 1  \n",
       "2               0.60                               1                19  \n",
       "3               0.38                               1               365  \n",
       "4               3.52                               1               242  "
      ]
     },
     "execution_count": 9,
     "metadata": {},
     "output_type": "execute_result"
    }
   ],
   "source": [
    "print(listings.shape)\n",
    "listings.head()"
   ]
  },
  {
   "cell_type": "code",
   "execution_count": 53,
   "metadata": {
    "scrolled": true
   },
   "outputs": [
    {
     "name": "stdout",
     "output_type": "stream",
     "text": [
      "                                percent_missing\n",
      "id                                     0.000000\n",
      "name                                   0.033598\n",
      "host_id                                0.000000\n",
      "host_name                              1.112670\n",
      "neighbourhood_group                    0.000000\n",
      "neighbourhood                          0.000000\n",
      "latitude                               0.000000\n",
      "longitude                              0.000000\n",
      "room_type                              0.000000\n",
      "price                                  0.000000\n",
      "minimum_nights                         0.000000\n",
      "number_of_reviews                      0.000000\n",
      "last_review                           20.198028\n",
      "reviews_per_month                     20.198028\n",
      "calculated_host_listings_count         0.000000\n",
      "availability_365                       0.000000\n"
     ]
    }
   ],
   "source": [
    "percent_NA = listings.isnull().sum() * 100 / len(listings)\n",
    "NA_info = pd.DataFrame({'percent_NA': percent_NA})\n",
    "print(NA_info)"
   ]
  },
  {
   "cell_type": "markdown",
   "metadata": {},
   "source": [
    "Unfortunately, there appears to be alot of missing data for last_review and reviews_per_month. While this is disappointing, we don't imagine these two variables to be critical variables in our model, especially because we have a full dataset of reviews for each listing. Most likely, the listings with NA's for these two variables had no reviews at all, which is something we can get from the reviews dataset."
   ]
  },
  {
   "cell_type": "code",
   "execution_count": 7,
   "metadata": {
    "scrolled": false
   },
   "outputs": [
    {
     "name": "stdout",
     "output_type": "stream",
     "text": [
      "(51097, 106)\n"
     ]
    },
    {
     "data": {
      "text/html": [
       "<div>\n",
       "<style scoped>\n",
       "    .dataframe tbody tr th:only-of-type {\n",
       "        vertical-align: middle;\n",
       "    }\n",
       "\n",
       "    .dataframe tbody tr th {\n",
       "        vertical-align: top;\n",
       "    }\n",
       "\n",
       "    .dataframe thead th {\n",
       "        text-align: right;\n",
       "    }\n",
       "</style>\n",
       "<table border=\"1\" class=\"dataframe\">\n",
       "  <thead>\n",
       "    <tr style=\"text-align: right;\">\n",
       "      <th></th>\n",
       "      <th>id</th>\n",
       "      <th>listing_url</th>\n",
       "      <th>scrape_id</th>\n",
       "      <th>last_scraped</th>\n",
       "      <th>name</th>\n",
       "      <th>summary</th>\n",
       "      <th>space</th>\n",
       "      <th>description</th>\n",
       "      <th>experiences_offered</th>\n",
       "      <th>neighborhood_overview</th>\n",
       "      <th>...</th>\n",
       "      <th>instant_bookable</th>\n",
       "      <th>is_business_travel_ready</th>\n",
       "      <th>cancellation_policy</th>\n",
       "      <th>require_guest_profile_picture</th>\n",
       "      <th>require_guest_phone_verification</th>\n",
       "      <th>calculated_host_listings_count</th>\n",
       "      <th>calculated_host_listings_count_entire_homes</th>\n",
       "      <th>calculated_host_listings_count_private_rooms</th>\n",
       "      <th>calculated_host_listings_count_shared_rooms</th>\n",
       "      <th>reviews_per_month</th>\n",
       "    </tr>\n",
       "  </thead>\n",
       "  <tbody>\n",
       "    <tr>\n",
       "      <td>0</td>\n",
       "      <td>2595</td>\n",
       "      <td>https://www.airbnb.com/rooms/2595</td>\n",
       "      <td>20200212052319</td>\n",
       "      <td>2020-02-12</td>\n",
       "      <td>Skylit Midtown Castle</td>\n",
       "      <td>Beautiful, spacious skylit studio in the heart...</td>\n",
       "      <td>- Spacious (500+ft²), immaculate and nicely fu...</td>\n",
       "      <td>Beautiful, spacious skylit studio in the heart...</td>\n",
       "      <td>none</td>\n",
       "      <td>Centrally located in the heart of Manhattan ju...</td>\n",
       "      <td>...</td>\n",
       "      <td>f</td>\n",
       "      <td>f</td>\n",
       "      <td>strict_14_with_grace_period</td>\n",
       "      <td>t</td>\n",
       "      <td>t</td>\n",
       "      <td>2</td>\n",
       "      <td>2</td>\n",
       "      <td>0</td>\n",
       "      <td>0</td>\n",
       "      <td>0.39</td>\n",
       "    </tr>\n",
       "    <tr>\n",
       "      <td>1</td>\n",
       "      <td>3831</td>\n",
       "      <td>https://www.airbnb.com/rooms/3831</td>\n",
       "      <td>20200212052319</td>\n",
       "      <td>2020-02-13</td>\n",
       "      <td>Cozy Entire Floor of Brownstone</td>\n",
       "      <td>Urban retreat: enjoy 500 s.f. floor in 1899 br...</td>\n",
       "      <td>Greetings!      We own a double-duplex brownst...</td>\n",
       "      <td>Urban retreat: enjoy 500 s.f. floor in 1899 br...</td>\n",
       "      <td>none</td>\n",
       "      <td>Just the right mix of urban center and local n...</td>\n",
       "      <td>...</td>\n",
       "      <td>f</td>\n",
       "      <td>f</td>\n",
       "      <td>moderate</td>\n",
       "      <td>f</td>\n",
       "      <td>f</td>\n",
       "      <td>1</td>\n",
       "      <td>1</td>\n",
       "      <td>0</td>\n",
       "      <td>0</td>\n",
       "      <td>4.69</td>\n",
       "    </tr>\n",
       "    <tr>\n",
       "      <td>2</td>\n",
       "      <td>5099</td>\n",
       "      <td>https://www.airbnb.com/rooms/5099</td>\n",
       "      <td>20200212052319</td>\n",
       "      <td>2020-02-12</td>\n",
       "      <td>Large Cozy 1 BR Apartment In Midtown East</td>\n",
       "      <td>My large 1 bedroom apartment has a true New Yo...</td>\n",
       "      <td>I have a large 1 bedroom apartment centrally l...</td>\n",
       "      <td>My large 1 bedroom apartment has a true New Yo...</td>\n",
       "      <td>none</td>\n",
       "      <td>My neighborhood in Midtown East is called Murr...</td>\n",
       "      <td>...</td>\n",
       "      <td>f</td>\n",
       "      <td>f</td>\n",
       "      <td>moderate</td>\n",
       "      <td>t</td>\n",
       "      <td>t</td>\n",
       "      <td>1</td>\n",
       "      <td>1</td>\n",
       "      <td>0</td>\n",
       "      <td>0</td>\n",
       "      <td>0.59</td>\n",
       "    </tr>\n",
       "    <tr>\n",
       "      <td>3</td>\n",
       "      <td>5121</td>\n",
       "      <td>https://www.airbnb.com/rooms/5121</td>\n",
       "      <td>20200212052319</td>\n",
       "      <td>2020-02-12</td>\n",
       "      <td>BlissArtsSpace!</td>\n",
       "      <td>NaN</td>\n",
       "      <td>HELLO EVERYONE AND THANKS FOR VISITING BLISS A...</td>\n",
       "      <td>HELLO EVERYONE AND THANKS FOR VISITING BLISS A...</td>\n",
       "      <td>none</td>\n",
       "      <td>NaN</td>\n",
       "      <td>...</td>\n",
       "      <td>f</td>\n",
       "      <td>f</td>\n",
       "      <td>strict_14_with_grace_period</td>\n",
       "      <td>f</td>\n",
       "      <td>f</td>\n",
       "      <td>1</td>\n",
       "      <td>0</td>\n",
       "      <td>1</td>\n",
       "      <td>0</td>\n",
       "      <td>0.38</td>\n",
       "    </tr>\n",
       "    <tr>\n",
       "      <td>4</td>\n",
       "      <td>5178</td>\n",
       "      <td>https://www.airbnb.com/rooms/5178</td>\n",
       "      <td>20200212052319</td>\n",
       "      <td>2020-02-13</td>\n",
       "      <td>Large Furnished Room Near B'way</td>\n",
       "      <td>Please don’t expect the luxury here just a bas...</td>\n",
       "      <td>You will use one large, furnished, private roo...</td>\n",
       "      <td>Please don’t expect the luxury here just a bas...</td>\n",
       "      <td>none</td>\n",
       "      <td>Theater district, many restaurants around here.</td>\n",
       "      <td>...</td>\n",
       "      <td>f</td>\n",
       "      <td>f</td>\n",
       "      <td>strict_14_with_grace_period</td>\n",
       "      <td>f</td>\n",
       "      <td>f</td>\n",
       "      <td>1</td>\n",
       "      <td>0</td>\n",
       "      <td>1</td>\n",
       "      <td>0</td>\n",
       "      <td>3.53</td>\n",
       "    </tr>\n",
       "  </tbody>\n",
       "</table>\n",
       "<p>5 rows × 106 columns</p>\n",
       "</div>"
      ],
      "text/plain": [
       "     id                        listing_url       scrape_id last_scraped  \\\n",
       "0  2595  https://www.airbnb.com/rooms/2595  20200212052319   2020-02-12   \n",
       "1  3831  https://www.airbnb.com/rooms/3831  20200212052319   2020-02-13   \n",
       "2  5099  https://www.airbnb.com/rooms/5099  20200212052319   2020-02-12   \n",
       "3  5121  https://www.airbnb.com/rooms/5121  20200212052319   2020-02-12   \n",
       "4  5178  https://www.airbnb.com/rooms/5178  20200212052319   2020-02-13   \n",
       "\n",
       "                                        name  \\\n",
       "0                      Skylit Midtown Castle   \n",
       "1            Cozy Entire Floor of Brownstone   \n",
       "2  Large Cozy 1 BR Apartment In Midtown East   \n",
       "3                            BlissArtsSpace!   \n",
       "4           Large Furnished Room Near B'way    \n",
       "\n",
       "                                             summary  \\\n",
       "0  Beautiful, spacious skylit studio in the heart...   \n",
       "1  Urban retreat: enjoy 500 s.f. floor in 1899 br...   \n",
       "2  My large 1 bedroom apartment has a true New Yo...   \n",
       "3                                                NaN   \n",
       "4  Please don’t expect the luxury here just a bas...   \n",
       "\n",
       "                                               space  \\\n",
       "0  - Spacious (500+ft²), immaculate and nicely fu...   \n",
       "1  Greetings!      We own a double-duplex brownst...   \n",
       "2  I have a large 1 bedroom apartment centrally l...   \n",
       "3  HELLO EVERYONE AND THANKS FOR VISITING BLISS A...   \n",
       "4  You will use one large, furnished, private roo...   \n",
       "\n",
       "                                         description experiences_offered  \\\n",
       "0  Beautiful, spacious skylit studio in the heart...                none   \n",
       "1  Urban retreat: enjoy 500 s.f. floor in 1899 br...                none   \n",
       "2  My large 1 bedroom apartment has a true New Yo...                none   \n",
       "3  HELLO EVERYONE AND THANKS FOR VISITING BLISS A...                none   \n",
       "4  Please don’t expect the luxury here just a bas...                none   \n",
       "\n",
       "                               neighborhood_overview  ... instant_bookable  \\\n",
       "0  Centrally located in the heart of Manhattan ju...  ...                f   \n",
       "1  Just the right mix of urban center and local n...  ...                f   \n",
       "2  My neighborhood in Midtown East is called Murr...  ...                f   \n",
       "3                                                NaN  ...                f   \n",
       "4    Theater district, many restaurants around here.  ...                f   \n",
       "\n",
       "  is_business_travel_ready          cancellation_policy  \\\n",
       "0                        f  strict_14_with_grace_period   \n",
       "1                        f                     moderate   \n",
       "2                        f                     moderate   \n",
       "3                        f  strict_14_with_grace_period   \n",
       "4                        f  strict_14_with_grace_period   \n",
       "\n",
       "  require_guest_profile_picture require_guest_phone_verification  \\\n",
       "0                             t                                t   \n",
       "1                             f                                f   \n",
       "2                             t                                t   \n",
       "3                             f                                f   \n",
       "4                             f                                f   \n",
       "\n",
       "   calculated_host_listings_count  \\\n",
       "0                               2   \n",
       "1                               1   \n",
       "2                               1   \n",
       "3                               1   \n",
       "4                               1   \n",
       "\n",
       "   calculated_host_listings_count_entire_homes  \\\n",
       "0                                            2   \n",
       "1                                            1   \n",
       "2                                            1   \n",
       "3                                            0   \n",
       "4                                            0   \n",
       "\n",
       "  calculated_host_listings_count_private_rooms  \\\n",
       "0                                            0   \n",
       "1                                            0   \n",
       "2                                            0   \n",
       "3                                            1   \n",
       "4                                            1   \n",
       "\n",
       "   calculated_host_listings_count_shared_rooms  reviews_per_month  \n",
       "0                                            0               0.39  \n",
       "1                                            0               4.69  \n",
       "2                                            0               0.59  \n",
       "3                                            0               0.38  \n",
       "4                                            0               3.53  \n",
       "\n",
       "[5 rows x 106 columns]"
      ]
     },
     "execution_count": 7,
     "metadata": {},
     "output_type": "execute_result"
    }
   ],
   "source": [
    "print(listings_full.shape)\n",
    "listings_full.head()"
   ]
  },
  {
   "cell_type": "code",
   "execution_count": 20,
   "metadata": {},
   "outputs": [
    {
     "data": {
      "text/html": [
       "<div>\n",
       "<style scoped>\n",
       "    .dataframe tbody tr th:only-of-type {\n",
       "        vertical-align: middle;\n",
       "    }\n",
       "\n",
       "    .dataframe tbody tr th {\n",
       "        vertical-align: top;\n",
       "    }\n",
       "\n",
       "    .dataframe thead th {\n",
       "        text-align: right;\n",
       "    }\n",
       "</style>\n",
       "<table border=\"1\" class=\"dataframe\">\n",
       "  <thead>\n",
       "    <tr style=\"text-align: right;\">\n",
       "      <th></th>\n",
       "      <th>percent_NA</th>\n",
       "    </tr>\n",
       "  </thead>\n",
       "  <tbody>\n",
       "    <tr>\n",
       "      <td>space</td>\n",
       "      <td>28.021215</td>\n",
       "    </tr>\n",
       "    <tr>\n",
       "      <td>neighborhood_overview</td>\n",
       "      <td>34.448206</td>\n",
       "    </tr>\n",
       "    <tr>\n",
       "      <td>notes</td>\n",
       "      <td>59.435975</td>\n",
       "    </tr>\n",
       "    <tr>\n",
       "      <td>transit</td>\n",
       "      <td>34.397323</td>\n",
       "    </tr>\n",
       "    <tr>\n",
       "      <td>access</td>\n",
       "      <td>46.904906</td>\n",
       "    </tr>\n",
       "    <tr>\n",
       "      <td>interaction</td>\n",
       "      <td>40.323307</td>\n",
       "    </tr>\n",
       "    <tr>\n",
       "      <td>house_rules</td>\n",
       "      <td>38.898565</td>\n",
       "    </tr>\n",
       "    <tr>\n",
       "      <td>thumbnail_url</td>\n",
       "      <td>100.000000</td>\n",
       "    </tr>\n",
       "    <tr>\n",
       "      <td>medium_url</td>\n",
       "      <td>100.000000</td>\n",
       "    </tr>\n",
       "    <tr>\n",
       "      <td>xl_picture_url</td>\n",
       "      <td>100.000000</td>\n",
       "    </tr>\n",
       "    <tr>\n",
       "      <td>host_about</td>\n",
       "      <td>39.816428</td>\n",
       "    </tr>\n",
       "    <tr>\n",
       "      <td>host_response_time</td>\n",
       "      <td>36.908233</td>\n",
       "    </tr>\n",
       "    <tr>\n",
       "      <td>host_response_rate</td>\n",
       "      <td>36.908233</td>\n",
       "    </tr>\n",
       "    <tr>\n",
       "      <td>host_acceptance_rate</td>\n",
       "      <td>27.387126</td>\n",
       "    </tr>\n",
       "    <tr>\n",
       "      <td>host_neighbourhood</td>\n",
       "      <td>13.486115</td>\n",
       "    </tr>\n",
       "    <tr>\n",
       "      <td>square_feet</td>\n",
       "      <td>99.248488</td>\n",
       "    </tr>\n",
       "    <tr>\n",
       "      <td>weekly_price</td>\n",
       "      <td>89.277257</td>\n",
       "    </tr>\n",
       "    <tr>\n",
       "      <td>monthly_price</td>\n",
       "      <td>90.692213</td>\n",
       "    </tr>\n",
       "    <tr>\n",
       "      <td>security_deposit</td>\n",
       "      <td>34.405151</td>\n",
       "    </tr>\n",
       "    <tr>\n",
       "      <td>cleaning_fee</td>\n",
       "      <td>21.024718</td>\n",
       "    </tr>\n",
       "    <tr>\n",
       "      <td>first_review</td>\n",
       "      <td>20.251678</td>\n",
       "    </tr>\n",
       "    <tr>\n",
       "      <td>last_review</td>\n",
       "      <td>20.251678</td>\n",
       "    </tr>\n",
       "    <tr>\n",
       "      <td>review_scores_rating</td>\n",
       "      <td>22.151985</td>\n",
       "    </tr>\n",
       "    <tr>\n",
       "      <td>review_scores_accuracy</td>\n",
       "      <td>22.216568</td>\n",
       "    </tr>\n",
       "    <tr>\n",
       "      <td>review_scores_cleanliness</td>\n",
       "      <td>22.189170</td>\n",
       "    </tr>\n",
       "    <tr>\n",
       "      <td>review_scores_checkin</td>\n",
       "      <td>22.242010</td>\n",
       "    </tr>\n",
       "    <tr>\n",
       "      <td>review_scores_communication</td>\n",
       "      <td>22.210697</td>\n",
       "    </tr>\n",
       "    <tr>\n",
       "      <td>review_scores_location</td>\n",
       "      <td>22.247881</td>\n",
       "    </tr>\n",
       "    <tr>\n",
       "      <td>review_scores_value</td>\n",
       "      <td>22.247881</td>\n",
       "    </tr>\n",
       "    <tr>\n",
       "      <td>license</td>\n",
       "      <td>99.947159</td>\n",
       "    </tr>\n",
       "    <tr>\n",
       "      <td>jurisdiction_names</td>\n",
       "      <td>99.968687</td>\n",
       "    </tr>\n",
       "    <tr>\n",
       "      <td>reviews_per_month</td>\n",
       "      <td>20.251678</td>\n",
       "    </tr>\n",
       "  </tbody>\n",
       "</table>\n",
       "</div>"
      ],
      "text/plain": [
       "                             percent_NA\n",
       "space                         28.021215\n",
       "neighborhood_overview         34.448206\n",
       "notes                         59.435975\n",
       "transit                       34.397323\n",
       "access                        46.904906\n",
       "interaction                   40.323307\n",
       "house_rules                   38.898565\n",
       "thumbnail_url                100.000000\n",
       "medium_url                   100.000000\n",
       "xl_picture_url               100.000000\n",
       "host_about                    39.816428\n",
       "host_response_time            36.908233\n",
       "host_response_rate            36.908233\n",
       "host_acceptance_rate          27.387126\n",
       "host_neighbourhood            13.486115\n",
       "square_feet                   99.248488\n",
       "weekly_price                  89.277257\n",
       "monthly_price                 90.692213\n",
       "security_deposit              34.405151\n",
       "cleaning_fee                  21.024718\n",
       "first_review                  20.251678\n",
       "last_review                   20.251678\n",
       "review_scores_rating          22.151985\n",
       "review_scores_accuracy        22.216568\n",
       "review_scores_cleanliness     22.189170\n",
       "review_scores_checkin         22.242010\n",
       "review_scores_communication   22.210697\n",
       "review_scores_location        22.247881\n",
       "review_scores_value           22.247881\n",
       "license                       99.947159\n",
       "jurisdiction_names            99.968687\n",
       "reviews_per_month             20.251678"
      ]
     },
     "execution_count": 20,
     "metadata": {},
     "output_type": "execute_result"
    }
   ],
   "source": [
    "percent_NA = listings_full.isnull().sum() * 100 / len(listings_full)\n",
    "NA_info = pd.DataFrame({'percent_NA': percent_NA})\n",
    "NA_info[NA_info[\"percent_NA\"]>5]"
   ]
  },
  {
   "cell_type": "markdown",
   "metadata": {},
   "source": [
    "Unfortunately, there seems to be several variables with significant amounts of missing data, such as thumbnail_url, jurisdiction_names, and monthly_price. Figuring out which variables we can drop and which variables we need to transform in some way will be a critical part of the data cleaning process. With the variables that have 100% missing data, we will have to drop those variables entirely."
   ]
  },
  {
   "cell_type": "markdown",
   "metadata": {},
   "source": [
    "#### Correlation Matrix"
   ]
  },
  {
   "cell_type": "markdown",
   "metadata": {},
   "source": [
    "Since there are a few quantitative variables in this dataset, let's look at the correlations between some of these variables. From the smaller listings dataset, there are 6 quantitative variables that we can look at: price, minimum_nights, number_of_reviews, reviews_per_month, calculated_host_listings_count, and availability_365."
   ]
  },
  {
   "cell_type": "code",
   "execution_count": 5,
   "metadata": {
    "scrolled": true
   },
   "outputs": [
    {
     "data": {
      "text/html": [
       "<style  type=\"text/css\" >\n",
       "    #T_0a5d8a12_5399_11ea_aba4_acbc3285570brow0_col0 {\n",
       "            background-color:  #006837;\n",
       "            color:  #f1f1f1;\n",
       "        }    #T_0a5d8a12_5399_11ea_aba4_acbc3285570brow0_col1 {\n",
       "            background-color:  #e34933;\n",
       "            color:  #f1f1f1;\n",
       "        }    #T_0a5d8a12_5399_11ea_aba4_acbc3285570brow0_col2 {\n",
       "            background-color:  #bb1526;\n",
       "            color:  #f1f1f1;\n",
       "        }    #T_0a5d8a12_5399_11ea_aba4_acbc3285570brow0_col3 {\n",
       "            background-color:  #d42d27;\n",
       "            color:  #f1f1f1;\n",
       "        }    #T_0a5d8a12_5399_11ea_aba4_acbc3285570brow0_col4 {\n",
       "            background-color:  #d22b27;\n",
       "            color:  #f1f1f1;\n",
       "        }    #T_0a5d8a12_5399_11ea_aba4_acbc3285570brow0_col5 {\n",
       "            background-color:  #a50026;\n",
       "            color:  #f1f1f1;\n",
       "        }    #T_0a5d8a12_5399_11ea_aba4_acbc3285570brow1_col0 {\n",
       "            background-color:  #c62027;\n",
       "            color:  #f1f1f1;\n",
       "        }    #T_0a5d8a12_5399_11ea_aba4_acbc3285570brow1_col1 {\n",
       "            background-color:  #006837;\n",
       "            color:  #f1f1f1;\n",
       "        }    #T_0a5d8a12_5399_11ea_aba4_acbc3285570brow1_col2 {\n",
       "            background-color:  #a50026;\n",
       "            color:  #f1f1f1;\n",
       "        }    #T_0a5d8a12_5399_11ea_aba4_acbc3285570brow1_col3 {\n",
       "            background-color:  #a50026;\n",
       "            color:  #f1f1f1;\n",
       "        }    #T_0a5d8a12_5399_11ea_aba4_acbc3285570brow1_col4 {\n",
       "            background-color:  #ef633f;\n",
       "            color:  #000000;\n",
       "        }    #T_0a5d8a12_5399_11ea_aba4_acbc3285570brow1_col5 {\n",
       "            background-color:  #d42d27;\n",
       "            color:  #f1f1f1;\n",
       "        }    #T_0a5d8a12_5399_11ea_aba4_acbc3285570brow2_col0 {\n",
       "            background-color:  #a50026;\n",
       "            color:  #f1f1f1;\n",
       "        }    #T_0a5d8a12_5399_11ea_aba4_acbc3285570brow2_col1 {\n",
       "            background-color:  #b71126;\n",
       "            color:  #f1f1f1;\n",
       "        }    #T_0a5d8a12_5399_11ea_aba4_acbc3285570brow2_col2 {\n",
       "            background-color:  #006837;\n",
       "            color:  #f1f1f1;\n",
       "        }    #T_0a5d8a12_5399_11ea_aba4_acbc3285570brow2_col3 {\n",
       "            background-color:  #d3ec87;\n",
       "            color:  #000000;\n",
       "        }    #T_0a5d8a12_5399_11ea_aba4_acbc3285570brow2_col4 {\n",
       "            background-color:  #a50026;\n",
       "            color:  #f1f1f1;\n",
       "        }    #T_0a5d8a12_5399_11ea_aba4_acbc3285570brow2_col5 {\n",
       "            background-color:  #c41e27;\n",
       "            color:  #f1f1f1;\n",
       "        }    #T_0a5d8a12_5399_11ea_aba4_acbc3285570brow3_col0 {\n",
       "            background-color:  #ad0826;\n",
       "            color:  #f1f1f1;\n",
       "        }    #T_0a5d8a12_5399_11ea_aba4_acbc3285570brow3_col1 {\n",
       "            background-color:  #a50026;\n",
       "            color:  #f1f1f1;\n",
       "        }    #T_0a5d8a12_5399_11ea_aba4_acbc3285570brow3_col2 {\n",
       "            background-color:  #daf08d;\n",
       "            color:  #000000;\n",
       "        }    #T_0a5d8a12_5399_11ea_aba4_acbc3285570brow3_col3 {\n",
       "            background-color:  #006837;\n",
       "            color:  #f1f1f1;\n",
       "        }    #T_0a5d8a12_5399_11ea_aba4_acbc3285570brow3_col4 {\n",
       "            background-color:  #b71126;\n",
       "            color:  #f1f1f1;\n",
       "        }    #T_0a5d8a12_5399_11ea_aba4_acbc3285570brow3_col5 {\n",
       "            background-color:  #de402e;\n",
       "            color:  #f1f1f1;\n",
       "        }    #T_0a5d8a12_5399_11ea_aba4_acbc3285570brow4_col0 {\n",
       "            background-color:  #c01a27;\n",
       "            color:  #f1f1f1;\n",
       "        }    #T_0a5d8a12_5399_11ea_aba4_acbc3285570brow4_col1 {\n",
       "            background-color:  #f67a49;\n",
       "            color:  #000000;\n",
       "        }    #T_0a5d8a12_5399_11ea_aba4_acbc3285570brow4_col2 {\n",
       "            background-color:  #a90426;\n",
       "            color:  #f1f1f1;\n",
       "        }    #T_0a5d8a12_5399_11ea_aba4_acbc3285570brow4_col3 {\n",
       "            background-color:  #cc2627;\n",
       "            color:  #f1f1f1;\n",
       "        }    #T_0a5d8a12_5399_11ea_aba4_acbc3285570brow4_col4 {\n",
       "            background-color:  #006837;\n",
       "            color:  #f1f1f1;\n",
       "        }    #T_0a5d8a12_5399_11ea_aba4_acbc3285570brow4_col5 {\n",
       "            background-color:  #eb5a3a;\n",
       "            color:  #000000;\n",
       "        }    #T_0a5d8a12_5399_11ea_aba4_acbc3285570brow5_col0 {\n",
       "            background-color:  #d42d27;\n",
       "            color:  #f1f1f1;\n",
       "        }    #T_0a5d8a12_5399_11ea_aba4_acbc3285570brow5_col1 {\n",
       "            background-color:  #f88c51;\n",
       "            color:  #000000;\n",
       "        }    #T_0a5d8a12_5399_11ea_aba4_acbc3285570brow5_col2 {\n",
       "            background-color:  #f26841;\n",
       "            color:  #000000;\n",
       "        }    #T_0a5d8a12_5399_11ea_aba4_acbc3285570brow5_col3 {\n",
       "            background-color:  #fb9d59;\n",
       "            color:  #000000;\n",
       "        }    #T_0a5d8a12_5399_11ea_aba4_acbc3285570brow5_col4 {\n",
       "            background-color:  #fba05b;\n",
       "            color:  #000000;\n",
       "        }    #T_0a5d8a12_5399_11ea_aba4_acbc3285570brow5_col5 {\n",
       "            background-color:  #006837;\n",
       "            color:  #f1f1f1;\n",
       "        }</style><table id=\"T_0a5d8a12_5399_11ea_aba4_acbc3285570b\" ><thead>    <tr>        <th class=\"blank level0\" ></th>        <th class=\"col_heading level0 col0\" >price</th>        <th class=\"col_heading level0 col1\" >minimum_nights</th>        <th class=\"col_heading level0 col2\" >number_of_reviews</th>        <th class=\"col_heading level0 col3\" >reviews_per_month</th>        <th class=\"col_heading level0 col4\" >calculated_host_listings_count</th>        <th class=\"col_heading level0 col5\" >availability_365</th>    </tr></thead><tbody>\n",
       "                <tr>\n",
       "                        <th id=\"T_0a5d8a12_5399_11ea_aba4_acbc3285570blevel0_row0\" class=\"row_heading level0 row0\" >price</th>\n",
       "                        <td id=\"T_0a5d8a12_5399_11ea_aba4_acbc3285570brow0_col0\" class=\"data row0 col0\" >1</td>\n",
       "                        <td id=\"T_0a5d8a12_5399_11ea_aba4_acbc3285570brow0_col1\" class=\"data row0 col1\" >0.03</td>\n",
       "                        <td id=\"T_0a5d8a12_5399_11ea_aba4_acbc3285570brow0_col2\" class=\"data row0 col2\" >-0.04</td>\n",
       "                        <td id=\"T_0a5d8a12_5399_11ea_aba4_acbc3285570brow0_col3\" class=\"data row0 col3\" >-0.02</td>\n",
       "                        <td id=\"T_0a5d8a12_5399_11ea_aba4_acbc3285570brow0_col4\" class=\"data row0 col4\" >0.02</td>\n",
       "                        <td id=\"T_0a5d8a12_5399_11ea_aba4_acbc3285570brow0_col5\" class=\"data row0 col5\" >0.06</td>\n",
       "            </tr>\n",
       "            <tr>\n",
       "                        <th id=\"T_0a5d8a12_5399_11ea_aba4_acbc3285570blevel0_row1\" class=\"row_heading level0 row1\" >minimum_nights</th>\n",
       "                        <td id=\"T_0a5d8a12_5399_11ea_aba4_acbc3285570brow1_col0\" class=\"data row1 col0\" >0.03</td>\n",
       "                        <td id=\"T_0a5d8a12_5399_11ea_aba4_acbc3285570brow1_col1\" class=\"data row1 col1\" >1</td>\n",
       "                        <td id=\"T_0a5d8a12_5399_11ea_aba4_acbc3285570brow1_col2\" class=\"data row1 col2\" >-0.09</td>\n",
       "                        <td id=\"T_0a5d8a12_5399_11ea_aba4_acbc3285570brow1_col3\" class=\"data row1 col3\" >-0.13</td>\n",
       "                        <td id=\"T_0a5d8a12_5399_11ea_aba4_acbc3285570brow1_col4\" class=\"data row1 col4\" >0.12</td>\n",
       "                        <td id=\"T_0a5d8a12_5399_11ea_aba4_acbc3285570brow1_col5\" class=\"data row1 col5\" >0.15</td>\n",
       "            </tr>\n",
       "            <tr>\n",
       "                        <th id=\"T_0a5d8a12_5399_11ea_aba4_acbc3285570blevel0_row2\" class=\"row_heading level0 row2\" >number_of_reviews</th>\n",
       "                        <td id=\"T_0a5d8a12_5399_11ea_aba4_acbc3285570brow2_col0\" class=\"data row2 col0\" >-0.04</td>\n",
       "                        <td id=\"T_0a5d8a12_5399_11ea_aba4_acbc3285570brow2_col1\" class=\"data row2 col1\" >-0.09</td>\n",
       "                        <td id=\"T_0a5d8a12_5399_11ea_aba4_acbc3285570brow2_col2\" class=\"data row2 col2\" >1</td>\n",
       "                        <td id=\"T_0a5d8a12_5399_11ea_aba4_acbc3285570brow2_col3\" class=\"data row2 col3\" >0.56</td>\n",
       "                        <td id=\"T_0a5d8a12_5399_11ea_aba4_acbc3285570brow2_col4\" class=\"data row2 col4\" >-0.08</td>\n",
       "                        <td id=\"T_0a5d8a12_5399_11ea_aba4_acbc3285570brow2_col5\" class=\"data row2 col5\" >0.12</td>\n",
       "            </tr>\n",
       "            <tr>\n",
       "                        <th id=\"T_0a5d8a12_5399_11ea_aba4_acbc3285570blevel0_row3\" class=\"row_heading level0 row3\" >reviews_per_month</th>\n",
       "                        <td id=\"T_0a5d8a12_5399_11ea_aba4_acbc3285570brow3_col0\" class=\"data row3 col0\" >-0.02</td>\n",
       "                        <td id=\"T_0a5d8a12_5399_11ea_aba4_acbc3285570brow3_col1\" class=\"data row3 col1\" >-0.13</td>\n",
       "                        <td id=\"T_0a5d8a12_5399_11ea_aba4_acbc3285570brow3_col2\" class=\"data row3 col2\" >0.56</td>\n",
       "                        <td id=\"T_0a5d8a12_5399_11ea_aba4_acbc3285570brow3_col3\" class=\"data row3 col3\" >1</td>\n",
       "                        <td id=\"T_0a5d8a12_5399_11ea_aba4_acbc3285570brow3_col4\" class=\"data row3 col4\" >-0.04</td>\n",
       "                        <td id=\"T_0a5d8a12_5399_11ea_aba4_acbc3285570brow3_col5\" class=\"data row3 col5\" >0.18</td>\n",
       "            </tr>\n",
       "            <tr>\n",
       "                        <th id=\"T_0a5d8a12_5399_11ea_aba4_acbc3285570blevel0_row4\" class=\"row_heading level0 row4\" >calculated_host_listings_count</th>\n",
       "                        <td id=\"T_0a5d8a12_5399_11ea_aba4_acbc3285570brow4_col0\" class=\"data row4 col0\" >0.02</td>\n",
       "                        <td id=\"T_0a5d8a12_5399_11ea_aba4_acbc3285570brow4_col1\" class=\"data row4 col1\" >0.12</td>\n",
       "                        <td id=\"T_0a5d8a12_5399_11ea_aba4_acbc3285570brow4_col2\" class=\"data row4 col2\" >-0.08</td>\n",
       "                        <td id=\"T_0a5d8a12_5399_11ea_aba4_acbc3285570brow4_col3\" class=\"data row4 col3\" >-0.04</td>\n",
       "                        <td id=\"T_0a5d8a12_5399_11ea_aba4_acbc3285570brow4_col4\" class=\"data row4 col4\" >1</td>\n",
       "                        <td id=\"T_0a5d8a12_5399_11ea_aba4_acbc3285570brow4_col5\" class=\"data row4 col5\" >0.22</td>\n",
       "            </tr>\n",
       "            <tr>\n",
       "                        <th id=\"T_0a5d8a12_5399_11ea_aba4_acbc3285570blevel0_row5\" class=\"row_heading level0 row5\" >availability_365</th>\n",
       "                        <td id=\"T_0a5d8a12_5399_11ea_aba4_acbc3285570brow5_col0\" class=\"data row5 col0\" >0.06</td>\n",
       "                        <td id=\"T_0a5d8a12_5399_11ea_aba4_acbc3285570brow5_col1\" class=\"data row5 col1\" >0.15</td>\n",
       "                        <td id=\"T_0a5d8a12_5399_11ea_aba4_acbc3285570brow5_col2\" class=\"data row5 col2\" >0.12</td>\n",
       "                        <td id=\"T_0a5d8a12_5399_11ea_aba4_acbc3285570brow5_col3\" class=\"data row5 col3\" >0.18</td>\n",
       "                        <td id=\"T_0a5d8a12_5399_11ea_aba4_acbc3285570brow5_col4\" class=\"data row5 col4\" >0.22</td>\n",
       "                        <td id=\"T_0a5d8a12_5399_11ea_aba4_acbc3285570brow5_col5\" class=\"data row5 col5\" >1</td>\n",
       "            </tr>\n",
       "    </tbody></table>"
      ],
      "text/plain": [
       "<pandas.io.formats.style.Styler at 0x1a1df78a10>"
      ]
     },
     "execution_count": 5,
     "metadata": {},
     "output_type": "execute_result"
    }
   ],
   "source": [
    "names = [\"price\", \"minimum_nights\", \"number_of_reviews\", \"reviews_per_month\", \n",
    "         \"calculated_host_listings_count\", \"availability_365\"]\n",
    "\n",
    "## create the correlation matrix\n",
    "\n",
    "correlations = listings[names].corr()\n",
    "\n",
    "matrix = pd.DataFrame(correlations, columns=names, index=names)\n",
    "matrix = matrix.round(decimals=2)\n",
    "\n",
    "matrix.style.background_gradient(cmap='RdYlGn')\n",
    "\n"
   ]
  },
  {
   "cell_type": "markdown",
   "metadata": {},
   "source": [
    "From this, I can see that for this subset of 6 variables, there are no variables that are particularly strongly correlated. There does seem to be some moderate positive correlation between reviews_per_month and number_of_reviews, which makes sense. During our feature engineering process, we will look at all quantitative explanatory variables in the full dataset and consider the correlations between those variables."
   ]
  },
  {
   "cell_type": "markdown",
   "metadata": {},
   "source": [
    "#### Overall Remarks\n",
    "It appears that the listings datasets have 50599 observations total. The full dataset contains 106 variables, including price, while the partial dataset only contains 16 variables, including price. Therefore, with the listings dataset, we have a total of 105 explanatory variables that we can use. That being said, some of these variables are likely to not be very useful in our model, with some examples being listing_url, scrape_id, and last_scraped. "
   ]
  },
  {
   "cell_type": "markdown",
   "metadata": {},
   "source": [
    "## Reviews Datasets"
   ]
  },
  {
   "cell_type": "code",
   "execution_count": 26,
   "metadata": {
    "scrolled": true
   },
   "outputs": [
    {
     "name": "stdout",
     "output_type": "stream",
     "text": [
      "(1255322, 2)\n"
     ]
    },
    {
     "data": {
      "text/html": [
       "<div>\n",
       "<style scoped>\n",
       "    .dataframe tbody tr th:only-of-type {\n",
       "        vertical-align: middle;\n",
       "    }\n",
       "\n",
       "    .dataframe tbody tr th {\n",
       "        vertical-align: top;\n",
       "    }\n",
       "\n",
       "    .dataframe thead th {\n",
       "        text-align: right;\n",
       "    }\n",
       "</style>\n",
       "<table border=\"1\" class=\"dataframe\">\n",
       "  <thead>\n",
       "    <tr style=\"text-align: right;\">\n",
       "      <th></th>\n",
       "      <th>listing_id</th>\n",
       "      <th>date</th>\n",
       "    </tr>\n",
       "  </thead>\n",
       "  <tbody>\n",
       "    <tr>\n",
       "      <td>0</td>\n",
       "      <td>2595</td>\n",
       "      <td>2009-11-21</td>\n",
       "    </tr>\n",
       "    <tr>\n",
       "      <td>1</td>\n",
       "      <td>2595</td>\n",
       "      <td>2009-12-05</td>\n",
       "    </tr>\n",
       "    <tr>\n",
       "      <td>2</td>\n",
       "      <td>2595</td>\n",
       "      <td>2009-12-10</td>\n",
       "    </tr>\n",
       "    <tr>\n",
       "      <td>3</td>\n",
       "      <td>2595</td>\n",
       "      <td>2010-04-09</td>\n",
       "    </tr>\n",
       "    <tr>\n",
       "      <td>4</td>\n",
       "      <td>2595</td>\n",
       "      <td>2010-05-25</td>\n",
       "    </tr>\n",
       "  </tbody>\n",
       "</table>\n",
       "</div>"
      ],
      "text/plain": [
       "   listing_id        date\n",
       "0        2595  2009-11-21\n",
       "1        2595  2009-12-05\n",
       "2        2595  2009-12-10\n",
       "3        2595  2010-04-09\n",
       "4        2595  2010-05-25"
      ]
     },
     "execution_count": 26,
     "metadata": {},
     "output_type": "execute_result"
    }
   ],
   "source": [
    "print(reviews.shape)\n",
    "reviews.head()"
   ]
  },
  {
   "cell_type": "code",
   "execution_count": null,
   "metadata": {},
   "outputs": [],
   "source": [
    "percent_NA = listings_full.isnull().sum() * 100 / len(listings_full)\n",
    "NA_info = pd.DataFrame({'percent_NA': percent_NA})\n",
    "NA_info[NA_info[\"percent_NA\"]>5]"
   ]
  },
  {
   "cell_type": "code",
   "execution_count": 29,
   "metadata": {
    "scrolled": false
   },
   "outputs": [
    {
     "name": "stdout",
     "output_type": "stream",
     "text": [
      "(1254654, 10)\n"
     ]
    },
    {
     "data": {
      "text/html": [
       "<div>\n",
       "<style scoped>\n",
       "    .dataframe tbody tr th:only-of-type {\n",
       "        vertical-align: middle;\n",
       "    }\n",
       "\n",
       "    .dataframe tbody tr th {\n",
       "        vertical-align: top;\n",
       "    }\n",
       "\n",
       "    .dataframe thead th {\n",
       "        text-align: right;\n",
       "    }\n",
       "</style>\n",
       "<table border=\"1\" class=\"dataframe\">\n",
       "  <thead>\n",
       "    <tr style=\"text-align: right;\">\n",
       "      <th></th>\n",
       "      <th>listing_id</th>\n",
       "      <th>id</th>\n",
       "      <th>date</th>\n",
       "      <th>reviewer_id</th>\n",
       "      <th>reviewer_name</th>\n",
       "      <th>comments</th>\n",
       "      <th>nwords</th>\n",
       "      <th>punc_prop</th>\n",
       "      <th>&gt;2_exclamation</th>\n",
       "      <th>prop_cap</th>\n",
       "    </tr>\n",
       "  </thead>\n",
       "  <tbody>\n",
       "    <tr>\n",
       "      <td>0</td>\n",
       "      <td>2595</td>\n",
       "      <td>17857</td>\n",
       "      <td>2009-11-21</td>\n",
       "      <td>50679</td>\n",
       "      <td>Jean</td>\n",
       "      <td>Notre séjour de trois nuits.\\r\\nNous avons app...</td>\n",
       "      <td>123</td>\n",
       "      <td>0.029703</td>\n",
       "      <td>0</td>\n",
       "      <td>0.032532</td>\n",
       "    </tr>\n",
       "    <tr>\n",
       "      <td>1</td>\n",
       "      <td>2595</td>\n",
       "      <td>19176</td>\n",
       "      <td>2009-12-05</td>\n",
       "      <td>53267</td>\n",
       "      <td>Cate</td>\n",
       "      <td>Great experience.</td>\n",
       "      <td>2</td>\n",
       "      <td>0.058824</td>\n",
       "      <td>0</td>\n",
       "      <td>0.058824</td>\n",
       "    </tr>\n",
       "    <tr>\n",
       "      <td>2</td>\n",
       "      <td>2595</td>\n",
       "      <td>19760</td>\n",
       "      <td>2009-12-10</td>\n",
       "      <td>38960</td>\n",
       "      <td>Anita</td>\n",
       "      <td>I've stayed with my friend at the Midtown Cast...</td>\n",
       "      <td>90</td>\n",
       "      <td>0.033970</td>\n",
       "      <td>0</td>\n",
       "      <td>0.036093</td>\n",
       "    </tr>\n",
       "    <tr>\n",
       "      <td>3</td>\n",
       "      <td>2595</td>\n",
       "      <td>34320</td>\n",
       "      <td>2010-04-09</td>\n",
       "      <td>71130</td>\n",
       "      <td>Kai-Uwe</td>\n",
       "      <td>We've been staying here for about 9 nights, en...</td>\n",
       "      <td>66</td>\n",
       "      <td>0.038251</td>\n",
       "      <td>0</td>\n",
       "      <td>0.024590</td>\n",
       "    </tr>\n",
       "    <tr>\n",
       "      <td>4</td>\n",
       "      <td>2595</td>\n",
       "      <td>46312</td>\n",
       "      <td>2010-05-25</td>\n",
       "      <td>117113</td>\n",
       "      <td>Alicia</td>\n",
       "      <td>We had a wonderful stay at Jennifer's charming...</td>\n",
       "      <td>24</td>\n",
       "      <td>0.025806</td>\n",
       "      <td>0</td>\n",
       "      <td>0.038710</td>\n",
       "    </tr>\n",
       "  </tbody>\n",
       "</table>\n",
       "</div>"
      ],
      "text/plain": [
       "   listing_id     id        date  reviewer_id reviewer_name  \\\n",
       "0        2595  17857  2009-11-21        50679          Jean   \n",
       "1        2595  19176  2009-12-05        53267          Cate   \n",
       "2        2595  19760  2009-12-10        38960         Anita   \n",
       "3        2595  34320  2010-04-09        71130       Kai-Uwe   \n",
       "4        2595  46312  2010-05-25       117113        Alicia   \n",
       "\n",
       "                                            comments  nwords  punc_prop  \\\n",
       "0  Notre séjour de trois nuits.\\r\\nNous avons app...     123   0.029703   \n",
       "1                                  Great experience.       2   0.058824   \n",
       "2  I've stayed with my friend at the Midtown Cast...      90   0.033970   \n",
       "3  We've been staying here for about 9 nights, en...      66   0.038251   \n",
       "4  We had a wonderful stay at Jennifer's charming...      24   0.025806   \n",
       "\n",
       "   >2_exclamation  prop_cap  \n",
       "0               0  0.032532  \n",
       "1               0  0.058824  \n",
       "2               0  0.036093  \n",
       "3               0  0.024590  \n",
       "4               0  0.038710  "
      ]
     },
     "execution_count": 29,
     "metadata": {},
     "output_type": "execute_result"
    }
   ],
   "source": [
    "print(reviews_full.shape)\n",
    "reviews_full.head()"
   ]
  },
  {
   "cell_type": "code",
   "execution_count": 60,
   "metadata": {},
   "outputs": [
    {
     "name": "stdout",
     "output_type": "stream",
     "text": [
      "               percent_NA\n",
      "listing_id       0.000000\n",
      "id               0.000000\n",
      "date             0.000000\n",
      "reviewer_id      0.000000\n",
      "reviewer_name    0.000319\n",
      "comments         0.053213\n"
     ]
    }
   ],
   "source": [
    "percent_NA = reviews_full.isnull().sum() * 100 / len(reviews_full)\n",
    "NA_info = pd.DataFrame({'percent_NA': percent_NA})\n",
    "print(NA_info)"
   ]
  },
  {
   "cell_type": "markdown",
   "metadata": {},
   "source": [
    "#### Overall Remarks\n",
    "\n",
    "It appears that the partial reviews dataset only contains information on the listing ID and the date of review. The full reviews dataset is much more informative, with additional information such as review ID, reviewer ID, review name, and the text of the review. Luckily for us, there doesn't appear to be much missing data for the reviews. 5% of the reviews have missing information, which may say something about the experience itself, but we will figure out what to do with those missing reviews during the data cleaning process."
   ]
  },
  {
   "cell_type": "markdown",
   "metadata": {},
   "source": [
    "## Neighborhood and Calendar Datasets"
   ]
  },
  {
   "cell_type": "code",
   "execution_count": 49,
   "metadata": {
    "scrolled": true
   },
   "outputs": [
    {
     "name": "stdout",
     "output_type": "stream",
     "text": [
      "(230, 2)\n"
     ]
    },
    {
     "data": {
      "text/html": [
       "<div>\n",
       "<style scoped>\n",
       "    .dataframe tbody tr th:only-of-type {\n",
       "        vertical-align: middle;\n",
       "    }\n",
       "\n",
       "    .dataframe tbody tr th {\n",
       "        vertical-align: top;\n",
       "    }\n",
       "\n",
       "    .dataframe thead th {\n",
       "        text-align: right;\n",
       "    }\n",
       "</style>\n",
       "<table border=\"1\" class=\"dataframe\">\n",
       "  <thead>\n",
       "    <tr style=\"text-align: right;\">\n",
       "      <th></th>\n",
       "      <th>neighbourhood_group</th>\n",
       "      <th>neighbourhood</th>\n",
       "    </tr>\n",
       "  </thead>\n",
       "  <tbody>\n",
       "    <tr>\n",
       "      <td>0</td>\n",
       "      <td>Bronx</td>\n",
       "      <td>Allerton</td>\n",
       "    </tr>\n",
       "    <tr>\n",
       "      <td>1</td>\n",
       "      <td>Bronx</td>\n",
       "      <td>Baychester</td>\n",
       "    </tr>\n",
       "    <tr>\n",
       "      <td>2</td>\n",
       "      <td>Bronx</td>\n",
       "      <td>Belmont</td>\n",
       "    </tr>\n",
       "    <tr>\n",
       "      <td>3</td>\n",
       "      <td>Bronx</td>\n",
       "      <td>Bronxdale</td>\n",
       "    </tr>\n",
       "    <tr>\n",
       "      <td>4</td>\n",
       "      <td>Bronx</td>\n",
       "      <td>Castle Hill</td>\n",
       "    </tr>\n",
       "  </tbody>\n",
       "</table>\n",
       "</div>"
      ],
      "text/plain": [
       "  neighbourhood_group neighbourhood\n",
       "0               Bronx      Allerton\n",
       "1               Bronx    Baychester\n",
       "2               Bronx       Belmont\n",
       "3               Bronx     Bronxdale\n",
       "4               Bronx   Castle Hill"
      ]
     },
     "execution_count": 49,
     "metadata": {},
     "output_type": "execute_result"
    }
   ],
   "source": [
    "print(neighborhood.shape)\n",
    "neighborhood.head()"
   ]
  },
  {
   "cell_type": "code",
   "execution_count": 61,
   "metadata": {},
   "outputs": [
    {
     "name": "stdout",
     "output_type": "stream",
     "text": [
      "                     percent_NA\n",
      "neighbourhood_group         0.0\n",
      "neighbourhood               0.0\n"
     ]
    }
   ],
   "source": [
    "percent_NA = neighborhood.isnull().sum() * 100 / len(neighborhood)\n",
    "NA_info = pd.DataFrame({'percent_NA': percent_NA})\n",
    "print(NA_info)"
   ]
  },
  {
   "cell_type": "markdown",
   "metadata": {},
   "source": [
    "The neighborhood dataset groups the neighborhood into one of five neighborhood groups (boroughs): Bronx, Brooklyn, Manhattan, Queens, and Staten Island. There's no missing information for this dataset, which makes sense. While we don't think this dataset will play a large role in our model considering the neighborhood of a listing is more informative than the borough that the listing is in, we will keep the availability of this information in mind as we create features that are pertinent to location/geography."
   ]
  },
  {
   "cell_type": "code",
   "execution_count": 35,
   "metadata": {},
   "outputs": [],
   "source": [
    "def to_num(x):\n",
    "    x = re.sub(r',', '', x)\n",
    "    return float(x[1:])\n",
    "\n",
    "calendar.dropna(inplace = True)\n",
    "calendar['price'] = list(map(to_num, calendar['price']))\n",
    "\n",
    "def unique_listing(x):\n",
    "    return len(np.unique(x))\n",
    "calendar_summary = (\n",
    "    calendar\n",
    "    [['listing_id', 'date', 'price']]\n",
    "    .groupby('date')\n",
    "    .agg(\n",
    "#         listing_count = ('listing_id', unique_listing),\n",
    "        mean_price = ('price', np.mean)\n",
    "    )\n",
    ")\n",
    "\n",
    "calendar_summary = calendar_summary.sort_values('date')"
   ]
  },
  {
   "cell_type": "code",
   "execution_count": 39,
   "metadata": {
    "scrolled": true
   },
   "outputs": [
    {
     "data": {
      "text/html": [
       "<div>\n",
       "<style scoped>\n",
       "    .dataframe tbody tr th:only-of-type {\n",
       "        vertical-align: middle;\n",
       "    }\n",
       "\n",
       "    .dataframe tbody tr th {\n",
       "        vertical-align: top;\n",
       "    }\n",
       "\n",
       "    .dataframe thead th {\n",
       "        text-align: right;\n",
       "    }\n",
       "</style>\n",
       "<table border=\"1\" class=\"dataframe\">\n",
       "  <thead>\n",
       "    <tr style=\"text-align: right;\">\n",
       "      <th></th>\n",
       "      <th>mean_price</th>\n",
       "    </tr>\n",
       "    <tr>\n",
       "      <th>date</th>\n",
       "      <th></th>\n",
       "    </tr>\n",
       "  </thead>\n",
       "  <tbody>\n",
       "    <tr>\n",
       "      <td>2020-02-12</td>\n",
       "      <td>145.560027</td>\n",
       "    </tr>\n",
       "    <tr>\n",
       "      <td>2020-02-13</td>\n",
       "      <td>138.336328</td>\n",
       "    </tr>\n",
       "    <tr>\n",
       "      <td>2020-02-14</td>\n",
       "      <td>143.576483</td>\n",
       "    </tr>\n",
       "    <tr>\n",
       "      <td>2020-02-15</td>\n",
       "      <td>144.785502</td>\n",
       "    </tr>\n",
       "    <tr>\n",
       "      <td>2020-02-16</td>\n",
       "      <td>140.113923</td>\n",
       "    </tr>\n",
       "    <tr>\n",
       "      <td>2020-02-17</td>\n",
       "      <td>138.859226</td>\n",
       "    </tr>\n",
       "    <tr>\n",
       "      <td>2020-02-18</td>\n",
       "      <td>138.719274</td>\n",
       "    </tr>\n",
       "    <tr>\n",
       "      <td>2020-02-19</td>\n",
       "      <td>138.936668</td>\n",
       "    </tr>\n",
       "    <tr>\n",
       "      <td>2020-02-20</td>\n",
       "      <td>139.360146</td>\n",
       "    </tr>\n",
       "    <tr>\n",
       "      <td>2020-02-21</td>\n",
       "      <td>142.960662</td>\n",
       "    </tr>\n",
       "    <tr>\n",
       "      <td>2020-02-22</td>\n",
       "      <td>143.513289</td>\n",
       "    </tr>\n",
       "    <tr>\n",
       "      <td>2020-02-23</td>\n",
       "      <td>139.141498</td>\n",
       "    </tr>\n",
       "    <tr>\n",
       "      <td>2020-02-24</td>\n",
       "      <td>138.886860</td>\n",
       "    </tr>\n",
       "    <tr>\n",
       "      <td>2020-02-25</td>\n",
       "      <td>139.020726</td>\n",
       "    </tr>\n",
       "    <tr>\n",
       "      <td>2020-02-26</td>\n",
       "      <td>139.133964</td>\n",
       "    </tr>\n",
       "    <tr>\n",
       "      <td>2020-02-27</td>\n",
       "      <td>139.478452</td>\n",
       "    </tr>\n",
       "    <tr>\n",
       "      <td>2020-02-28</td>\n",
       "      <td>143.287518</td>\n",
       "    </tr>\n",
       "    <tr>\n",
       "      <td>2020-02-29</td>\n",
       "      <td>143.801765</td>\n",
       "    </tr>\n",
       "    <tr>\n",
       "      <td>2020-03-01</td>\n",
       "      <td>143.649542</td>\n",
       "    </tr>\n",
       "    <tr>\n",
       "      <td>2020-03-02</td>\n",
       "      <td>143.764620</td>\n",
       "    </tr>\n",
       "    <tr>\n",
       "      <td>2020-03-03</td>\n",
       "      <td>143.941502</td>\n",
       "    </tr>\n",
       "    <tr>\n",
       "      <td>2020-03-04</td>\n",
       "      <td>144.214342</td>\n",
       "    </tr>\n",
       "    <tr>\n",
       "      <td>2020-03-05</td>\n",
       "      <td>144.549652</td>\n",
       "    </tr>\n",
       "    <tr>\n",
       "      <td>2020-03-06</td>\n",
       "      <td>148.149816</td>\n",
       "    </tr>\n",
       "    <tr>\n",
       "      <td>2020-03-07</td>\n",
       "      <td>148.987612</td>\n",
       "    </tr>\n",
       "    <tr>\n",
       "      <td>2020-03-08</td>\n",
       "      <td>145.030942</td>\n",
       "    </tr>\n",
       "    <tr>\n",
       "      <td>2020-03-09</td>\n",
       "      <td>145.022507</td>\n",
       "    </tr>\n",
       "    <tr>\n",
       "      <td>2020-03-10</td>\n",
       "      <td>145.182597</td>\n",
       "    </tr>\n",
       "    <tr>\n",
       "      <td>2020-03-11</td>\n",
       "      <td>145.366428</td>\n",
       "    </tr>\n",
       "    <tr>\n",
       "      <td>2020-03-12</td>\n",
       "      <td>145.713813</td>\n",
       "    </tr>\n",
       "    <tr>\n",
       "      <td>2020-03-13</td>\n",
       "      <td>149.777732</td>\n",
       "    </tr>\n",
       "    <tr>\n",
       "      <td>2020-03-14</td>\n",
       "      <td>150.190935</td>\n",
       "    </tr>\n",
       "    <tr>\n",
       "      <td>2020-03-15</td>\n",
       "      <td>146.291295</td>\n",
       "    </tr>\n",
       "    <tr>\n",
       "      <td>2020-03-16</td>\n",
       "      <td>146.433008</td>\n",
       "    </tr>\n",
       "    <tr>\n",
       "      <td>2020-03-17</td>\n",
       "      <td>146.966573</td>\n",
       "    </tr>\n",
       "    <tr>\n",
       "      <td>2020-03-18</td>\n",
       "      <td>146.951562</td>\n",
       "    </tr>\n",
       "    <tr>\n",
       "      <td>2020-03-19</td>\n",
       "      <td>146.943107</td>\n",
       "    </tr>\n",
       "    <tr>\n",
       "      <td>2020-03-20</td>\n",
       "      <td>150.542489</td>\n",
       "    </tr>\n",
       "    <tr>\n",
       "      <td>2020-03-21</td>\n",
       "      <td>150.871399</td>\n",
       "    </tr>\n",
       "    <tr>\n",
       "      <td>2020-03-22</td>\n",
       "      <td>146.759492</td>\n",
       "    </tr>\n",
       "    <tr>\n",
       "      <td>2020-03-23</td>\n",
       "      <td>146.806795</td>\n",
       "    </tr>\n",
       "    <tr>\n",
       "      <td>2020-03-24</td>\n",
       "      <td>147.240939</td>\n",
       "    </tr>\n",
       "    <tr>\n",
       "      <td>2020-03-25</td>\n",
       "      <td>147.568362</td>\n",
       "    </tr>\n",
       "    <tr>\n",
       "      <td>2020-03-26</td>\n",
       "      <td>147.809437</td>\n",
       "    </tr>\n",
       "    <tr>\n",
       "      <td>2020-03-27</td>\n",
       "      <td>151.176922</td>\n",
       "    </tr>\n",
       "    <tr>\n",
       "      <td>2020-03-28</td>\n",
       "      <td>151.313762</td>\n",
       "    </tr>\n",
       "    <tr>\n",
       "      <td>2020-03-29</td>\n",
       "      <td>147.131204</td>\n",
       "    </tr>\n",
       "    <tr>\n",
       "      <td>2020-03-30</td>\n",
       "      <td>147.096759</td>\n",
       "    </tr>\n",
       "    <tr>\n",
       "      <td>2020-03-31</td>\n",
       "      <td>147.527419</td>\n",
       "    </tr>\n",
       "    <tr>\n",
       "      <td>2020-04-01</td>\n",
       "      <td>150.800767</td>\n",
       "    </tr>\n",
       "  </tbody>\n",
       "</table>\n",
       "</div>"
      ],
      "text/plain": [
       "            mean_price\n",
       "date                  \n",
       "2020-02-12  145.560027\n",
       "2020-02-13  138.336328\n",
       "2020-02-14  143.576483\n",
       "2020-02-15  144.785502\n",
       "2020-02-16  140.113923\n",
       "2020-02-17  138.859226\n",
       "2020-02-18  138.719274\n",
       "2020-02-19  138.936668\n",
       "2020-02-20  139.360146\n",
       "2020-02-21  142.960662\n",
       "2020-02-22  143.513289\n",
       "2020-02-23  139.141498\n",
       "2020-02-24  138.886860\n",
       "2020-02-25  139.020726\n",
       "2020-02-26  139.133964\n",
       "2020-02-27  139.478452\n",
       "2020-02-28  143.287518\n",
       "2020-02-29  143.801765\n",
       "2020-03-01  143.649542\n",
       "2020-03-02  143.764620\n",
       "2020-03-03  143.941502\n",
       "2020-03-04  144.214342\n",
       "2020-03-05  144.549652\n",
       "2020-03-06  148.149816\n",
       "2020-03-07  148.987612\n",
       "2020-03-08  145.030942\n",
       "2020-03-09  145.022507\n",
       "2020-03-10  145.182597\n",
       "2020-03-11  145.366428\n",
       "2020-03-12  145.713813\n",
       "2020-03-13  149.777732\n",
       "2020-03-14  150.190935\n",
       "2020-03-15  146.291295\n",
       "2020-03-16  146.433008\n",
       "2020-03-17  146.966573\n",
       "2020-03-18  146.951562\n",
       "2020-03-19  146.943107\n",
       "2020-03-20  150.542489\n",
       "2020-03-21  150.871399\n",
       "2020-03-22  146.759492\n",
       "2020-03-23  146.806795\n",
       "2020-03-24  147.240939\n",
       "2020-03-25  147.568362\n",
       "2020-03-26  147.809437\n",
       "2020-03-27  151.176922\n",
       "2020-03-28  151.313762\n",
       "2020-03-29  147.131204\n",
       "2020-03-30  147.096759\n",
       "2020-03-31  147.527419\n",
       "2020-04-01  150.800767"
      ]
     },
     "execution_count": 39,
     "metadata": {},
     "output_type": "execute_result"
    }
   ],
   "source": [
    "calendar_summary.head(50)"
   ]
  },
  {
   "cell_type": "code",
   "execution_count": 42,
   "metadata": {},
   "outputs": [
    {
     "data": {
      "image/png": "[encoded data removed]",
      "text/plain": [
       "<Figure size 432x288 with 1 Axes>"
      ]
     },
     "metadata": {
      "needs_background": "light"
     },
     "output_type": "display_data"
    }
   ],
   "source": [
    "fig = plt.figure()\n",
    "plt.plot(range(len(calendar_summary)), calendar_summary['mean_price'])\n",
    "plt.xlabel('day of the year')\n",
    "plt.ylabel('average price of all listings')\n",
    "plt.title('Price vs. Day of the Year')\n",
    "fig.savefig('plot2.png')"
   ]
  },
  {
   "cell_type": "code",
   "execution_count": 32,
   "metadata": {
    "scrolled": true
   },
   "outputs": [
    {
     "name": "stdout",
     "output_type": "stream",
     "text": [
      "(18650686, 7)\n"
     ]
    },
    {
     "data": {
      "text/html": [
       "<div>\n",
       "<style scoped>\n",
       "    .dataframe tbody tr th:only-of-type {\n",
       "        vertical-align: middle;\n",
       "    }\n",
       "\n",
       "    .dataframe tbody tr th {\n",
       "        vertical-align: top;\n",
       "    }\n",
       "\n",
       "    .dataframe thead th {\n",
       "        text-align: right;\n",
       "    }\n",
       "</style>\n",
       "<table border=\"1\" class=\"dataframe\">\n",
       "  <thead>\n",
       "    <tr style=\"text-align: right;\">\n",
       "      <th></th>\n",
       "      <th>listing_id</th>\n",
       "      <th>date</th>\n",
       "      <th>available</th>\n",
       "      <th>price</th>\n",
       "      <th>adjusted_price</th>\n",
       "      <th>minimum_nights</th>\n",
       "      <th>maximum_nights</th>\n",
       "    </tr>\n",
       "  </thead>\n",
       "  <tbody>\n",
       "    <tr>\n",
       "      <td>0</td>\n",
       "      <td>21456</td>\n",
       "      <td>2020-02-12</td>\n",
       "      <td>t</td>\n",
       "      <td>$99.00</td>\n",
       "      <td>$99.00</td>\n",
       "      <td>30.0</td>\n",
       "      <td>365.0</td>\n",
       "    </tr>\n",
       "    <tr>\n",
       "      <td>1</td>\n",
       "      <td>21456</td>\n",
       "      <td>2020-02-13</td>\n",
       "      <td>t</td>\n",
       "      <td>$99.00</td>\n",
       "      <td>$99.00</td>\n",
       "      <td>30.0</td>\n",
       "      <td>365.0</td>\n",
       "    </tr>\n",
       "    <tr>\n",
       "      <td>2</td>\n",
       "      <td>21456</td>\n",
       "      <td>2020-02-14</td>\n",
       "      <td>t</td>\n",
       "      <td>$99.00</td>\n",
       "      <td>$99.00</td>\n",
       "      <td>30.0</td>\n",
       "      <td>365.0</td>\n",
       "    </tr>\n",
       "    <tr>\n",
       "      <td>3</td>\n",
       "      <td>21456</td>\n",
       "      <td>2020-02-15</td>\n",
       "      <td>t</td>\n",
       "      <td>$99.00</td>\n",
       "      <td>$99.00</td>\n",
       "      <td>30.0</td>\n",
       "      <td>365.0</td>\n",
       "    </tr>\n",
       "    <tr>\n",
       "      <td>4</td>\n",
       "      <td>21456</td>\n",
       "      <td>2020-02-16</td>\n",
       "      <td>t</td>\n",
       "      <td>$99.00</td>\n",
       "      <td>$99.00</td>\n",
       "      <td>30.0</td>\n",
       "      <td>365.0</td>\n",
       "    </tr>\n",
       "  </tbody>\n",
       "</table>\n",
       "</div>"
      ],
      "text/plain": [
       "   listing_id        date available   price adjusted_price  minimum_nights  \\\n",
       "0       21456  2020-02-12         t  $99.00         $99.00            30.0   \n",
       "1       21456  2020-02-13         t  $99.00         $99.00            30.0   \n",
       "2       21456  2020-02-14         t  $99.00         $99.00            30.0   \n",
       "3       21456  2020-02-15         t  $99.00         $99.00            30.0   \n",
       "4       21456  2020-02-16         t  $99.00         $99.00            30.0   \n",
       "\n",
       "   maximum_nights  \n",
       "0           365.0  \n",
       "1           365.0  \n",
       "2           365.0  \n",
       "3           365.0  \n",
       "4           365.0  "
      ]
     },
     "execution_count": 32,
     "metadata": {},
     "output_type": "execute_result"
    }
   ],
   "source": [
    "print(calendar.shape)\n",
    "calendar.head()"
   ]
  },
  {
   "cell_type": "code",
   "execution_count": 31,
   "metadata": {},
   "outputs": [
    {
     "ename": "KeyboardInterrupt",
     "evalue": "",
     "output_type": "error",
     "traceback": [
      "\u001b[0;31m---------------------------------------------------------------------------\u001b[0m",
      "\u001b[0;31mKeyboardInterrupt\u001b[0m                         Traceback (most recent call last)",
      "\u001b[0;32m<ipython-input-31-1cc4e829686b>\u001b[0m in \u001b[0;36m<module>\u001b[0;34m\u001b[0m\n\u001b[0;32m----> 1\u001b[0;31m \u001b[0mcalendar\u001b[0m\u001b[0;34m.\u001b[0m\u001b[0mloc\u001b[0m\u001b[0;34m[\u001b[0m\u001b[0;34m:\u001b[0m\u001b[0;34m,\u001b[0m\u001b[0;34m\"adjusted_price\"\u001b[0m\u001b[0;34m]\u001b[0m\u001b[0;34m.\u001b[0m\u001b[0msort_values\u001b[0m\u001b[0;34m(\u001b[0m\u001b[0;34m)\u001b[0m\u001b[0;34m\u001b[0m\u001b[0;34m\u001b[0m\u001b[0m\n\u001b[0m",
      "\u001b[0;32m/opt/anaconda3/lib/python3.7/site-packages/pandas/core/series.py\u001b[0m in \u001b[0;36msort_values\u001b[0;34m(self, axis, ascending, inplace, kind, na_position)\u001b[0m\n\u001b[1;32m   3162\u001b[0m         \u001b[0midx\u001b[0m \u001b[0;34m=\u001b[0m \u001b[0mibase\u001b[0m\u001b[0;34m.\u001b[0m\u001b[0mdefault_index\u001b[0m\u001b[0;34m(\u001b[0m\u001b[0mlen\u001b[0m\u001b[0;34m(\u001b[0m\u001b[0mself\u001b[0m\u001b[0;34m)\u001b[0m\u001b[0;34m)\u001b[0m\u001b[0;34m\u001b[0m\u001b[0;34m\u001b[0m\u001b[0m\n\u001b[1;32m   3163\u001b[0m \u001b[0;34m\u001b[0m\u001b[0m\n\u001b[0;32m-> 3164\u001b[0;31m         \u001b[0margsorted\u001b[0m \u001b[0;34m=\u001b[0m \u001b[0m_try_kind_sort\u001b[0m\u001b[0;34m(\u001b[0m\u001b[0marr\u001b[0m\u001b[0;34m[\u001b[0m\u001b[0mgood\u001b[0m\u001b[0;34m]\u001b[0m\u001b[0;34m)\u001b[0m\u001b[0;34m\u001b[0m\u001b[0;34m\u001b[0m\u001b[0m\n\u001b[0m\u001b[1;32m   3165\u001b[0m \u001b[0;34m\u001b[0m\u001b[0m\n\u001b[1;32m   3166\u001b[0m         \u001b[0;32mif\u001b[0m \u001b[0mis_list_like\u001b[0m\u001b[0;34m(\u001b[0m\u001b[0mascending\u001b[0m\u001b[0;34m)\u001b[0m\u001b[0;34m:\u001b[0m\u001b[0;34m\u001b[0m\u001b[0;34m\u001b[0m\u001b[0m\n",
      "\u001b[0;32m/opt/anaconda3/lib/python3.7/site-packages/pandas/core/series.py\u001b[0m in \u001b[0;36m_try_kind_sort\u001b[0;34m(arr)\u001b[0m\n\u001b[1;32m   3148\u001b[0m             \u001b[0;32mtry\u001b[0m\u001b[0;34m:\u001b[0m\u001b[0;34m\u001b[0m\u001b[0;34m\u001b[0m\u001b[0m\n\u001b[1;32m   3149\u001b[0m                 \u001b[0;31m# if kind==mergesort, it can fail for object dtype\u001b[0m\u001b[0;34m\u001b[0m\u001b[0;34m\u001b[0m\u001b[0;34m\u001b[0m\u001b[0m\n\u001b[0;32m-> 3150\u001b[0;31m                 \u001b[0;32mreturn\u001b[0m \u001b[0marr\u001b[0m\u001b[0;34m.\u001b[0m\u001b[0margsort\u001b[0m\u001b[0;34m(\u001b[0m\u001b[0mkind\u001b[0m\u001b[0;34m=\u001b[0m\u001b[0mkind\u001b[0m\u001b[0;34m)\u001b[0m\u001b[0;34m\u001b[0m\u001b[0;34m\u001b[0m\u001b[0m\n\u001b[0m\u001b[1;32m   3151\u001b[0m             \u001b[0;32mexcept\u001b[0m \u001b[0mTypeError\u001b[0m\u001b[0;34m:\u001b[0m\u001b[0;34m\u001b[0m\u001b[0;34m\u001b[0m\u001b[0m\n\u001b[1;32m   3152\u001b[0m                 \u001b[0;31m# stable sort not available for object dtype\u001b[0m\u001b[0;34m\u001b[0m\u001b[0;34m\u001b[0m\u001b[0;34m\u001b[0m\u001b[0m\n",
      "\u001b[0;31mKeyboardInterrupt\u001b[0m: "
     ]
    }
   ],
   "source": [
    "calendar.loc[:,\"adjusted_price\"].sort_values()"
   ]
  },
  {
   "cell_type": "code",
   "execution_count": 19,
   "metadata": {},
   "outputs": [
    {
     "data": {
      "text/plain": [
       "365"
      ]
     },
     "execution_count": 19,
     "metadata": {},
     "output_type": "execute_result"
    }
   ],
   "source": [
    "sum(calendar.loc[:,\"listing_id\"] == 21456)"
   ]
  },
  {
   "cell_type": "code",
   "execution_count": 63,
   "metadata": {},
   "outputs": [
    {
     "name": "stdout",
     "output_type": "stream",
     "text": [
      "                percent_NA\n",
      "listing_id        0.000000\n",
      "date              0.000000\n",
      "available         0.000000\n",
      "price             0.004856\n",
      "adjusted_price    0.004856\n",
      "minimum_nights    0.003557\n",
      "maximum_nights    0.003557\n"
     ]
    }
   ],
   "source": [
    "percent_NA = calendar.isnull().sum() * 100 / len(calendar)\n",
    "NA_info = pd.DataFrame({'percent_NA': percent_NA})\n",
    "print(NA_info)"
   ]
  },
  {
   "cell_type": "markdown",
   "metadata": {},
   "source": [
    "For the calendar data, we have information on availability (occupancy), price, adjusted price, minimum nights, and maximum nights for a given listing on a given date. Luckily, there doesn't seem to be much missing information for this dataset, either. This information will be useful later on in the project when we project annual income from a listing, since this dataset will give us information on the price of listings throughout the year as well as their occupancy. That being said, there's not much information here worth exploring since we get price, minimum_nights, and maximum_nights in the listings dataset. The occupancy throughout the year, however, will be of key interest later on."
   ]
  },
  {
   "cell_type": "markdown",
   "metadata": {},
   "source": [
    "## Comments\n",
    "\n",
    "In summary, there are a total of 7 files available for New York. \n",
    "1. neighborhoods.csv and neighborhoods.geojson: contains geographical information on neighborhoods in New York. \n",
    "2. listings.csv, listings_full.csv: contains 106 variables for each listing, including price.\n",
    "3. reviews.csv, reviews_full.csv: contains information such as review text, reviewer ID, and listing ID.\n",
    "4. calendar.csv: contains information on availability (occupancy), price, adjusted price, minimum nights, and maximum nights for a given listing on a given date\n",
    "\n",
    "Overall, most of the datasets don't have much missing data. The one exception is listings_full.csv, which we will need to do significant data cleaning on and figure out what to do with the missing data. We would say the overall data quality is pretty good for the New York Airbnb datasets.\n",
    "\n",
    "We believe the data on reviews and listings are the most interesting to explore, so we will do EDA on those datasets. We will use the other datasets (neighborhood, calendar info on listings) in some way when we fit our model."
   ]
  },
  {
   "cell_type": "markdown",
   "metadata": {},
   "source": [
    "# Listings\n",
    "\n",
    "The condensed listings dataset contains 16 features that are useful for inital plotting: id, name, host_id, host_name, neighbourhood_group, neighbourhood, latitude, longitude, room_type, price, minimum_nights, number_of_reviews, last_review, reviews_per_month, calculated_host_listings_count, and availability_365. "
   ]
  },
  {
   "cell_type": "markdown",
   "metadata": {},
   "source": [
    "### Exploring the relationship between location, price, and number of listings"
   ]
  },
  {
   "cell_type": "markdown",
   "metadata": {},
   "source": [
    "Intuitively, the nightly rate of a listing is likely to be correlated with the location of the listing. Also, the number of listings in a neighborhood may be associated with the neighborhood location, too. Furthermore, we imagine the nightly price may be related to the number of listings in the region due to the supply-demand dynamics. Therefore, we will visualize the relationship between location, price, and number of listings in the scatter plot below."
   ]
  },
  {
   "cell_type": "code",
   "execution_count": 17,
   "metadata": {},
   "outputs": [],
   "source": [
    "# prepare sub-group data for the plot of price against neighborhood location\n",
    "data_neighbor_all = (\n",
    "    listings\n",
    "    .groupby(\"neighbourhood\")\n",
    ")\n",
    "\n",
    "count_by_neighbor = data_neighbor_all[\"id\"].count()\n",
    "price_by_neighbor = data_neighbor_all[\"price\"].agg(np.mean)\n",
    "latitude_by_neighbor = data_neighbor_all[\"latitude\"].agg(np.mean)\n",
    "longitude_by_neighbor = data_neighbor_all[\"longitude\"].agg(np.mean)\n",
    "\n",
    "metric_by_neighbor = pd.DataFrame({\n",
    "        \"count\" : count_by_neighbor,\n",
    "        \"price\" : price_by_neighbor,\n",
    "        \"latitude\": latitude_by_neighbor,\n",
    "        \"longitude\": longitude_by_neighbor\n",
    "    }\n",
    ")"
   ]
  },
  {
   "cell_type": "code",
   "execution_count": 18,
   "metadata": {},
   "outputs": [
    {
     "data": {
      "text/plain": [
       "<matplotlib.legend.Legend at 0x1a53588b10>"
      ]
     },
     "execution_count": 18,
     "metadata": {},
     "output_type": "execute_result"
    },
    {
     "data": {
      "image/png": "[encoded data removed]",
      "text/plain": [
       "<Figure size 576x432 with 1 Axes>"
      ]
     },
     "metadata": {},
     "output_type": "display_data"
    }
   ],
   "source": [
    "sns.set(color_codes=True)\n",
    "plt.figure(figsize=(8,6))\n",
    "plot1 = sns.scatterplot(data = metric_by_neighbor, x = \"latitude\", y = \"longitude\"\n",
    "                        ,hue = \"price\" \n",
    "                        ,size = \"count\"\n",
    "                        ,sizes = (50,500)\n",
    "                       )\n",
    "plot1.set_title(\"Price and Number of Listings vs. the Neighborhood Location\")\n",
    "plot1.legend(loc = \"lower right\")"
   ]
  },
  {
   "cell_type": "markdown",
   "metadata": {},
   "source": [
    "Let's now check the exact neighborhoods that have the most expensive listings or the highest number of listings."
   ]
  },
  {
   "cell_type": "code",
   "execution_count": 19,
   "metadata": {},
   "outputs": [
    {
     "name": "stdout",
     "output_type": "stream",
     "text": [
      "neighbourhood\n",
      "Manhattan Beach     1098.800000\n",
      "Fort Wadsworth       800.000000\n",
      "Woodrow              700.000000\n",
      "Theater District     690.763754\n",
      "Country Club         525.000000\n",
      "Name: price, dtype: float64\n",
      "\n",
      "neighbourhood\n",
      "Bedford-Stuyvesant    3974\n",
      "Williamsburg          3936\n",
      "Harlem                2746\n",
      "Bushwick              2504\n",
      "Hell's Kitchen        2052\n",
      "Name: count, dtype: int64\n"
     ]
    }
   ],
   "source": [
    "print(metric_by_neighbor[\"price\"].sort_values(ascending = False).head(), end = '\\n\\n')\n",
    "print(metric_by_neighbor[\"count\"].sort_values(ascending = False).head())"
   ]
  },
  {
   "cell_type": "markdown",
   "metadata": {},
   "source": [
    "Surprisingly, listings in Manhattan Beach (in Brooklyn) have the highest average listing price, whereas Bedford-Stuyvesant provides the largest number of listings. "
   ]
  },
  {
   "cell_type": "markdown",
   "metadata": {},
   "source": [
    "### Distributions of number of bedrooms, bathrooms, guests to be accommodated, and the number beds\n",
    "\n",
    "The number of bedrooms, bathrooms, guests to be accommodated, and the number of beds are also potential features of a listing that can impact the price. Hence, we want to have a first glance of these four variables. "
   ]
  },
  {
   "cell_type": "code",
   "execution_count": 21,
   "metadata": {
    "scrolled": true
   },
   "outputs": [
    {
     "data": {
      "text/plain": [
       "<matplotlib.axes._subplots.AxesSubplot at 0x1a5382e310>"
      ]
     },
     "execution_count": 21,
     "metadata": {},
     "output_type": "execute_result"
    },
    {
     "data": {
      "image/png": "[encoded data removed]",
      "text/plain": [
       "<Figure size 648x648 with 4 Axes>"
      ]
     },
     "metadata": {},
     "output_type": "display_data"
    }
   ],
   "source": [
    "plt.figure(figsize=(9,9))\n",
    "plt.subplot(221)\n",
    "sns.distplot(listings_full[\"bedrooms\"].dropna(), kde=False)\n",
    "plt.subplot(222)\n",
    "sns.distplot(listings_full[\"bathrooms\"].dropna(), kde=False)\n",
    "plt.subplot(223)\n",
    "sns.distplot(listings_full[\"accommodates\"].dropna(), kde=False)\n",
    "plt.subplot(224)\n",
    "sns.distplot(listings_full[\"beds\"].dropna(), kde=False)"
   ]
  },
  {
   "cell_type": "markdown",
   "metadata": {},
   "source": []
  },
  {
   "cell_type": "markdown",
   "metadata": {},
   "source": [
    "Looking at the distributions, it appears that in general, most values of these quantities are below 5 while outliers exist in each of these variables. As such, we might consider excluding the outliers when creating our models."
   ]
  },
  {
   "cell_type": "markdown",
   "metadata": {},
   "source": [
    "### Price vs. Number of Reviews \n",
    "\n",
    "We think the number of reviews for a listing should also impact its price, so let's explore that relationship now."
   ]
  },
  {
   "cell_type": "code",
   "execution_count": 35,
   "metadata": {},
   "outputs": [
    {
     "data": {
      "text/plain": [
       "Text(0.5, 1.0, 'Price vs. Number of reviews')"
      ]
     },
     "execution_count": 35,
     "metadata": {},
     "output_type": "execute_result"
    },
    {
     "data": {
      "image/png": "[encoded data removed]",
      "text/plain": [
       "<Figure size 432x288 with 1 Axes>"
      ]
     },
     "metadata": {},
     "output_type": "display_data"
    }
   ],
   "source": [
    "sns.scatterplot(x = listings[\"number_of_reviews\"], y = listings[\"price\"])\n",
    "plt.title('Price vs. Number of reviews')"
   ]
  },
  {
   "cell_type": "markdown",
   "metadata": {},
   "source": [
    "In the scatterplot, we can see that as the number of reviews increases, the price actually decreases, which was contrary to our initial expectation. One possible reason for this is that when the price of a listing is extremely high, fewer people are willing to rent that listing, and conversely, cheaper listings will be more popular and thus have more reviews."
   ]
  },
  {
   "cell_type": "markdown",
   "metadata": {},
   "source": [
    "### Price vs. Reviews per Month\n",
    "\n",
    "One concern with the previous plot is that older listings may have more reviews, but the age of listing likely doesn't have any impact on the price. Therefore, we also want to look at the relationship between price and reviews per month. Ideally, we should observe the same relationship as price and number of reviews."
   ]
  },
  {
   "cell_type": "code",
   "execution_count": 38,
   "metadata": {},
   "outputs": [
    {
     "data": {
      "text/plain": [
       "Text(0.5, 1.0, 'Price vs. Reviews per month')"
      ]
     },
     "execution_count": 38,
     "metadata": {},
     "output_type": "execute_result"
    },
    {
     "data": {
      "image/png": "[encoded data removed]",
      "text/plain": [
       "<Figure size 432x288 with 1 Axes>"
      ]
     },
     "metadata": {},
     "output_type": "display_data"
    }
   ],
   "source": [
    "sns.scatterplot(x = listings[\"reviews_per_month\"], y = listings[\"price\"])\n",
    "plt.title('Price vs. Reviews per month')"
   ]
  },
  {
   "cell_type": "markdown",
   "metadata": {},
   "source": [
    "As it turns out, we observe a similar pattern to the previous scatter plot (price vs. number of reviews), where the price decreases as the number of reviews per month increase, which is what we expected (and hoped) we would observe."
   ]
  },
  {
   "cell_type": "markdown",
   "metadata": {},
   "source": [
    "### Listing Types\n",
    "\n",
    "One interesting feature in the listings dataset is the type of listing. The listing can fall into four different categories: entire home/apartment, private room, shared room, and hotel room. Let's look at the distribution of listing types."
   ]
  },
  {
   "cell_type": "code",
   "execution_count": 33,
   "metadata": {
    "scrolled": true
   },
   "outputs": [
    {
     "data": {
      "text/plain": [
       "<matplotlib.axes._subplots.AxesSubplot at 0x1a538fe6d0>"
      ]
     },
     "execution_count": 33,
     "metadata": {},
     "output_type": "execute_result"
    },
    {
     "data": {
      "image/png": "[encoded data removed]",
      "text/plain": [
       "<Figure size 432x288 with 1 Axes>"
      ]
     },
     "metadata": {},
     "output_type": "display_data"
    }
   ],
   "source": [
    "sns.set_style('darkgrid')\n",
    "sns.countplot(listings['room_type'])"
   ]
  },
  {
   "cell_type": "markdown",
   "metadata": {},
   "source": [
    "In the plot, we can see that the \"Entire home/apt\" and \"Private room\" listing types are the most popular by far while the \"Shared room\" and \"Hotel room\" listings are much lower in frequency. From this, we can infer that our dataset is dominated by listings that are entire homes/apartments or private rooms in a home/apartment."
   ]
  },
  {
   "cell_type": "markdown",
   "metadata": {},
   "source": [
    "# Reviews\n",
    "\n",
    "The full reviews dataset contains 6 features: listing_id, review id, date, reviewer_id, reviewer_name, and comments. We will create new features based on the comments and do EDA on those features. Here are the features we made:\n",
    "\n",
    "1. nwords: the number of words on the review\n",
    "2. punc_prop: the proportion of punctuations used in a comment\n",
    "3. excl: whether or not there are more than 2 exclamation points in a row in a comment\n",
    "4. propC: the proportion of capitalized letters in a comment.\n",
    "\n",
    "We believe these features will give us insights into the nature of the reviews and could reflect certain qualities that may be helpful to our model later. \n",
    "\n",
    "Furthermore, one of our goals in this project is to create a sentiment score for each review, and use those scores as a predictor for listing income. Since our data is unlabeled by nature, we need to use an unsupervised learning algorithm to first categorize the data into (roughly) three groups of positive, negative and neutral sentiments. To accomplish that, we created a word cloud, which we will use later in our sentiment score assignments. "
   ]
  },
  {
   "cell_type": "code",
   "execution_count": 3,
   "metadata": {
    "scrolled": true
   },
   "outputs": [
    {
     "data": {
      "text/html": [
       "<div>\n",
       "<style scoped>\n",
       "    .dataframe tbody tr th:only-of-type {\n",
       "        vertical-align: middle;\n",
       "    }\n",
       "\n",
       "    .dataframe tbody tr th {\n",
       "        vertical-align: top;\n",
       "    }\n",
       "\n",
       "    .dataframe thead th {\n",
       "        text-align: right;\n",
       "    }\n",
       "</style>\n",
       "<table border=\"1\" class=\"dataframe\">\n",
       "  <thead>\n",
       "    <tr style=\"text-align: right;\">\n",
       "      <th></th>\n",
       "      <th>listing_id</th>\n",
       "      <th>id</th>\n",
       "      <th>date</th>\n",
       "      <th>reviewer_id</th>\n",
       "      <th>reviewer_name</th>\n",
       "      <th>comments</th>\n",
       "    </tr>\n",
       "  </thead>\n",
       "  <tbody>\n",
       "    <tr>\n",
       "      <td>0</td>\n",
       "      <td>2595</td>\n",
       "      <td>17857</td>\n",
       "      <td>2009-11-21</td>\n",
       "      <td>50679</td>\n",
       "      <td>Jean</td>\n",
       "      <td>Notre séjour de trois nuits.\\r\\nNous avons app...</td>\n",
       "    </tr>\n",
       "    <tr>\n",
       "      <td>1</td>\n",
       "      <td>2595</td>\n",
       "      <td>19176</td>\n",
       "      <td>2009-12-05</td>\n",
       "      <td>53267</td>\n",
       "      <td>Cate</td>\n",
       "      <td>Great experience.</td>\n",
       "    </tr>\n",
       "    <tr>\n",
       "      <td>2</td>\n",
       "      <td>2595</td>\n",
       "      <td>19760</td>\n",
       "      <td>2009-12-10</td>\n",
       "      <td>38960</td>\n",
       "      <td>Anita</td>\n",
       "      <td>I've stayed with my friend at the Midtown Cast...</td>\n",
       "    </tr>\n",
       "    <tr>\n",
       "      <td>3</td>\n",
       "      <td>2595</td>\n",
       "      <td>34320</td>\n",
       "      <td>2010-04-09</td>\n",
       "      <td>71130</td>\n",
       "      <td>Kai-Uwe</td>\n",
       "      <td>We've been staying here for about 9 nights, en...</td>\n",
       "    </tr>\n",
       "    <tr>\n",
       "      <td>4</td>\n",
       "      <td>2595</td>\n",
       "      <td>46312</td>\n",
       "      <td>2010-05-25</td>\n",
       "      <td>117113</td>\n",
       "      <td>Alicia</td>\n",
       "      <td>We had a wonderful stay at Jennifer's charming...</td>\n",
       "    </tr>\n",
       "  </tbody>\n",
       "</table>\n",
       "</div>"
      ],
      "text/plain": [
       "   listing_id     id        date  reviewer_id reviewer_name  \\\n",
       "0        2595  17857  2009-11-21        50679          Jean   \n",
       "1        2595  19176  2009-12-05        53267          Cate   \n",
       "2        2595  19760  2009-12-10        38960         Anita   \n",
       "3        2595  34320  2010-04-09        71130       Kai-Uwe   \n",
       "4        2595  46312  2010-05-25       117113        Alicia   \n",
       "\n",
       "                                            comments  \n",
       "0  Notre séjour de trois nuits.\\r\\nNous avons app...  \n",
       "1                                  Great experience.  \n",
       "2  I've stayed with my friend at the Midtown Cast...  \n",
       "3  We've been staying here for about 9 nights, en...  \n",
       "4  We had a wonderful stay at Jennifer's charming...  "
      ]
     },
     "execution_count": 3,
     "metadata": {},
     "output_type": "execute_result"
    }
   ],
   "source": [
    "## drop observations in the datset with no reviews\n",
    "reviews_full = reviews_full.dropna(subset=[\"comments\"])\n",
    "reviews_full.head()"
   ]
  },
  {
   "cell_type": "markdown",
   "metadata": {},
   "source": [
    "### Feature 1: Number of Words"
   ]
  },
  {
   "cell_type": "code",
   "execution_count": null,
   "metadata": {},
   "outputs": [],
   "source": []
  },
  {
   "cell_type": "code",
   "execution_count": 4,
   "metadata": {
    "scrolled": true
   },
   "outputs": [
    {
     "data": {
      "text/plain": [
       "<matplotlib.axes._subplots.AxesSubplot at 0x1a19f9e150>"
      ]
     },
     "execution_count": 4,
     "metadata": {},
     "output_type": "execute_result"
    },
    {
     "data": {
      "image/png": "[encoded data removed]",
      "text/plain": [
       "<Figure size 432x288 with 1 Axes>"
      ]
     },
     "metadata": {
      "needs_background": "light"
     },
     "output_type": "display_data"
    }
   ],
   "source": [
    "## count the length of a review in terms of number of words\n",
    "def count_words(string):\n",
    "    return len(string.split())\n",
    "\n",
    "reviews_full[\"nwords\"] = reviews_full[\"comments\"].apply(count_words)\n",
    "sns.distplot(reviews_full[\"nwords\"])"
   ]
  },
  {
   "cell_type": "code",
   "execution_count": null,
   "metadata": {},
   "outputs": [],
   "source": []
  },
  {
   "cell_type": "markdown",
   "metadata": {},
   "source": [
    "Not surprisingly, the distribution of comments is highly right skewed, and most comments seem to be fewer than 200 words long."
   ]
  },
  {
   "cell_type": "markdown",
   "metadata": {},
   "source": [
    "### Feature 2: Proportion of punctuations"
   ]
  },
  {
   "cell_type": "code",
   "execution_count": 5,
   "metadata": {
    "scrolled": true
   },
   "outputs": [
    {
     "data": {
      "text/plain": [
       "<matplotlib.axes._subplots.AxesSubplot at 0x1a1b6b3990>"
      ]
     },
     "execution_count": 5,
     "metadata": {},
     "output_type": "execute_result"
    },
    {
     "data": {
      "image/png": "[encoded data removed]",
      "text/plain": [
       "<Figure size 432x288 with 1 Axes>"
      ]
     },
     "metadata": {
      "needs_background": "light"
     },
     "output_type": "display_data"
    }
   ],
   "source": [
    "## returns the proportion of punctuation marks in the comment\n",
    "def prop_punc(input_str):\n",
    "    return len(re.findall(f\"[{string.punctuation}]\", input_str))/len(input_str)\n",
    "\n",
    "reviews_full[\"punc_prop\"] = reviews_full[\"comments\"].apply(prop_punc)\n",
    "sns.distplot(reviews_full[\"punc_prop\"], kde=False)"
   ]
  },
  {
   "cell_type": "code",
   "execution_count": 7,
   "metadata": {
    "scrolled": false
   },
   "outputs": [
    {
     "data": {
      "text/plain": [
       "301         .\n",
       "2361        .\n",
       "3752       :)\n",
       "5960       ..\n",
       "14351       .\n",
       "           ..\n",
       "1249935     .\n",
       "1250789     .\n",
       "1253146     .\n",
       "1253249     .\n",
       "1255242     .\n",
       "Name: comments, Length: 1435, dtype: object"
      ]
     },
     "execution_count": 7,
     "metadata": {},
     "output_type": "execute_result"
    }
   ],
   "source": [
    "reviews_full[\"comments\"][reviews_full[\"punc_prop\"]>.6]"
   ]
  },
  {
   "cell_type": "markdown",
   "metadata": {},
   "source": [
    "It appears that there are quite a few \"reviews\" that contain only punctuation marks. We can interpret this as some kind of empty review (since I'm assuming the users put these \"reviews\" in because Airbnb required them to comment on the accomodation in some way). The fact that these users left these \"empty\" reviews may say something about the accomodation or the host, so we will keep this in mind as we build our model."
   ]
  },
  {
   "cell_type": "markdown",
   "metadata": {},
   "source": [
    "The nightly rate of a listing is highly likely to correlated with the location of the listing. The number of listings in a neighborhood may be associated with the neighborhood location, too. Furthermore, we imagine the nightly price may be related to the number of listings in the region due to the supply-demand dynamics. Therefore, we will visualize the relationship between location, price, and number of listings in the scatter plot below."
   ]
  },
  {
   "cell_type": "markdown",
   "metadata": {},
   "source": [
    "### Feature 3: More than 2 exclamation points in a row "
   ]
  },
  {
   "cell_type": "code",
   "execution_count": 8,
   "metadata": {
    "scrolled": true
   },
   "outputs": [
    {
     "data": {
      "text/plain": [
       "<matplotlib.axes._subplots.AxesSubplot at 0x1a402c2750>"
      ]
     },
     "execution_count": 8,
     "metadata": {},
     "output_type": "execute_result"
    },
    {
     "data": {
      "image/png": "[encoded data removed]",
      "text/plain": [
       "<Figure size 432x288 with 1 Axes>"
      ]
     },
     "metadata": {
      "needs_background": "light"
     },
     "output_type": "display_data"
    }
   ],
   "source": [
    "## returns 1 if there is more than 2 exclamation marks in a row in the review\n",
    "def excl(input_str):\n",
    "    return int(len(re.findall(\"!!(.*)\", input_str))>0)\n",
    "\n",
    "reviews_full[\">2_exclamation\"] = reviews_full[\"comments\"].apply(excl)\n",
    "sns.distplot(reviews_full[\">2_exclamation\"], kde=False, bins=2)"
   ]
  },
  {
   "cell_type": "code",
   "execution_count": 9,
   "metadata": {
    "scrolled": true
   },
   "outputs": [
    {
     "name": "stdout",
     "output_type": "stream",
     "text": [
      "64276\n",
      "0.05123006023971549\n"
     ]
    }
   ],
   "source": [
    "print(sum(reviews_full[\">2_exclamation\"] == 1)) # number of reviews with more than 2 exclamation marks\n",
    "print(sum(reviews_full[\">2_exclamation\"] == 1)/len(reviews_full)) # proportion of reviews"
   ]
  },
  {
   "cell_type": "markdown",
   "metadata": {},
   "source": [
    "As expected, most reviews don't include more than 2 exclamation marks in a row, but of the over 1.2 million reviews, 64,276 comments do, which makes it a nontrivial proportion ($\\approx 5\\%$) of the total reviews. "
   ]
  },
  {
   "cell_type": "markdown",
   "metadata": {},
   "source": [
    "### Feature 4: Proportion of capitalized letters\n"
   ]
  },
  {
   "cell_type": "code",
   "execution_count": 10,
   "metadata": {
    "scrolled": false
   },
   "outputs": [
    {
     "data": {
      "text/plain": [
       "[(0, 0.3)]"
      ]
     },
     "execution_count": 10,
     "metadata": {},
     "output_type": "execute_result"
    },
    {
     "data": {
      "image/png": "[encoded data removed]",
      "text/plain": [
       "<Figure size 432x288 with 1 Axes>"
      ]
     },
     "metadata": {
      "needs_background": "light"
     },
     "output_type": "display_data"
    }
   ],
   "source": [
    "upper = re.compile('[A-Z]')\n",
    "\n",
    "def prop_cap(input_str):\n",
    "    return len(upper.findall(input_str))/len(input_str)\n",
    "\n",
    "reviews_full[\"prop_cap\"] = reviews_full[\"comments\"].apply(prop_cap)\n",
    "\n",
    "hist = sns.distplot(reviews_full[\"prop_cap\"], kde=False)\n",
    "hist.set(xlim=(0, .3))"
   ]
  },
  {
   "cell_type": "markdown",
   "metadata": {},
   "source": [
    "It appears that most reviews don't have over 10% capitalized letters. However, those reviews that do have over 10% capitalized letters might say something about the accomodation or the host, so we will keep this feature in mind when we build our model."
   ]
  },
  {
   "cell_type": "markdown",
   "metadata": {},
   "source": [
    "## Word Cloud\n",
    "\n",
    "Again, in order to assign a sentiment score to the reviews, we need to know what positive/negative words are there in a sentence, so we will create a word cloud to understand what kinds of words exist in our data."
   ]
  },
  {
   "cell_type": "code",
   "execution_count": 11,
   "metadata": {
    "scrolled": false
   },
   "outputs": [
    {
     "data": {
      "text/plain": [
       "0    Notre séjour de trois nuits.\\r\\nNous avons app...\n",
       "1                                    Great experience.\n",
       "2    I've stayed with my friend at the Midtown Cast...\n",
       "3    We've been staying here for about 9 nights, en...\n",
       "4    We had a wonderful stay at Jennifer's charming...\n",
       "Name: comments, dtype: object"
      ]
     },
     "execution_count": 11,
     "metadata": {},
     "output_type": "execute_result"
    }
   ],
   "source": [
    "comments = reviews_full.comments.dropna()\n",
    "comments.head()"
   ]
  },
  {
   "cell_type": "markdown",
   "metadata": {},
   "source": [
    "We see there are not only English comments in the dataset (which is normal considering the size of New York). For the purpose of analysis, we now drop the comments that are non-English:"
   ]
  },
  {
   "cell_type": "code",
   "execution_count": 12,
   "metadata": {},
   "outputs": [],
   "source": [
    "## return true if string is detected as English\n",
    "def isEnglish(s):\n",
    "    try:\n",
    "        s.encode(encoding='utf-8').decode('ascii')\n",
    "    except UnicodeDecodeError:\n",
    "        return False\n",
    "    else:\n",
    "        return True"
   ]
  },
  {
   "cell_type": "code",
   "execution_count": 13,
   "metadata": {},
   "outputs": [],
   "source": [
    "def clean(s):\n",
    "    s = sub(r\"[,!?.\\/)('‘’“”+-:;–—\\r\\n\\t\\xa0]\", \" \", s)\n",
    "    return (s)\n",
    "\n",
    "comments = comments.apply(clean) # Perform data cleaning to avoid false positives for English"
   ]
  },
  {
   "cell_type": "code",
   "execution_count": 14,
   "metadata": {
    "scrolled": false
   },
   "outputs": [
    {
     "data": {
      "text/plain": [
       "0          Notre séjour de trois nuits   Nous avons appré...\n",
       "21         Tiene una ubicación excelente  Buen equipamien...\n",
       "33         Jennifer es un anfitrión increíble  Siempre es...\n",
       "53         Lisa était sympa  toujours prête à aider  L ét...\n",
       "58         Bien que la chambre soit défraichi  nous avons...\n",
       "                                 ...                        \n",
       "1255194    Un lugar muy tranquilo  La anfitriona fue muy ...\n",
       "1255214    Excelente lugar  Sin dudas nos quedaríamos ahí...\n",
       "1255222    Lovely touch when we arrive  ❤️  Amazing place...\n",
       "1255231                 Хорошо  но райончик стремноватенький\n",
       "1255244    Buen lugar todo ordenado y  privado además par...\n",
       "Name: comments, Length: 137219, dtype: object"
      ]
     },
     "execution_count": 14,
     "metadata": {},
     "output_type": "execute_result"
    }
   ],
   "source": [
    "comments.loc[comments.apply(isEnglish)==False] # Non-English comments to be dropped"
   ]
  },
  {
   "cell_type": "markdown",
   "metadata": {},
   "source": [
    "Some reviews that contain emoji's that are hard to detect using regular expressions. We decide to drop them nonetheless, as our false discovery rate should be low anyways."
   ]
  },
  {
   "cell_type": "code",
   "execution_count": 15,
   "metadata": {},
   "outputs": [],
   "source": [
    "eng_comments = comments.loc[comments.apply(isEnglish)] # just the English comments\n",
    "text = eng_comments.str.cat(sep = ' ').lower()"
   ]
  },
  {
   "cell_type": "code",
   "execution_count": 16,
   "metadata": {},
   "outputs": [
    {
     "data": {
      "image/png": "[encoded data removed]",
      "text/plain": [
       "<Figure size 720x720 with 1 Axes>"
      ]
     },
     "metadata": {
      "needs_background": "light"
     },
     "output_type": "display_data"
    }
   ],
   "source": [
    "## Generate the word cloud\n",
    "\n",
    "wc = WordCloud(background_color=\"white\", repeat=False, stopwords=set(STOPWORDS))\n",
    "wc.generate(text)\n",
    "\n",
    "fig = plt.figure(figsize = (10,10))\n",
    "plt.axis(\"off\")\n",
    "plt.imshow(wc, interpolation=\"bilinear\")\n",
    "fig.savefig('wordcloud.png', dpi = fig.dpi)\n",
    "plt.show()"
   ]
  },
  {
   "cell_type": "markdown",
   "metadata": {},
   "source": [
    "Finally, we managed to pull a word cloud, which gives us an intuition of the distribution of words.\n",
    "\n",
    "- Positive: There is a majority of good words such as 'great host', 'great location', 'recommend', 'clean';\n",
    "\n",
    "- Neutral: There are neutral words featuring objective things such as 'New York', 'subway station', 'central park';\n",
    "\n",
    "- Negative: The frequency of bad words is low. Though, we found posts like below which supposingly conveys negative emotions:"
   ]
  }
 ],
 "metadata": {
  "kernelspec": {
   "display_name": "Python 3",
   "language": "python",
   "name": "python3"
  },
  "language_info": {
   "codemirror_mode": {
    "name": "ipython",
    "version": 3
   },
   "file_extension": ".py",
   "mimetype": "text/x-python",
   "name": "python",
   "nbconvert_exporter": "python",
   "pygments_lexer": "ipython3",
   "version": "3.7.4"
  }
 },
 "nbformat": 4,
 "nbformat_minor": 2
}
